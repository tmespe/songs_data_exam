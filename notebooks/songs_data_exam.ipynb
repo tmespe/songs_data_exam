{
 "cells": [
  {
   "cell_type": "markdown",
   "metadata": {},
   "source": [
    "# <span style=\"color:blue\">Advanced Data Science: Exam Case Study on Songs Data 🎶</span>\n",
    "### Group Members: Anna-Regina ENTUS, Terje ESPEDAL, Bowei SONG"
   ]
  },
  {
   "cell_type": "markdown",
   "metadata": {},
   "source": [
    "---"
   ]
  },
  {
   "cell_type": "markdown",
   "metadata": {},
   "source": [
    "#### Case Study and Dataset Information:\n",
    "\n",
    "🎶 **This dataset contains information about songs.**\n",
    "<br>\n",
    "🎶 **Goal: Build a Machine Learning Model to predict the genre of a song.**\n",
    "\n",
    "**🎶 Dataset Size**: 32833 instances, 19 attributes\n",
    "<br>\n",
    "**🎶 Attributes**: song metrics, artist names, playlist names\n",
    "<br>\n",
    "**🎶 Target Attribute**: `genre`, 6 different genres\n",
    "<br>\n",
    "**🎶 Machine Learning Type**: Supervised Learning, Classification"
   ]
  },
  {
   "cell_type": "markdown",
   "metadata": {},
   "source": [
    "### Notebook Structure:\n",
    "1. Exploratory Data Analysis (EDA)\n",
    "2. Data Preprocessing / Cleaning\n",
    "3. Building Machine Learning Model\n",
    "4. Evaluating and Explaining Model Performance\n",
    "5. Conclusions, Limitations and Next Steps"
   ]
  },
  {
   "cell_type": "markdown",
   "metadata": {},
   "source": [
    "---"
   ]
  },
  {
   "cell_type": "code",
   "execution_count": 3,
   "metadata": {},
   "outputs": [],
   "source": [
    "#import python libraries\n",
    "import pandas as pd\n",
    "import numpy as np\n",
    "import seaborn as sns\n",
    "import matplotlib.pyplot as plt\n",
    "import plotly.express as px\n",
    "\n",
    "from sklearn.preprocessing import StandardScaler\n",
    "from sklearn.model_selection import train_test_split\n",
    "\n",
    "from sklearn.tree import DecisionTreeClassifier\n",
    "from sklearn.ensemble import RandomForestClassifier\n",
    "from xgboost import XGBClassifier\n",
    "from sklearn.metrics import accuracy_score, precision_score, recall_score, f1_score\n",
    "from sklearn import preprocessing\n",
    "from sklearn.pipeline import Pipeline\n",
    "\n",
    "from sklearn.model_selection import learning_curve, cross_val_score\n",
    "\n",
    "import joblib\n",
    "\n",
    "import warnings\n",
    "warnings.filterwarnings('ignore')\n",
    "\n",
    "# helpers\n",
    "import sys\n",
    "sys.path.append(r\"../\")\n",
    "from src.helpers import feature_importance_plot, evaluate_model, plot_confusion_matrix, print_5, print_scores, learning_curve_plot"
   ]
  },
  {
   "cell_type": "markdown",
   "metadata": {},
   "source": [
    "---"
   ]
  },
  {
   "cell_type": "markdown",
   "metadata": {},
   "source": [
    "# <span style=\"color:blue\">Exploratory Data Analysis (EDA)</span>"
   ]
  },
  {
   "cell_type": "code",
   "execution_count": 4,
   "metadata": {},
   "outputs": [
    {
     "data": {
      "text/html": [
       "<div>\n",
       "<style scoped>\n",
       "    .dataframe tbody tr th:only-of-type {\n",
       "        vertical-align: middle;\n",
       "    }\n",
       "\n",
       "    .dataframe tbody tr th {\n",
       "        vertical-align: top;\n",
       "    }\n",
       "\n",
       "    .dataframe thead th {\n",
       "        text-align: right;\n",
       "    }\n",
       "</style>\n",
       "<table border=\"1\" class=\"dataframe\">\n",
       "  <thead>\n",
       "    <tr style=\"text-align: right;\">\n",
       "      <th></th>\n",
       "      <th>track_id</th>\n",
       "      <th>track_name</th>\n",
       "      <th>track_artist</th>\n",
       "      <th>track_popularity</th>\n",
       "      <th>playlist_name</th>\n",
       "      <th>playlist_id</th>\n",
       "      <th>genre</th>\n",
       "      <th>danceability</th>\n",
       "      <th>energy</th>\n",
       "      <th>key</th>\n",
       "      <th>loudness</th>\n",
       "      <th>mode</th>\n",
       "      <th>speechiness</th>\n",
       "      <th>acousticness</th>\n",
       "      <th>instrumentalness</th>\n",
       "      <th>liveness</th>\n",
       "      <th>valence</th>\n",
       "      <th>tempo</th>\n",
       "      <th>duration_ms</th>\n",
       "    </tr>\n",
       "  </thead>\n",
       "  <tbody>\n",
       "    <tr>\n",
       "      <th>0</th>\n",
       "      <td>6f807x0ima9a1j3VPbc7VN</td>\n",
       "      <td>I Don't Care (with Justin Bieber) - Loud Luxur...</td>\n",
       "      <td>Ed Sheeran</td>\n",
       "      <td>66</td>\n",
       "      <td>Pop Remix</td>\n",
       "      <td>37i9dQZF1DXcZDD7cfEKhW</td>\n",
       "      <td>pop</td>\n",
       "      <td>0.748</td>\n",
       "      <td>0.916</td>\n",
       "      <td>6</td>\n",
       "      <td>-2.634</td>\n",
       "      <td>1</td>\n",
       "      <td>0.0583</td>\n",
       "      <td>0.1020</td>\n",
       "      <td>0.000000</td>\n",
       "      <td>0.0653</td>\n",
       "      <td>0.518</td>\n",
       "      <td>122.036</td>\n",
       "      <td>194754</td>\n",
       "    </tr>\n",
       "    <tr>\n",
       "      <th>1</th>\n",
       "      <td>0r7CVbZTWZgbTCYdfa2P31</td>\n",
       "      <td>Memories - Dillon Francis Remix</td>\n",
       "      <td>Maroon 5</td>\n",
       "      <td>67</td>\n",
       "      <td>Pop Remix</td>\n",
       "      <td>37i9dQZF1DXcZDD7cfEKhW</td>\n",
       "      <td>pop</td>\n",
       "      <td>0.726</td>\n",
       "      <td>0.815</td>\n",
       "      <td>11</td>\n",
       "      <td>-4.969</td>\n",
       "      <td>1</td>\n",
       "      <td>0.0373</td>\n",
       "      <td>0.0724</td>\n",
       "      <td>0.004210</td>\n",
       "      <td>0.3570</td>\n",
       "      <td>0.693</td>\n",
       "      <td>99.972</td>\n",
       "      <td>162600</td>\n",
       "    </tr>\n",
       "    <tr>\n",
       "      <th>2</th>\n",
       "      <td>1z1Hg7Vb0AhHDiEmnDE79l</td>\n",
       "      <td>All the Time - Don Diablo Remix</td>\n",
       "      <td>Zara Larsson</td>\n",
       "      <td>70</td>\n",
       "      <td>Pop Remix</td>\n",
       "      <td>37i9dQZF1DXcZDD7cfEKhW</td>\n",
       "      <td>pop</td>\n",
       "      <td>0.675</td>\n",
       "      <td>0.931</td>\n",
       "      <td>1</td>\n",
       "      <td>-3.432</td>\n",
       "      <td>0</td>\n",
       "      <td>0.0742</td>\n",
       "      <td>0.0794</td>\n",
       "      <td>0.000023</td>\n",
       "      <td>0.1100</td>\n",
       "      <td>0.613</td>\n",
       "      <td>124.008</td>\n",
       "      <td>176616</td>\n",
       "    </tr>\n",
       "  </tbody>\n",
       "</table>\n",
       "</div>"
      ],
      "text/plain": [
       "                 track_id                                         track_name  \\\n",
       "0  6f807x0ima9a1j3VPbc7VN  I Don't Care (with Justin Bieber) - Loud Luxur...   \n",
       "1  0r7CVbZTWZgbTCYdfa2P31                    Memories - Dillon Francis Remix   \n",
       "2  1z1Hg7Vb0AhHDiEmnDE79l                    All the Time - Don Diablo Remix   \n",
       "\n",
       "   track_artist  track_popularity playlist_name             playlist_id genre  \\\n",
       "0    Ed Sheeran                66     Pop Remix  37i9dQZF1DXcZDD7cfEKhW   pop   \n",
       "1      Maroon 5                67     Pop Remix  37i9dQZF1DXcZDD7cfEKhW   pop   \n",
       "2  Zara Larsson                70     Pop Remix  37i9dQZF1DXcZDD7cfEKhW   pop   \n",
       "\n",
       "   danceability  energy  key  loudness  mode  speechiness  acousticness  \\\n",
       "0         0.748   0.916    6    -2.634     1       0.0583        0.1020   \n",
       "1         0.726   0.815   11    -4.969     1       0.0373        0.0724   \n",
       "2         0.675   0.931    1    -3.432     0       0.0742        0.0794   \n",
       "\n",
       "   instrumentalness  liveness  valence    tempo  duration_ms  \n",
       "0          0.000000    0.0653    0.518  122.036       194754  \n",
       "1          0.004210    0.3570    0.693   99.972       162600  \n",
       "2          0.000023    0.1100    0.613  124.008       176616  "
      ]
     },
     "execution_count": 4,
     "metadata": {},
     "output_type": "execute_result"
    }
   ],
   "source": [
    "#import data\n",
    "songs_data = pd.read_csv(\"../data/songs_data.csv\")\n",
    "songs_data = pd.DataFrame(songs_data)\n",
    "songs_data.head(3)"
   ]
  },
  {
   "cell_type": "markdown",
   "metadata": {},
   "source": [
    "### Explore Data Types"
   ]
  },
  {
   "cell_type": "code",
   "execution_count": 5,
   "metadata": {},
   "outputs": [
    {
     "name": "stdout",
     "output_type": "stream",
     "text": [
      "<class 'pandas.core.frame.DataFrame'>\n",
      "RangeIndex: 32833 entries, 0 to 32832\n",
      "Data columns (total 19 columns):\n",
      " #   Column            Non-Null Count  Dtype  \n",
      "---  ------            --------------  -----  \n",
      " 0   track_id          32833 non-null  object \n",
      " 1   track_name        32828 non-null  object \n",
      " 2   track_artist      32828 non-null  object \n",
      " 3   track_popularity  32833 non-null  int64  \n",
      " 4   playlist_name     32833 non-null  object \n",
      " 5   playlist_id       32833 non-null  object \n",
      " 6   genre             32833 non-null  object \n",
      " 7   danceability      32833 non-null  float64\n",
      " 8   energy            32833 non-null  float64\n",
      " 9   key               32833 non-null  int64  \n",
      " 10  loudness          32833 non-null  float64\n",
      " 11  mode              32833 non-null  int64  \n",
      " 12  speechiness       32833 non-null  float64\n",
      " 13  acousticness      32833 non-null  float64\n",
      " 14  instrumentalness  32833 non-null  float64\n",
      " 15  liveness          32833 non-null  float64\n",
      " 16  valence           32833 non-null  float64\n",
      " 17  tempo             32833 non-null  float64\n",
      " 18  duration_ms       32833 non-null  int64  \n",
      "dtypes: float64(9), int64(4), object(6)\n",
      "memory usage: 4.8+ MB\n"
     ]
    }
   ],
   "source": [
    "#info about dataframe: check data types per column and null-values per column\n",
    "songs_data.info()"
   ]
  },
  {
   "cell_type": "markdown",
   "metadata": {},
   "source": [
    "<div class=\"alert alert-block alert-info\"> <b>Findings: </b> <br># of rows: 32833;\n",
    "# of columns: 19 <br> Datatypes: 9 columns with datatype float, 6 with object and 4 with integer. </div>\n",
    "\n",
    "\n"
   ]
  },
  {
   "cell_type": "code",
   "execution_count": 6,
   "metadata": {},
   "outputs": [
    {
     "data": {
      "text/html": [
       "<div>\n",
       "<style scoped>\n",
       "    .dataframe tbody tr th:only-of-type {\n",
       "        vertical-align: middle;\n",
       "    }\n",
       "\n",
       "    .dataframe tbody tr th {\n",
       "        vertical-align: top;\n",
       "    }\n",
       "\n",
       "    .dataframe thead th {\n",
       "        text-align: right;\n",
       "    }\n",
       "</style>\n",
       "<table border=\"1\" class=\"dataframe\">\n",
       "  <thead>\n",
       "    <tr style=\"text-align: right;\">\n",
       "      <th></th>\n",
       "      <th>track_popularity</th>\n",
       "      <th>danceability</th>\n",
       "      <th>energy</th>\n",
       "      <th>key</th>\n",
       "      <th>loudness</th>\n",
       "      <th>mode</th>\n",
       "      <th>speechiness</th>\n",
       "      <th>acousticness</th>\n",
       "      <th>instrumentalness</th>\n",
       "      <th>liveness</th>\n",
       "      <th>valence</th>\n",
       "      <th>tempo</th>\n",
       "      <th>duration_ms</th>\n",
       "    </tr>\n",
       "  </thead>\n",
       "  <tbody>\n",
       "    <tr>\n",
       "      <th>count</th>\n",
       "      <td>32833.000000</td>\n",
       "      <td>32833.000000</td>\n",
       "      <td>32833.000000</td>\n",
       "      <td>32833.000000</td>\n",
       "      <td>32833.000000</td>\n",
       "      <td>32833.000000</td>\n",
       "      <td>32833.000000</td>\n",
       "      <td>32833.000000</td>\n",
       "      <td>32833.000000</td>\n",
       "      <td>32833.000000</td>\n",
       "      <td>32833.000000</td>\n",
       "      <td>32833.000000</td>\n",
       "      <td>32833.000000</td>\n",
       "    </tr>\n",
       "    <tr>\n",
       "      <th>mean</th>\n",
       "      <td>42.477081</td>\n",
       "      <td>0.654850</td>\n",
       "      <td>0.698619</td>\n",
       "      <td>5.374471</td>\n",
       "      <td>-6.719499</td>\n",
       "      <td>0.565711</td>\n",
       "      <td>0.107068</td>\n",
       "      <td>0.175334</td>\n",
       "      <td>0.084747</td>\n",
       "      <td>0.190176</td>\n",
       "      <td>0.510561</td>\n",
       "      <td>120.881132</td>\n",
       "      <td>225799.811622</td>\n",
       "    </tr>\n",
       "    <tr>\n",
       "      <th>std</th>\n",
       "      <td>24.984074</td>\n",
       "      <td>0.145085</td>\n",
       "      <td>0.180910</td>\n",
       "      <td>3.611657</td>\n",
       "      <td>2.988436</td>\n",
       "      <td>0.495671</td>\n",
       "      <td>0.101314</td>\n",
       "      <td>0.219633</td>\n",
       "      <td>0.224230</td>\n",
       "      <td>0.154317</td>\n",
       "      <td>0.233146</td>\n",
       "      <td>26.903624</td>\n",
       "      <td>59834.006182</td>\n",
       "    </tr>\n",
       "    <tr>\n",
       "      <th>min</th>\n",
       "      <td>0.000000</td>\n",
       "      <td>0.000000</td>\n",
       "      <td>0.000175</td>\n",
       "      <td>0.000000</td>\n",
       "      <td>-46.448000</td>\n",
       "      <td>0.000000</td>\n",
       "      <td>0.000000</td>\n",
       "      <td>0.000000</td>\n",
       "      <td>0.000000</td>\n",
       "      <td>0.000000</td>\n",
       "      <td>0.000000</td>\n",
       "      <td>0.000000</td>\n",
       "      <td>4000.000000</td>\n",
       "    </tr>\n",
       "    <tr>\n",
       "      <th>25%</th>\n",
       "      <td>24.000000</td>\n",
       "      <td>0.563000</td>\n",
       "      <td>0.581000</td>\n",
       "      <td>2.000000</td>\n",
       "      <td>-8.171000</td>\n",
       "      <td>0.000000</td>\n",
       "      <td>0.041000</td>\n",
       "      <td>0.015100</td>\n",
       "      <td>0.000000</td>\n",
       "      <td>0.092700</td>\n",
       "      <td>0.331000</td>\n",
       "      <td>99.960000</td>\n",
       "      <td>187819.000000</td>\n",
       "    </tr>\n",
       "    <tr>\n",
       "      <th>50%</th>\n",
       "      <td>45.000000</td>\n",
       "      <td>0.672000</td>\n",
       "      <td>0.721000</td>\n",
       "      <td>6.000000</td>\n",
       "      <td>-6.166000</td>\n",
       "      <td>1.000000</td>\n",
       "      <td>0.062500</td>\n",
       "      <td>0.080400</td>\n",
       "      <td>0.000016</td>\n",
       "      <td>0.127000</td>\n",
       "      <td>0.512000</td>\n",
       "      <td>121.984000</td>\n",
       "      <td>216000.000000</td>\n",
       "    </tr>\n",
       "    <tr>\n",
       "      <th>75%</th>\n",
       "      <td>62.000000</td>\n",
       "      <td>0.761000</td>\n",
       "      <td>0.840000</td>\n",
       "      <td>9.000000</td>\n",
       "      <td>-4.645000</td>\n",
       "      <td>1.000000</td>\n",
       "      <td>0.132000</td>\n",
       "      <td>0.255000</td>\n",
       "      <td>0.004830</td>\n",
       "      <td>0.248000</td>\n",
       "      <td>0.693000</td>\n",
       "      <td>133.918000</td>\n",
       "      <td>253585.000000</td>\n",
       "    </tr>\n",
       "    <tr>\n",
       "      <th>max</th>\n",
       "      <td>100.000000</td>\n",
       "      <td>0.983000</td>\n",
       "      <td>1.000000</td>\n",
       "      <td>11.000000</td>\n",
       "      <td>1.275000</td>\n",
       "      <td>1.000000</td>\n",
       "      <td>0.918000</td>\n",
       "      <td>0.994000</td>\n",
       "      <td>0.994000</td>\n",
       "      <td>0.996000</td>\n",
       "      <td>0.991000</td>\n",
       "      <td>239.440000</td>\n",
       "      <td>517810.000000</td>\n",
       "    </tr>\n",
       "  </tbody>\n",
       "</table>\n",
       "</div>"
      ],
      "text/plain": [
       "       track_popularity  danceability        energy           key  \\\n",
       "count      32833.000000  32833.000000  32833.000000  32833.000000   \n",
       "mean          42.477081      0.654850      0.698619      5.374471   \n",
       "std           24.984074      0.145085      0.180910      3.611657   \n",
       "min            0.000000      0.000000      0.000175      0.000000   \n",
       "25%           24.000000      0.563000      0.581000      2.000000   \n",
       "50%           45.000000      0.672000      0.721000      6.000000   \n",
       "75%           62.000000      0.761000      0.840000      9.000000   \n",
       "max          100.000000      0.983000      1.000000     11.000000   \n",
       "\n",
       "           loudness          mode   speechiness  acousticness  \\\n",
       "count  32833.000000  32833.000000  32833.000000  32833.000000   \n",
       "mean      -6.719499      0.565711      0.107068      0.175334   \n",
       "std        2.988436      0.495671      0.101314      0.219633   \n",
       "min      -46.448000      0.000000      0.000000      0.000000   \n",
       "25%       -8.171000      0.000000      0.041000      0.015100   \n",
       "50%       -6.166000      1.000000      0.062500      0.080400   \n",
       "75%       -4.645000      1.000000      0.132000      0.255000   \n",
       "max        1.275000      1.000000      0.918000      0.994000   \n",
       "\n",
       "       instrumentalness      liveness       valence         tempo  \\\n",
       "count      32833.000000  32833.000000  32833.000000  32833.000000   \n",
       "mean           0.084747      0.190176      0.510561    120.881132   \n",
       "std            0.224230      0.154317      0.233146     26.903624   \n",
       "min            0.000000      0.000000      0.000000      0.000000   \n",
       "25%            0.000000      0.092700      0.331000     99.960000   \n",
       "50%            0.000016      0.127000      0.512000    121.984000   \n",
       "75%            0.004830      0.248000      0.693000    133.918000   \n",
       "max            0.994000      0.996000      0.991000    239.440000   \n",
       "\n",
       "         duration_ms  \n",
       "count   32833.000000  \n",
       "mean   225799.811622  \n",
       "std     59834.006182  \n",
       "min      4000.000000  \n",
       "25%    187819.000000  \n",
       "50%    216000.000000  \n",
       "75%    253585.000000  \n",
       "max    517810.000000  "
      ]
     },
     "execution_count": 6,
     "metadata": {},
     "output_type": "execute_result"
    }
   ],
   "source": [
    "#get statistical desciption\n",
    "songs_data.describe()"
   ]
  },
  {
   "cell_type": "markdown",
   "metadata": {},
   "source": [
    "### Identify missing values"
   ]
  },
  {
   "cell_type": "code",
   "execution_count": 7,
   "metadata": {},
   "outputs": [
    {
     "data": {
      "application/vnd.plotly.v1+json": {
       "config": {
        "plotlyServerURL": "https://plot.ly"
       },
       "data": [
        {
         "alignmentgroup": "True",
         "hovertemplate": "variable=0<br>Column=%{x}<br>Count of Missing Values=%{y}<extra></extra>",
         "legendgroup": "0",
         "marker": {
          "color": "#636efa",
          "pattern": {
           "shape": ""
          }
         },
         "name": "0",
         "offsetgroup": "0",
         "orientation": "v",
         "showlegend": true,
         "textposition": "auto",
         "type": "bar",
         "x": [
          "track_id",
          "track_name",
          "track_artist",
          "track_popularity",
          "playlist_name",
          "playlist_id",
          "genre",
          "danceability",
          "energy",
          "key",
          "loudness",
          "mode",
          "speechiness",
          "acousticness",
          "instrumentalness",
          "liveness",
          "valence",
          "tempo",
          "duration_ms"
         ],
         "xaxis": "x",
         "y": [
          0,
          5,
          5,
          0,
          0,
          0,
          0,
          0,
          0,
          0,
          0,
          0,
          0,
          0,
          0,
          0,
          0,
          0,
          0
         ],
         "yaxis": "y"
        }
       ],
       "layout": {
        "barmode": "relative",
        "coloraxis": {
         "showscale": false
        },
        "legend": {
         "title": {
          "text": "variable"
         },
         "tracegroupgap": 0
        },
        "template": {
         "data": {
          "bar": [
           {
            "error_x": {
             "color": "#2a3f5f"
            },
            "error_y": {
             "color": "#2a3f5f"
            },
            "marker": {
             "line": {
              "color": "#E5ECF6",
              "width": 0.5
             },
             "pattern": {
              "fillmode": "overlay",
              "size": 10,
              "solidity": 0.2
             }
            },
            "type": "bar"
           }
          ],
          "barpolar": [
           {
            "marker": {
             "line": {
              "color": "#E5ECF6",
              "width": 0.5
             },
             "pattern": {
              "fillmode": "overlay",
              "size": 10,
              "solidity": 0.2
             }
            },
            "type": "barpolar"
           }
          ],
          "carpet": [
           {
            "aaxis": {
             "endlinecolor": "#2a3f5f",
             "gridcolor": "white",
             "linecolor": "white",
             "minorgridcolor": "white",
             "startlinecolor": "#2a3f5f"
            },
            "baxis": {
             "endlinecolor": "#2a3f5f",
             "gridcolor": "white",
             "linecolor": "white",
             "minorgridcolor": "white",
             "startlinecolor": "#2a3f5f"
            },
            "type": "carpet"
           }
          ],
          "choropleth": [
           {
            "colorbar": {
             "outlinewidth": 0,
             "ticks": ""
            },
            "type": "choropleth"
           }
          ],
          "contour": [
           {
            "colorbar": {
             "outlinewidth": 0,
             "ticks": ""
            },
            "colorscale": [
             [
              0,
              "#0d0887"
             ],
             [
              0.1111111111111111,
              "#46039f"
             ],
             [
              0.2222222222222222,
              "#7201a8"
             ],
             [
              0.3333333333333333,
              "#9c179e"
             ],
             [
              0.4444444444444444,
              "#bd3786"
             ],
             [
              0.5555555555555556,
              "#d8576b"
             ],
             [
              0.6666666666666666,
              "#ed7953"
             ],
             [
              0.7777777777777778,
              "#fb9f3a"
             ],
             [
              0.8888888888888888,
              "#fdca26"
             ],
             [
              1,
              "#f0f921"
             ]
            ],
            "type": "contour"
           }
          ],
          "contourcarpet": [
           {
            "colorbar": {
             "outlinewidth": 0,
             "ticks": ""
            },
            "type": "contourcarpet"
           }
          ],
          "heatmap": [
           {
            "colorbar": {
             "outlinewidth": 0,
             "ticks": ""
            },
            "colorscale": [
             [
              0,
              "#0d0887"
             ],
             [
              0.1111111111111111,
              "#46039f"
             ],
             [
              0.2222222222222222,
              "#7201a8"
             ],
             [
              0.3333333333333333,
              "#9c179e"
             ],
             [
              0.4444444444444444,
              "#bd3786"
             ],
             [
              0.5555555555555556,
              "#d8576b"
             ],
             [
              0.6666666666666666,
              "#ed7953"
             ],
             [
              0.7777777777777778,
              "#fb9f3a"
             ],
             [
              0.8888888888888888,
              "#fdca26"
             ],
             [
              1,
              "#f0f921"
             ]
            ],
            "type": "heatmap"
           }
          ],
          "heatmapgl": [
           {
            "colorbar": {
             "outlinewidth": 0,
             "ticks": ""
            },
            "colorscale": [
             [
              0,
              "#0d0887"
             ],
             [
              0.1111111111111111,
              "#46039f"
             ],
             [
              0.2222222222222222,
              "#7201a8"
             ],
             [
              0.3333333333333333,
              "#9c179e"
             ],
             [
              0.4444444444444444,
              "#bd3786"
             ],
             [
              0.5555555555555556,
              "#d8576b"
             ],
             [
              0.6666666666666666,
              "#ed7953"
             ],
             [
              0.7777777777777778,
              "#fb9f3a"
             ],
             [
              0.8888888888888888,
              "#fdca26"
             ],
             [
              1,
              "#f0f921"
             ]
            ],
            "type": "heatmapgl"
           }
          ],
          "histogram": [
           {
            "marker": {
             "pattern": {
              "fillmode": "overlay",
              "size": 10,
              "solidity": 0.2
             }
            },
            "type": "histogram"
           }
          ],
          "histogram2d": [
           {
            "colorbar": {
             "outlinewidth": 0,
             "ticks": ""
            },
            "colorscale": [
             [
              0,
              "#0d0887"
             ],
             [
              0.1111111111111111,
              "#46039f"
             ],
             [
              0.2222222222222222,
              "#7201a8"
             ],
             [
              0.3333333333333333,
              "#9c179e"
             ],
             [
              0.4444444444444444,
              "#bd3786"
             ],
             [
              0.5555555555555556,
              "#d8576b"
             ],
             [
              0.6666666666666666,
              "#ed7953"
             ],
             [
              0.7777777777777778,
              "#fb9f3a"
             ],
             [
              0.8888888888888888,
              "#fdca26"
             ],
             [
              1,
              "#f0f921"
             ]
            ],
            "type": "histogram2d"
           }
          ],
          "histogram2dcontour": [
           {
            "colorbar": {
             "outlinewidth": 0,
             "ticks": ""
            },
            "colorscale": [
             [
              0,
              "#0d0887"
             ],
             [
              0.1111111111111111,
              "#46039f"
             ],
             [
              0.2222222222222222,
              "#7201a8"
             ],
             [
              0.3333333333333333,
              "#9c179e"
             ],
             [
              0.4444444444444444,
              "#bd3786"
             ],
             [
              0.5555555555555556,
              "#d8576b"
             ],
             [
              0.6666666666666666,
              "#ed7953"
             ],
             [
              0.7777777777777778,
              "#fb9f3a"
             ],
             [
              0.8888888888888888,
              "#fdca26"
             ],
             [
              1,
              "#f0f921"
             ]
            ],
            "type": "histogram2dcontour"
           }
          ],
          "mesh3d": [
           {
            "colorbar": {
             "outlinewidth": 0,
             "ticks": ""
            },
            "type": "mesh3d"
           }
          ],
          "parcoords": [
           {
            "line": {
             "colorbar": {
              "outlinewidth": 0,
              "ticks": ""
             }
            },
            "type": "parcoords"
           }
          ],
          "pie": [
           {
            "automargin": true,
            "type": "pie"
           }
          ],
          "scatter": [
           {
            "marker": {
             "colorbar": {
              "outlinewidth": 0,
              "ticks": ""
             }
            },
            "type": "scatter"
           }
          ],
          "scatter3d": [
           {
            "line": {
             "colorbar": {
              "outlinewidth": 0,
              "ticks": ""
             }
            },
            "marker": {
             "colorbar": {
              "outlinewidth": 0,
              "ticks": ""
             }
            },
            "type": "scatter3d"
           }
          ],
          "scattercarpet": [
           {
            "marker": {
             "colorbar": {
              "outlinewidth": 0,
              "ticks": ""
             }
            },
            "type": "scattercarpet"
           }
          ],
          "scattergeo": [
           {
            "marker": {
             "colorbar": {
              "outlinewidth": 0,
              "ticks": ""
             }
            },
            "type": "scattergeo"
           }
          ],
          "scattergl": [
           {
            "marker": {
             "colorbar": {
              "outlinewidth": 0,
              "ticks": ""
             }
            },
            "type": "scattergl"
           }
          ],
          "scattermapbox": [
           {
            "marker": {
             "colorbar": {
              "outlinewidth": 0,
              "ticks": ""
             }
            },
            "type": "scattermapbox"
           }
          ],
          "scatterpolar": [
           {
            "marker": {
             "colorbar": {
              "outlinewidth": 0,
              "ticks": ""
             }
            },
            "type": "scatterpolar"
           }
          ],
          "scatterpolargl": [
           {
            "marker": {
             "colorbar": {
              "outlinewidth": 0,
              "ticks": ""
             }
            },
            "type": "scatterpolargl"
           }
          ],
          "scatterternary": [
           {
            "marker": {
             "colorbar": {
              "outlinewidth": 0,
              "ticks": ""
             }
            },
            "type": "scatterternary"
           }
          ],
          "surface": [
           {
            "colorbar": {
             "outlinewidth": 0,
             "ticks": ""
            },
            "colorscale": [
             [
              0,
              "#0d0887"
             ],
             [
              0.1111111111111111,
              "#46039f"
             ],
             [
              0.2222222222222222,
              "#7201a8"
             ],
             [
              0.3333333333333333,
              "#9c179e"
             ],
             [
              0.4444444444444444,
              "#bd3786"
             ],
             [
              0.5555555555555556,
              "#d8576b"
             ],
             [
              0.6666666666666666,
              "#ed7953"
             ],
             [
              0.7777777777777778,
              "#fb9f3a"
             ],
             [
              0.8888888888888888,
              "#fdca26"
             ],
             [
              1,
              "#f0f921"
             ]
            ],
            "type": "surface"
           }
          ],
          "table": [
           {
            "cells": {
             "fill": {
              "color": "#EBF0F8"
             },
             "line": {
              "color": "white"
             }
            },
            "header": {
             "fill": {
              "color": "#C8D4E3"
             },
             "line": {
              "color": "white"
             }
            },
            "type": "table"
           }
          ]
         },
         "layout": {
          "annotationdefaults": {
           "arrowcolor": "#2a3f5f",
           "arrowhead": 0,
           "arrowwidth": 1
          },
          "autotypenumbers": "strict",
          "coloraxis": {
           "colorbar": {
            "outlinewidth": 0,
            "ticks": ""
           }
          },
          "colorscale": {
           "diverging": [
            [
             0,
             "#8e0152"
            ],
            [
             0.1,
             "#c51b7d"
            ],
            [
             0.2,
             "#de77ae"
            ],
            [
             0.3,
             "#f1b6da"
            ],
            [
             0.4,
             "#fde0ef"
            ],
            [
             0.5,
             "#f7f7f7"
            ],
            [
             0.6,
             "#e6f5d0"
            ],
            [
             0.7,
             "#b8e186"
            ],
            [
             0.8,
             "#7fbc41"
            ],
            [
             0.9,
             "#4d9221"
            ],
            [
             1,
             "#276419"
            ]
           ],
           "sequential": [
            [
             0,
             "#0d0887"
            ],
            [
             0.1111111111111111,
             "#46039f"
            ],
            [
             0.2222222222222222,
             "#7201a8"
            ],
            [
             0.3333333333333333,
             "#9c179e"
            ],
            [
             0.4444444444444444,
             "#bd3786"
            ],
            [
             0.5555555555555556,
             "#d8576b"
            ],
            [
             0.6666666666666666,
             "#ed7953"
            ],
            [
             0.7777777777777778,
             "#fb9f3a"
            ],
            [
             0.8888888888888888,
             "#fdca26"
            ],
            [
             1,
             "#f0f921"
            ]
           ],
           "sequentialminus": [
            [
             0,
             "#0d0887"
            ],
            [
             0.1111111111111111,
             "#46039f"
            ],
            [
             0.2222222222222222,
             "#7201a8"
            ],
            [
             0.3333333333333333,
             "#9c179e"
            ],
            [
             0.4444444444444444,
             "#bd3786"
            ],
            [
             0.5555555555555556,
             "#d8576b"
            ],
            [
             0.6666666666666666,
             "#ed7953"
            ],
            [
             0.7777777777777778,
             "#fb9f3a"
            ],
            [
             0.8888888888888888,
             "#fdca26"
            ],
            [
             1,
             "#f0f921"
            ]
           ]
          },
          "colorway": [
           "#636efa",
           "#EF553B",
           "#00cc96",
           "#ab63fa",
           "#FFA15A",
           "#19d3f3",
           "#FF6692",
           "#B6E880",
           "#FF97FF",
           "#FECB52"
          ],
          "font": {
           "color": "#2a3f5f"
          },
          "geo": {
           "bgcolor": "white",
           "lakecolor": "white",
           "landcolor": "#E5ECF6",
           "showlakes": true,
           "showland": true,
           "subunitcolor": "white"
          },
          "hoverlabel": {
           "align": "left"
          },
          "hovermode": "closest",
          "mapbox": {
           "style": "light"
          },
          "paper_bgcolor": "white",
          "plot_bgcolor": "#E5ECF6",
          "polar": {
           "angularaxis": {
            "gridcolor": "white",
            "linecolor": "white",
            "ticks": ""
           },
           "bgcolor": "#E5ECF6",
           "radialaxis": {
            "gridcolor": "white",
            "linecolor": "white",
            "ticks": ""
           }
          },
          "scene": {
           "xaxis": {
            "backgroundcolor": "#E5ECF6",
            "gridcolor": "white",
            "gridwidth": 2,
            "linecolor": "white",
            "showbackground": true,
            "ticks": "",
            "zerolinecolor": "white"
           },
           "yaxis": {
            "backgroundcolor": "#E5ECF6",
            "gridcolor": "white",
            "gridwidth": 2,
            "linecolor": "white",
            "showbackground": true,
            "ticks": "",
            "zerolinecolor": "white"
           },
           "zaxis": {
            "backgroundcolor": "#E5ECF6",
            "gridcolor": "white",
            "gridwidth": 2,
            "linecolor": "white",
            "showbackground": true,
            "ticks": "",
            "zerolinecolor": "white"
           }
          },
          "shapedefaults": {
           "line": {
            "color": "#2a3f5f"
           }
          },
          "ternary": {
           "aaxis": {
            "gridcolor": "white",
            "linecolor": "white",
            "ticks": ""
           },
           "baxis": {
            "gridcolor": "white",
            "linecolor": "white",
            "ticks": ""
           },
           "bgcolor": "#E5ECF6",
           "caxis": {
            "gridcolor": "white",
            "linecolor": "white",
            "ticks": ""
           }
          },
          "title": {
           "x": 0.05
          },
          "xaxis": {
           "automargin": true,
           "gridcolor": "white",
           "linecolor": "white",
           "ticks": "",
           "title": {
            "standoff": 15
           },
           "zerolinecolor": "white",
           "zerolinewidth": 2
          },
          "yaxis": {
           "automargin": true,
           "gridcolor": "white",
           "linecolor": "white",
           "ticks": "",
           "title": {
            "standoff": 15
           },
           "zerolinecolor": "white",
           "zerolinewidth": 2
          }
         }
        },
        "title": {
         "text": "Missing Values"
        },
        "xaxis": {
         "anchor": "y",
         "domain": [
          0,
          1
         ],
         "title": {
          "text": "Column"
         }
        },
        "yaxis": {
         "anchor": "x",
         "domain": [
          0,
          1
         ],
         "title": {
          "text": "Count of Missing Values"
         }
        }
       }
      }
     },
     "metadata": {},
     "output_type": "display_data"
    }
   ],
   "source": [
    "#number of features with missing data\n",
    "fig = px.bar(songs_data.isna().sum(),\n",
    "                          title=\"Missing Values\",\n",
    "                          labels={\"value\": \"Count of Missing Values\", \"index\": \"Column\"},  # Change x and y label from default to something more meaningful\n",
    "                          )\n",
    "fig.update_coloraxes(showscale=False) #hide legend"
   ]
  },
  {
   "cell_type": "code",
   "execution_count": 8,
   "metadata": {},
   "outputs": [
    {
     "data": {
      "text/plain": [
       "track_name      5\n",
       "track_artist    5\n",
       "dtype: int64"
      ]
     },
     "execution_count": 8,
     "metadata": {},
     "output_type": "execute_result"
    }
   ],
   "source": [
    "#data columns with missing values -> supporting visualization in bar plot\n",
    "missing = songs_data.isna().sum() > 0\n",
    "songs_data.isna().sum()[missing]"
   ]
  },
  {
   "cell_type": "markdown",
   "metadata": {},
   "source": [
    "<div class=\"alert alert-block alert-info\"> <b>Findings: </b> There are only 5 missing values in two columns track_name and track_artists ➡️ barely null-values at first right, could be suspicious. </div>"
   ]
  },
  {
   "cell_type": "markdown",
   "metadata": {},
   "source": [
    "<div class=\"alert alert-block alert-danger\"> <b>Consequence: </b> Could be explored further to double check if there are null values in the dataset as strings or other datatypes which are not readable as NaN. Due to time constraint, not further exlored here. </div>"
   ]
  },
  {
   "cell_type": "markdown",
   "metadata": {},
   "source": [
    "### Explore columns with datatype object to evaluate relevancy"
   ]
  },
  {
   "cell_type": "code",
   "execution_count": 9,
   "metadata": {},
   "outputs": [
    {
     "data": {
      "text/plain": [
       "track_id         28356\n",
       "track_name       23450\n",
       "track_artist     10693\n",
       "playlist_id        471\n",
       "playlist_name      449\n",
       "genre                6\n",
       "dtype: int64"
      ]
     },
     "execution_count": 9,
     "metadata": {},
     "output_type": "execute_result"
    }
   ],
   "source": [
    "#check how many categories per column\n",
    "songs_data.select_dtypes(\"object\").nunique(dropna=False).sort_values(ascending=False)"
   ]
  },
  {
   "cell_type": "markdown",
   "metadata": {},
   "source": [
    "<div class=\"alert alert-block alert-info\"> <b>Findings: </b> track_id, playlist_id, and track_name have a high number of unique categories and they don't add much value for our model. <br><br> track_artist and playlist_name have high number of categories too but our hypothesis is that they might be correlated with the genre. </div>"
   ]
  },
  {
   "cell_type": "markdown",
   "metadata": {},
   "source": [
    "<div class=\"alert alert-block alert-danger\"> <b>Consequence: </b> Drop track_id, playlist_id, and track_name during cleaning phase. <br><br> Investigate further on track_artist and playlist_name and then decide whether to keep or drop. </div>"
   ]
  },
  {
   "cell_type": "markdown",
   "metadata": {},
   "source": [
    "### Explore target column `genre` "
   ]
  },
  {
   "cell_type": "code",
   "execution_count": 10,
   "metadata": {
    "scrolled": false
   },
   "outputs": [
    {
     "data": {
      "application/vnd.plotly.v1+json": {
       "config": {
        "plotlyServerURL": "https://plot.ly"
       },
       "data": [
        {
         "alignmentgroup": "True",
         "hovertemplate": "Category=%{x}<br>Count=%{y}<br>text=%{text}<br>color=%{marker.color}<extra></extra>",
         "legendgroup": "",
         "marker": {
          "color": [
           6043,
           5746,
           5507,
           5431,
           5155,
           4951
          ],
          "coloraxis": "coloraxis",
          "pattern": {
           "shape": ""
          }
         },
         "name": "",
         "offsetgroup": "",
         "orientation": "v",
         "showlegend": false,
         "text": [
          6043,
          5746,
          5507,
          5431,
          5155,
          4951
         ],
         "textposition": "auto",
         "type": "bar",
         "x": [
          "edm",
          "rap",
          "pop",
          "r&b",
          "latin",
          "rock"
         ],
         "xaxis": "x",
         "y": [
          6043,
          5746,
          5507,
          5431,
          5155,
          4951
         ],
         "yaxis": "y"
        }
       ],
       "layout": {
        "barmode": "relative",
        "coloraxis": {
         "colorbar": {
          "title": {
           "text": "color"
          }
         },
         "colorscale": [
          [
           0,
           "#0d0887"
          ],
          [
           0.1111111111111111,
           "#46039f"
          ],
          [
           0.2222222222222222,
           "#7201a8"
          ],
          [
           0.3333333333333333,
           "#9c179e"
          ],
          [
           0.4444444444444444,
           "#bd3786"
          ],
          [
           0.5555555555555556,
           "#d8576b"
          ],
          [
           0.6666666666666666,
           "#ed7953"
          ],
          [
           0.7777777777777778,
           "#fb9f3a"
          ],
          [
           0.8888888888888888,
           "#fdca26"
          ],
          [
           1,
           "#f0f921"
          ]
         ],
         "showscale": false
        },
        "legend": {
         "tracegroupgap": 0
        },
        "template": {
         "data": {
          "bar": [
           {
            "error_x": {
             "color": "#2a3f5f"
            },
            "error_y": {
             "color": "#2a3f5f"
            },
            "marker": {
             "line": {
              "color": "#E5ECF6",
              "width": 0.5
             },
             "pattern": {
              "fillmode": "overlay",
              "size": 10,
              "solidity": 0.2
             }
            },
            "type": "bar"
           }
          ],
          "barpolar": [
           {
            "marker": {
             "line": {
              "color": "#E5ECF6",
              "width": 0.5
             },
             "pattern": {
              "fillmode": "overlay",
              "size": 10,
              "solidity": 0.2
             }
            },
            "type": "barpolar"
           }
          ],
          "carpet": [
           {
            "aaxis": {
             "endlinecolor": "#2a3f5f",
             "gridcolor": "white",
             "linecolor": "white",
             "minorgridcolor": "white",
             "startlinecolor": "#2a3f5f"
            },
            "baxis": {
             "endlinecolor": "#2a3f5f",
             "gridcolor": "white",
             "linecolor": "white",
             "minorgridcolor": "white",
             "startlinecolor": "#2a3f5f"
            },
            "type": "carpet"
           }
          ],
          "choropleth": [
           {
            "colorbar": {
             "outlinewidth": 0,
             "ticks": ""
            },
            "type": "choropleth"
           }
          ],
          "contour": [
           {
            "colorbar": {
             "outlinewidth": 0,
             "ticks": ""
            },
            "colorscale": [
             [
              0,
              "#0d0887"
             ],
             [
              0.1111111111111111,
              "#46039f"
             ],
             [
              0.2222222222222222,
              "#7201a8"
             ],
             [
              0.3333333333333333,
              "#9c179e"
             ],
             [
              0.4444444444444444,
              "#bd3786"
             ],
             [
              0.5555555555555556,
              "#d8576b"
             ],
             [
              0.6666666666666666,
              "#ed7953"
             ],
             [
              0.7777777777777778,
              "#fb9f3a"
             ],
             [
              0.8888888888888888,
              "#fdca26"
             ],
             [
              1,
              "#f0f921"
             ]
            ],
            "type": "contour"
           }
          ],
          "contourcarpet": [
           {
            "colorbar": {
             "outlinewidth": 0,
             "ticks": ""
            },
            "type": "contourcarpet"
           }
          ],
          "heatmap": [
           {
            "colorbar": {
             "outlinewidth": 0,
             "ticks": ""
            },
            "colorscale": [
             [
              0,
              "#0d0887"
             ],
             [
              0.1111111111111111,
              "#46039f"
             ],
             [
              0.2222222222222222,
              "#7201a8"
             ],
             [
              0.3333333333333333,
              "#9c179e"
             ],
             [
              0.4444444444444444,
              "#bd3786"
             ],
             [
              0.5555555555555556,
              "#d8576b"
             ],
             [
              0.6666666666666666,
              "#ed7953"
             ],
             [
              0.7777777777777778,
              "#fb9f3a"
             ],
             [
              0.8888888888888888,
              "#fdca26"
             ],
             [
              1,
              "#f0f921"
             ]
            ],
            "type": "heatmap"
           }
          ],
          "heatmapgl": [
           {
            "colorbar": {
             "outlinewidth": 0,
             "ticks": ""
            },
            "colorscale": [
             [
              0,
              "#0d0887"
             ],
             [
              0.1111111111111111,
              "#46039f"
             ],
             [
              0.2222222222222222,
              "#7201a8"
             ],
             [
              0.3333333333333333,
              "#9c179e"
             ],
             [
              0.4444444444444444,
              "#bd3786"
             ],
             [
              0.5555555555555556,
              "#d8576b"
             ],
             [
              0.6666666666666666,
              "#ed7953"
             ],
             [
              0.7777777777777778,
              "#fb9f3a"
             ],
             [
              0.8888888888888888,
              "#fdca26"
             ],
             [
              1,
              "#f0f921"
             ]
            ],
            "type": "heatmapgl"
           }
          ],
          "histogram": [
           {
            "marker": {
             "pattern": {
              "fillmode": "overlay",
              "size": 10,
              "solidity": 0.2
             }
            },
            "type": "histogram"
           }
          ],
          "histogram2d": [
           {
            "colorbar": {
             "outlinewidth": 0,
             "ticks": ""
            },
            "colorscale": [
             [
              0,
              "#0d0887"
             ],
             [
              0.1111111111111111,
              "#46039f"
             ],
             [
              0.2222222222222222,
              "#7201a8"
             ],
             [
              0.3333333333333333,
              "#9c179e"
             ],
             [
              0.4444444444444444,
              "#bd3786"
             ],
             [
              0.5555555555555556,
              "#d8576b"
             ],
             [
              0.6666666666666666,
              "#ed7953"
             ],
             [
              0.7777777777777778,
              "#fb9f3a"
             ],
             [
              0.8888888888888888,
              "#fdca26"
             ],
             [
              1,
              "#f0f921"
             ]
            ],
            "type": "histogram2d"
           }
          ],
          "histogram2dcontour": [
           {
            "colorbar": {
             "outlinewidth": 0,
             "ticks": ""
            },
            "colorscale": [
             [
              0,
              "#0d0887"
             ],
             [
              0.1111111111111111,
              "#46039f"
             ],
             [
              0.2222222222222222,
              "#7201a8"
             ],
             [
              0.3333333333333333,
              "#9c179e"
             ],
             [
              0.4444444444444444,
              "#bd3786"
             ],
             [
              0.5555555555555556,
              "#d8576b"
             ],
             [
              0.6666666666666666,
              "#ed7953"
             ],
             [
              0.7777777777777778,
              "#fb9f3a"
             ],
             [
              0.8888888888888888,
              "#fdca26"
             ],
             [
              1,
              "#f0f921"
             ]
            ],
            "type": "histogram2dcontour"
           }
          ],
          "mesh3d": [
           {
            "colorbar": {
             "outlinewidth": 0,
             "ticks": ""
            },
            "type": "mesh3d"
           }
          ],
          "parcoords": [
           {
            "line": {
             "colorbar": {
              "outlinewidth": 0,
              "ticks": ""
             }
            },
            "type": "parcoords"
           }
          ],
          "pie": [
           {
            "automargin": true,
            "type": "pie"
           }
          ],
          "scatter": [
           {
            "marker": {
             "colorbar": {
              "outlinewidth": 0,
              "ticks": ""
             }
            },
            "type": "scatter"
           }
          ],
          "scatter3d": [
           {
            "line": {
             "colorbar": {
              "outlinewidth": 0,
              "ticks": ""
             }
            },
            "marker": {
             "colorbar": {
              "outlinewidth": 0,
              "ticks": ""
             }
            },
            "type": "scatter3d"
           }
          ],
          "scattercarpet": [
           {
            "marker": {
             "colorbar": {
              "outlinewidth": 0,
              "ticks": ""
             }
            },
            "type": "scattercarpet"
           }
          ],
          "scattergeo": [
           {
            "marker": {
             "colorbar": {
              "outlinewidth": 0,
              "ticks": ""
             }
            },
            "type": "scattergeo"
           }
          ],
          "scattergl": [
           {
            "marker": {
             "colorbar": {
              "outlinewidth": 0,
              "ticks": ""
             }
            },
            "type": "scattergl"
           }
          ],
          "scattermapbox": [
           {
            "marker": {
             "colorbar": {
              "outlinewidth": 0,
              "ticks": ""
             }
            },
            "type": "scattermapbox"
           }
          ],
          "scatterpolar": [
           {
            "marker": {
             "colorbar": {
              "outlinewidth": 0,
              "ticks": ""
             }
            },
            "type": "scatterpolar"
           }
          ],
          "scatterpolargl": [
           {
            "marker": {
             "colorbar": {
              "outlinewidth": 0,
              "ticks": ""
             }
            },
            "type": "scatterpolargl"
           }
          ],
          "scatterternary": [
           {
            "marker": {
             "colorbar": {
              "outlinewidth": 0,
              "ticks": ""
             }
            },
            "type": "scatterternary"
           }
          ],
          "surface": [
           {
            "colorbar": {
             "outlinewidth": 0,
             "ticks": ""
            },
            "colorscale": [
             [
              0,
              "#0d0887"
             ],
             [
              0.1111111111111111,
              "#46039f"
             ],
             [
              0.2222222222222222,
              "#7201a8"
             ],
             [
              0.3333333333333333,
              "#9c179e"
             ],
             [
              0.4444444444444444,
              "#bd3786"
             ],
             [
              0.5555555555555556,
              "#d8576b"
             ],
             [
              0.6666666666666666,
              "#ed7953"
             ],
             [
              0.7777777777777778,
              "#fb9f3a"
             ],
             [
              0.8888888888888888,
              "#fdca26"
             ],
             [
              1,
              "#f0f921"
             ]
            ],
            "type": "surface"
           }
          ],
          "table": [
           {
            "cells": {
             "fill": {
              "color": "#EBF0F8"
             },
             "line": {
              "color": "white"
             }
            },
            "header": {
             "fill": {
              "color": "#C8D4E3"
             },
             "line": {
              "color": "white"
             }
            },
            "type": "table"
           }
          ]
         },
         "layout": {
          "annotationdefaults": {
           "arrowcolor": "#2a3f5f",
           "arrowhead": 0,
           "arrowwidth": 1
          },
          "autotypenumbers": "strict",
          "coloraxis": {
           "colorbar": {
            "outlinewidth": 0,
            "ticks": ""
           }
          },
          "colorscale": {
           "diverging": [
            [
             0,
             "#8e0152"
            ],
            [
             0.1,
             "#c51b7d"
            ],
            [
             0.2,
             "#de77ae"
            ],
            [
             0.3,
             "#f1b6da"
            ],
            [
             0.4,
             "#fde0ef"
            ],
            [
             0.5,
             "#f7f7f7"
            ],
            [
             0.6,
             "#e6f5d0"
            ],
            [
             0.7,
             "#b8e186"
            ],
            [
             0.8,
             "#7fbc41"
            ],
            [
             0.9,
             "#4d9221"
            ],
            [
             1,
             "#276419"
            ]
           ],
           "sequential": [
            [
             0,
             "#0d0887"
            ],
            [
             0.1111111111111111,
             "#46039f"
            ],
            [
             0.2222222222222222,
             "#7201a8"
            ],
            [
             0.3333333333333333,
             "#9c179e"
            ],
            [
             0.4444444444444444,
             "#bd3786"
            ],
            [
             0.5555555555555556,
             "#d8576b"
            ],
            [
             0.6666666666666666,
             "#ed7953"
            ],
            [
             0.7777777777777778,
             "#fb9f3a"
            ],
            [
             0.8888888888888888,
             "#fdca26"
            ],
            [
             1,
             "#f0f921"
            ]
           ],
           "sequentialminus": [
            [
             0,
             "#0d0887"
            ],
            [
             0.1111111111111111,
             "#46039f"
            ],
            [
             0.2222222222222222,
             "#7201a8"
            ],
            [
             0.3333333333333333,
             "#9c179e"
            ],
            [
             0.4444444444444444,
             "#bd3786"
            ],
            [
             0.5555555555555556,
             "#d8576b"
            ],
            [
             0.6666666666666666,
             "#ed7953"
            ],
            [
             0.7777777777777778,
             "#fb9f3a"
            ],
            [
             0.8888888888888888,
             "#fdca26"
            ],
            [
             1,
             "#f0f921"
            ]
           ]
          },
          "colorway": [
           "#636efa",
           "#EF553B",
           "#00cc96",
           "#ab63fa",
           "#FFA15A",
           "#19d3f3",
           "#FF6692",
           "#B6E880",
           "#FF97FF",
           "#FECB52"
          ],
          "font": {
           "color": "#2a3f5f"
          },
          "geo": {
           "bgcolor": "white",
           "lakecolor": "white",
           "landcolor": "#E5ECF6",
           "showlakes": true,
           "showland": true,
           "subunitcolor": "white"
          },
          "hoverlabel": {
           "align": "left"
          },
          "hovermode": "closest",
          "mapbox": {
           "style": "light"
          },
          "paper_bgcolor": "white",
          "plot_bgcolor": "#E5ECF6",
          "polar": {
           "angularaxis": {
            "gridcolor": "white",
            "linecolor": "white",
            "ticks": ""
           },
           "bgcolor": "#E5ECF6",
           "radialaxis": {
            "gridcolor": "white",
            "linecolor": "white",
            "ticks": ""
           }
          },
          "scene": {
           "xaxis": {
            "backgroundcolor": "#E5ECF6",
            "gridcolor": "white",
            "gridwidth": 2,
            "linecolor": "white",
            "showbackground": true,
            "ticks": "",
            "zerolinecolor": "white"
           },
           "yaxis": {
            "backgroundcolor": "#E5ECF6",
            "gridcolor": "white",
            "gridwidth": 2,
            "linecolor": "white",
            "showbackground": true,
            "ticks": "",
            "zerolinecolor": "white"
           },
           "zaxis": {
            "backgroundcolor": "#E5ECF6",
            "gridcolor": "white",
            "gridwidth": 2,
            "linecolor": "white",
            "showbackground": true,
            "ticks": "",
            "zerolinecolor": "white"
           }
          },
          "shapedefaults": {
           "line": {
            "color": "#2a3f5f"
           }
          },
          "ternary": {
           "aaxis": {
            "gridcolor": "white",
            "linecolor": "white",
            "ticks": ""
           },
           "baxis": {
            "gridcolor": "white",
            "linecolor": "white",
            "ticks": ""
           },
           "bgcolor": "#E5ECF6",
           "caxis": {
            "gridcolor": "white",
            "linecolor": "white",
            "ticks": ""
           }
          },
          "title": {
           "x": 0.05
          },
          "xaxis": {
           "automargin": true,
           "gridcolor": "white",
           "linecolor": "white",
           "ticks": "",
           "title": {
            "standoff": 15
           },
           "zerolinecolor": "white",
           "zerolinewidth": 2
          },
          "yaxis": {
           "automargin": true,
           "gridcolor": "white",
           "linecolor": "white",
           "ticks": "",
           "title": {
            "standoff": 15
           },
           "zerolinecolor": "white",
           "zerolinewidth": 2
          }
         }
        },
        "title": {
         "text": "Distribution of 'genres' Target Variable"
        },
        "xaxis": {
         "anchor": "y",
         "domain": [
          0,
          1
         ],
         "title": {
          "text": "Category"
         }
        },
        "yaxis": {
         "anchor": "x",
         "domain": [
          0,
          1
         ],
         "title": {
          "text": "Count"
         }
        }
       }
      }
     },
     "metadata": {},
     "output_type": "display_data"
    }
   ],
   "source": [
    "#show number of songs per genre\n",
    "fig = px.bar(songs_data[\"genre\"].value_counts(),\n",
    "                          title=\"Distribution of 'genres' Target Variable\", text=songs_data[\"genre\"].value_counts(),\n",
    "                          color=songs_data[\"genre\"].value_counts(),  \n",
    "                          labels={\"value\": \"Count\", \"index\": \"Category\"},  # Change x and y label from default to something more meaningful\n",
    "                          )\n",
    "fig.update_coloraxes(showscale=False) #hide legend"
   ]
  },
  {
   "cell_type": "markdown",
   "metadata": {},
   "source": [
    "<div class=\"alert alert-block alert-info\"> <b>Findings: </b> Number of songs per genre differ insignificantly. The most songs belong to the genre 'edm' while the least to 'rock'. </div>"
   ]
  },
  {
   "cell_type": "markdown",
   "metadata": {},
   "source": [
    "### Explore column `track_artist` "
   ]
  },
  {
   "cell_type": "code",
   "execution_count": 11,
   "metadata": {
    "scrolled": false
   },
   "outputs": [
    {
     "data": {
      "text/plain": [
       "10692"
      ]
     },
     "execution_count": 11,
     "metadata": {},
     "output_type": "execute_result"
    }
   ],
   "source": [
    "#count number of artists identified in dataset\n",
    "songs_data.track_artist.nunique()"
   ]
  },
  {
   "cell_type": "markdown",
   "metadata": {},
   "source": [
    "<div class=\"alert alert-block alert-info\"> <b>Findings: </b> There are 10692 artists identified in the dataset. Could be further investigated whether there are artists identified as unique ones due to spelling mistakes for 'track_artist', Example: Maroon 5 and Maroon five. Due to scope of project not further investigated. </div>"
   ]
  },
  {
   "cell_type": "markdown",
   "metadata": {},
   "source": [
    "### Explore column `playlist_name` "
   ]
  },
  {
   "cell_type": "code",
   "execution_count": 12,
   "metadata": {},
   "outputs": [
    {
     "data": {
      "text/plain": [
       "449"
      ]
     },
     "execution_count": 12,
     "metadata": {},
     "output_type": "execute_result"
    }
   ],
   "source": [
    "#unique playlists\n",
    "songs_data.playlist_name.nunique()"
   ]
  },
  {
   "cell_type": "code",
   "execution_count": 13,
   "metadata": {},
   "outputs": [
    {
     "data": {
      "text/plain": [
       "genre\n",
       "edm      78\n",
       "latin    78\n",
       "pop      73\n",
       "r&b      76\n",
       "rap      77\n",
       "rock     72\n",
       "Name: playlist_name, dtype: int64"
      ]
     },
     "execution_count": 13,
     "metadata": {},
     "output_type": "execute_result"
    }
   ],
   "source": [
    "songs_data.groupby('genre').playlist_name.nunique()"
   ]
  },
  {
   "cell_type": "markdown",
   "metadata": {},
   "source": [
    "<div class=\"alert alert-block alert-info\"> <b>Findings: </b> There are 449 playlists in the dataset. </div>"
   ]
  },
  {
   "cell_type": "markdown",
   "metadata": {},
   "source": [
    "### Explore column `duration_ms` "
   ]
  },
  {
   "cell_type": "markdown",
   "metadata": {},
   "source": [
    "<div class=\"alert alert-block alert-warning\"> <b>Hypothesis: </b> Given the 6 genres, duration might not be an indicator to predict the type of genre. Example for hypothesis: Study Music or Relaxing music are generally longer songs. Based on our (biased) experience, 6 genres, however, usually have similar lenghts. </div>"
   ]
  },
  {
   "cell_type": "code",
   "execution_count": 14,
   "metadata": {
    "scrolled": true
   },
   "outputs": [
    {
     "data": {
      "text/html": [
       "<div>\n",
       "<style scoped>\n",
       "    .dataframe tbody tr th:only-of-type {\n",
       "        vertical-align: middle;\n",
       "    }\n",
       "\n",
       "    .dataframe tbody tr th {\n",
       "        vertical-align: top;\n",
       "    }\n",
       "\n",
       "    .dataframe thead tr th {\n",
       "        text-align: left;\n",
       "    }\n",
       "\n",
       "    .dataframe thead tr:last-of-type th {\n",
       "        text-align: right;\n",
       "    }\n",
       "</style>\n",
       "<table border=\"1\" class=\"dataframe\">\n",
       "  <thead>\n",
       "    <tr>\n",
       "      <th></th>\n",
       "      <th colspan=\"4\" halign=\"left\">duration_ms</th>\n",
       "    </tr>\n",
       "    <tr>\n",
       "      <th></th>\n",
       "      <th>mean</th>\n",
       "      <th>std</th>\n",
       "      <th>min</th>\n",
       "      <th>max</th>\n",
       "    </tr>\n",
       "    <tr>\n",
       "      <th>genre</th>\n",
       "      <th></th>\n",
       "      <th></th>\n",
       "      <th></th>\n",
       "      <th></th>\n",
       "    </tr>\n",
       "  </thead>\n",
       "  <tbody>\n",
       "    <tr>\n",
       "      <th>edm</th>\n",
       "      <td>3.71</td>\n",
       "      <td>1.15</td>\n",
       "      <td>0.52</td>\n",
       "      <td>8.60</td>\n",
       "    </tr>\n",
       "    <tr>\n",
       "      <th>latin</th>\n",
       "      <td>3.61</td>\n",
       "      <td>0.81</td>\n",
       "      <td>0.75</td>\n",
       "      <td>8.63</td>\n",
       "    </tr>\n",
       "    <tr>\n",
       "      <th>pop</th>\n",
       "      <td>3.63</td>\n",
       "      <td>0.76</td>\n",
       "      <td>0.63</td>\n",
       "      <td>8.17</td>\n",
       "    </tr>\n",
       "    <tr>\n",
       "      <th>r&amp;b</th>\n",
       "      <td>3.96</td>\n",
       "      <td>0.96</td>\n",
       "      <td>0.53</td>\n",
       "      <td>8.44</td>\n",
       "    </tr>\n",
       "    <tr>\n",
       "      <th>rap</th>\n",
       "      <td>3.57</td>\n",
       "      <td>1.00</td>\n",
       "      <td>0.49</td>\n",
       "      <td>8.32</td>\n",
       "    </tr>\n",
       "    <tr>\n",
       "      <th>rock</th>\n",
       "      <td>4.14</td>\n",
       "      <td>1.09</td>\n",
       "      <td>0.07</td>\n",
       "      <td>8.62</td>\n",
       "    </tr>\n",
       "  </tbody>\n",
       "</table>\n",
       "</div>"
      ],
      "text/plain": [
       "      duration_ms                  \n",
       "             mean   std   min   max\n",
       "genre                              \n",
       "edm          3.71  1.15  0.52  8.60\n",
       "latin        3.61  0.81  0.75  8.63\n",
       "pop          3.63  0.76  0.63  8.17\n",
       "r&b          3.96  0.96  0.53  8.44\n",
       "rap          3.57  1.00  0.49  8.32\n",
       "rock         4.14  1.09  0.07  8.62"
      ]
     },
     "execution_count": 14,
     "metadata": {},
     "output_type": "execute_result"
    }
   ],
   "source": [
    "#mean, std, min, max duration per genre\n",
    "round(songs_data.groupby('genre').agg({'duration_ms':['mean', 'std', 'min', 'max']})/ 60000, 2)"
   ]
  },
  {
   "cell_type": "markdown",
   "metadata": {},
   "source": [
    "<div class=\"alert alert-block alert-info\"> <b>Findings: </b> Significant differences in average duration of songs per genre considering rock versus all other genres. Otherwise, is the difference in duration not very significant. </div>"
   ]
  },
  {
   "cell_type": "markdown",
   "metadata": {},
   "source": [
    "<div class=\"alert alert-block alert-danger\"> <b>Consequence: </b> Hypothesis disconfirmed. Duration can be a relevant factor to consider when predicting the genre. </div>"
   ]
  },
  {
   "cell_type": "markdown",
   "metadata": {},
   "source": [
    "### Check for Duplicates"
   ]
  },
  {
   "cell_type": "code",
   "execution_count": 15,
   "metadata": {
    "scrolled": false
   },
   "outputs": [
    {
     "data": {
      "text/html": [
       "<div>\n",
       "<style scoped>\n",
       "    .dataframe tbody tr th:only-of-type {\n",
       "        vertical-align: middle;\n",
       "    }\n",
       "\n",
       "    .dataframe tbody tr th {\n",
       "        vertical-align: top;\n",
       "    }\n",
       "\n",
       "    .dataframe thead th {\n",
       "        text-align: right;\n",
       "    }\n",
       "</style>\n",
       "<table border=\"1\" class=\"dataframe\">\n",
       "  <thead>\n",
       "    <tr style=\"text-align: right;\">\n",
       "      <th></th>\n",
       "      <th>track_id</th>\n",
       "      <th>track_name</th>\n",
       "      <th>track_artist</th>\n",
       "      <th>track_popularity</th>\n",
       "      <th>playlist_name</th>\n",
       "      <th>playlist_id</th>\n",
       "      <th>genre</th>\n",
       "      <th>danceability</th>\n",
       "      <th>energy</th>\n",
       "      <th>key</th>\n",
       "      <th>loudness</th>\n",
       "      <th>mode</th>\n",
       "      <th>speechiness</th>\n",
       "      <th>acousticness</th>\n",
       "      <th>instrumentalness</th>\n",
       "      <th>liveness</th>\n",
       "      <th>valence</th>\n",
       "      <th>tempo</th>\n",
       "      <th>duration_ms</th>\n",
       "    </tr>\n",
       "  </thead>\n",
       "  <tbody>\n",
       "    <tr>\n",
       "      <th>15244</th>\n",
       "      <td>01R0Xdwje645C6xFCnMRvm</td>\n",
       "      <td>Talk Dirty To Me</td>\n",
       "      <td>Poison</td>\n",
       "      <td>54</td>\n",
       "      <td>Classic Rock 70s 80s 90s, Rock Classics - 70s ...</td>\n",
       "      <td>3Ho3iO0iJykgEQNbjB2sic</td>\n",
       "      <td>rock</td>\n",
       "      <td>0.507</td>\n",
       "      <td>0.804</td>\n",
       "      <td>11</td>\n",
       "      <td>-13.267</td>\n",
       "      <td>1</td>\n",
       "      <td>0.0440</td>\n",
       "      <td>0.02110</td>\n",
       "      <td>0.00248</td>\n",
       "      <td>0.3810</td>\n",
       "      <td>0.708</td>\n",
       "      <td>157.996</td>\n",
       "      <td>223960</td>\n",
       "    </tr>\n",
       "    <tr>\n",
       "      <th>12979</th>\n",
       "      <td>01R0Xdwje645C6xFCnMRvm</td>\n",
       "      <td>Talk Dirty To Me</td>\n",
       "      <td>Poison</td>\n",
       "      <td>54</td>\n",
       "      <td>Classic Rock 70s 80s 90s, Rock Classics - 70s ...</td>\n",
       "      <td>3Ho3iO0iJykgEQNbjB2sic</td>\n",
       "      <td>rock</td>\n",
       "      <td>0.507</td>\n",
       "      <td>0.804</td>\n",
       "      <td>11</td>\n",
       "      <td>-13.267</td>\n",
       "      <td>1</td>\n",
       "      <td>0.0440</td>\n",
       "      <td>0.02110</td>\n",
       "      <td>0.00248</td>\n",
       "      <td>0.3810</td>\n",
       "      <td>0.708</td>\n",
       "      <td>157.996</td>\n",
       "      <td>223960</td>\n",
       "    </tr>\n",
       "    <tr>\n",
       "      <th>31042</th>\n",
       "      <td>037yW9RzsLze4OmBYmcH4G</td>\n",
       "      <td>Save My Night - BlasterJaxx Remix</td>\n",
       "      <td>Armin van Buuren</td>\n",
       "      <td>16</td>\n",
       "      <td>Fitness Workout Electro | House | Dance | Prog...</td>\n",
       "      <td>6KnQDwp0syvhfHOR4lWP7x</td>\n",
       "      <td>edm</td>\n",
       "      <td>0.686</td>\n",
       "      <td>0.906</td>\n",
       "      <td>8</td>\n",
       "      <td>-4.886</td>\n",
       "      <td>1</td>\n",
       "      <td>0.0475</td>\n",
       "      <td>0.00196</td>\n",
       "      <td>0.74500</td>\n",
       "      <td>0.0520</td>\n",
       "      <td>0.165</td>\n",
       "      <td>129.972</td>\n",
       "      <td>326827</td>\n",
       "    </tr>\n",
       "    <tr>\n",
       "      <th>27979</th>\n",
       "      <td>037yW9RzsLze4OmBYmcH4G</td>\n",
       "      <td>Save My Night - BlasterJaxx Remix</td>\n",
       "      <td>Armin van Buuren</td>\n",
       "      <td>16</td>\n",
       "      <td>Fitness Workout Electro | House | Dance | Prog...</td>\n",
       "      <td>6KnQDwp0syvhfHOR4lWP7x</td>\n",
       "      <td>edm</td>\n",
       "      <td>0.686</td>\n",
       "      <td>0.906</td>\n",
       "      <td>8</td>\n",
       "      <td>-4.886</td>\n",
       "      <td>1</td>\n",
       "      <td>0.0475</td>\n",
       "      <td>0.00196</td>\n",
       "      <td>0.74500</td>\n",
       "      <td>0.0520</td>\n",
       "      <td>0.165</td>\n",
       "      <td>129.972</td>\n",
       "      <td>326827</td>\n",
       "    </tr>\n",
       "    <tr>\n",
       "      <th>29979</th>\n",
       "      <td>04wllvXvWOkZS5NugzeS8O</td>\n",
       "      <td>Lost</td>\n",
       "      <td>Chris Burke</td>\n",
       "      <td>37</td>\n",
       "      <td>EDM 2020 House &amp; Dance</td>\n",
       "      <td>25ButZrVb1Zj1MJioMs09D</td>\n",
       "      <td>edm</td>\n",
       "      <td>0.616</td>\n",
       "      <td>0.695</td>\n",
       "      <td>9</td>\n",
       "      <td>-7.894</td>\n",
       "      <td>0</td>\n",
       "      <td>0.0397</td>\n",
       "      <td>0.12100</td>\n",
       "      <td>0.02280</td>\n",
       "      <td>0.0311</td>\n",
       "      <td>0.189</td>\n",
       "      <td>128.008</td>\n",
       "      <td>272124</td>\n",
       "    </tr>\n",
       "  </tbody>\n",
       "</table>\n",
       "</div>"
      ],
      "text/plain": [
       "                     track_id                         track_name  \\\n",
       "15244  01R0Xdwje645C6xFCnMRvm                   Talk Dirty To Me   \n",
       "12979  01R0Xdwje645C6xFCnMRvm                   Talk Dirty To Me   \n",
       "31042  037yW9RzsLze4OmBYmcH4G  Save My Night - BlasterJaxx Remix   \n",
       "27979  037yW9RzsLze4OmBYmcH4G  Save My Night - BlasterJaxx Remix   \n",
       "29979  04wllvXvWOkZS5NugzeS8O                               Lost   \n",
       "\n",
       "           track_artist  track_popularity  \\\n",
       "15244            Poison                54   \n",
       "12979            Poison                54   \n",
       "31042  Armin van Buuren                16   \n",
       "27979  Armin van Buuren                16   \n",
       "29979       Chris Burke                37   \n",
       "\n",
       "                                           playlist_name  \\\n",
       "15244  Classic Rock 70s 80s 90s, Rock Classics - 70s ...   \n",
       "12979  Classic Rock 70s 80s 90s, Rock Classics - 70s ...   \n",
       "31042  Fitness Workout Electro | House | Dance | Prog...   \n",
       "27979  Fitness Workout Electro | House | Dance | Prog...   \n",
       "29979                             EDM 2020 House & Dance   \n",
       "\n",
       "                  playlist_id genre  danceability  energy  key  loudness  \\\n",
       "15244  3Ho3iO0iJykgEQNbjB2sic  rock         0.507   0.804   11   -13.267   \n",
       "12979  3Ho3iO0iJykgEQNbjB2sic  rock         0.507   0.804   11   -13.267   \n",
       "31042  6KnQDwp0syvhfHOR4lWP7x   edm         0.686   0.906    8    -4.886   \n",
       "27979  6KnQDwp0syvhfHOR4lWP7x   edm         0.686   0.906    8    -4.886   \n",
       "29979  25ButZrVb1Zj1MJioMs09D   edm         0.616   0.695    9    -7.894   \n",
       "\n",
       "       mode  speechiness  acousticness  instrumentalness  liveness  valence  \\\n",
       "15244     1       0.0440       0.02110           0.00248    0.3810    0.708   \n",
       "12979     1       0.0440       0.02110           0.00248    0.3810    0.708   \n",
       "31042     1       0.0475       0.00196           0.74500    0.0520    0.165   \n",
       "27979     1       0.0475       0.00196           0.74500    0.0520    0.165   \n",
       "29979     0       0.0397       0.12100           0.02280    0.0311    0.189   \n",
       "\n",
       "         tempo  duration_ms  \n",
       "15244  157.996       223960  \n",
       "12979  157.996       223960  \n",
       "31042  129.972       326827  \n",
       "27979  129.972       326827  \n",
       "29979  128.008       272124  "
      ]
     },
     "execution_count": 15,
     "metadata": {},
     "output_type": "execute_result"
    }
   ],
   "source": [
    "#show all rows which are 100% duplicated -> same values in all columns\n",
    "duplicate_rows = songs_data[songs_data.duplicated(keep=False)].sort_values(\"track_id\")\n",
    "duplicate_rows.head()"
   ]
  },
  {
   "cell_type": "markdown",
   "metadata": {},
   "source": [
    "<div class=\"alert alert-block alert-info\"> <b>Findings: </b> Significant number of duplicate rows found. </div>"
   ]
  },
  {
   "cell_type": "markdown",
   "metadata": {},
   "source": [
    "<div class=\"alert alert-block alert-danger\"> <b>Consequence: </b> Duplicate rows need to be dropped. </div>"
   ]
  },
  {
   "cell_type": "markdown",
   "metadata": {},
   "source": [
    "### Check for Outliers"
   ]
  },
  {
   "cell_type": "code",
   "execution_count": 16,
   "metadata": {},
   "outputs": [
    {
     "data": {
      "image/png": "[encoded data removed]",
      "text/plain": [
       "<Figure size 1440x720 with 13 Axes>"
      ]
     },
     "metadata": {
      "needs_background": "light"
     },
     "output_type": "display_data"
    }
   ],
   "source": [
    "#visualize distribution to detect outliers per column\n",
    "songs_data_continous = songs_data.select_dtypes([int,float]) # store all continous variable (integer or float) columns in songs_data_continous variable\n",
    "fig = plt.figure(figsize=(20, 10)) # size of plot\n",
    "\n",
    "for i, columns in enumerate(songs_data_continous.columns, 1): \n",
    "    ax = plt.subplot(5,3,i) # creates 3 subplots in one single row\n",
    "    sns.boxplot(data = songs_data_continous, x=songs_data_continous[columns]) # creates box plots for each feature in songs_data_continous dataset\n",
    "    ax.set_xlabel(None) # removes the labels on x-axis\n",
    "    ax.set_title(f'Distribution of {columns}') # adds title to each subplot\n",
    "    \n",
    "plt.tight_layout(w_pad=3) # adds padding between the subplots\n",
    "plt.show() # displays the plots"
   ]
  },
  {
   "cell_type": "markdown",
   "metadata": {},
   "source": [
    "<div class=\"alert alert-block alert-info\"> <b>Findings: </b> Abnormal/Noticable Features Discovered: Instrumentalness </div>"
   ]
  },
  {
   "cell_type": "markdown",
   "metadata": {},
   "source": [
    "<div class=\"alert alert-block alert-danger\"> <b>Consequence: </b>Explore noticable features further. </div>"
   ]
  },
  {
   "cell_type": "markdown",
   "metadata": {},
   "source": [
    "### Explore column `instrumentalness` "
   ]
  },
  {
   "cell_type": "code",
   "execution_count": 17,
   "metadata": {},
   "outputs": [
    {
     "data": {
      "text/html": [
       "<div>\n",
       "<style scoped>\n",
       "    .dataframe tbody tr th:only-of-type {\n",
       "        vertical-align: middle;\n",
       "    }\n",
       "\n",
       "    .dataframe tbody tr th {\n",
       "        vertical-align: top;\n",
       "    }\n",
       "\n",
       "    .dataframe thead th {\n",
       "        text-align: right;\n",
       "    }\n",
       "</style>\n",
       "<table border=\"1\" class=\"dataframe\">\n",
       "  <thead>\n",
       "    <tr style=\"text-align: right;\">\n",
       "      <th></th>\n",
       "      <th>instrumentalness</th>\n",
       "    </tr>\n",
       "    <tr>\n",
       "      <th>genre</th>\n",
       "      <th></th>\n",
       "    </tr>\n",
       "  </thead>\n",
       "  <tbody>\n",
       "    <tr>\n",
       "      <th>edm</th>\n",
       "      <td>0.218578</td>\n",
       "    </tr>\n",
       "    <tr>\n",
       "      <th>latin</th>\n",
       "      <td>0.044447</td>\n",
       "    </tr>\n",
       "    <tr>\n",
       "      <th>pop</th>\n",
       "      <td>0.059876</td>\n",
       "    </tr>\n",
       "    <tr>\n",
       "      <th>r&amp;b</th>\n",
       "      <td>0.028920</td>\n",
       "    </tr>\n",
       "    <tr>\n",
       "      <th>rap</th>\n",
       "      <td>0.075997</td>\n",
       "    </tr>\n",
       "    <tr>\n",
       "      <th>rock</th>\n",
       "      <td>0.062417</td>\n",
       "    </tr>\n",
       "  </tbody>\n",
       "</table>\n",
       "</div>"
      ],
      "text/plain": [
       "       instrumentalness\n",
       "genre                  \n",
       "edm            0.218578\n",
       "latin          0.044447\n",
       "pop            0.059876\n",
       "r&b            0.028920\n",
       "rap            0.075997\n",
       "rock           0.062417"
      ]
     },
     "execution_count": 17,
     "metadata": {},
     "output_type": "execute_result"
    }
   ],
   "source": [
    "#explore mean value of instrumentalness per genre to explore relevancy\n",
    "songs_data.groupby('genre').agg({'instrumentalness':'mean'})"
   ]
  },
  {
   "cell_type": "markdown",
   "metadata": {},
   "source": [
    "<div class=\"alert alert-block alert-info\"> <b>Findings: </b> Especially to predict the genre 'edm', 'instrumentalness' is a relevant feature. </div>"
   ]
  },
  {
   "cell_type": "markdown",
   "metadata": {},
   "source": [
    "<div class=\"alert alert-block alert-danger\"> <b>Consequence: </b>Keep this feature for modelling. </div>"
   ]
  },
  {
   "cell_type": "markdown",
   "metadata": {},
   "source": [
    "### Explore column `track_popularity` "
   ]
  },
  {
   "cell_type": "code",
   "execution_count": 18,
   "metadata": {},
   "outputs": [
    {
     "data": {
      "text/html": [
       "<div>\n",
       "<style scoped>\n",
       "    .dataframe tbody tr th:only-of-type {\n",
       "        vertical-align: middle;\n",
       "    }\n",
       "\n",
       "    .dataframe tbody tr th {\n",
       "        vertical-align: top;\n",
       "    }\n",
       "\n",
       "    .dataframe thead th {\n",
       "        text-align: right;\n",
       "    }\n",
       "</style>\n",
       "<table border=\"1\" class=\"dataframe\">\n",
       "  <thead>\n",
       "    <tr style=\"text-align: right;\">\n",
       "      <th></th>\n",
       "      <th>genre</th>\n",
       "      <th>track_popularity</th>\n",
       "    </tr>\n",
       "  </thead>\n",
       "  <tbody>\n",
       "    <tr>\n",
       "      <th>0</th>\n",
       "      <td>pop</td>\n",
       "      <td>47.74</td>\n",
       "    </tr>\n",
       "    <tr>\n",
       "      <th>1</th>\n",
       "      <td>latin</td>\n",
       "      <td>47.03</td>\n",
       "    </tr>\n",
       "    <tr>\n",
       "      <th>2</th>\n",
       "      <td>rap</td>\n",
       "      <td>43.22</td>\n",
       "    </tr>\n",
       "    <tr>\n",
       "      <th>3</th>\n",
       "      <td>rock</td>\n",
       "      <td>41.73</td>\n",
       "    </tr>\n",
       "    <tr>\n",
       "      <th>4</th>\n",
       "      <td>r&amp;b</td>\n",
       "      <td>41.22</td>\n",
       "    </tr>\n",
       "    <tr>\n",
       "      <th>5</th>\n",
       "      <td>edm</td>\n",
       "      <td>34.83</td>\n",
       "    </tr>\n",
       "  </tbody>\n",
       "</table>\n",
       "</div>"
      ],
      "text/plain": [
       "   genre  track_popularity\n",
       "0    pop             47.74\n",
       "1  latin             47.03\n",
       "2    rap             43.22\n",
       "3   rock             41.73\n",
       "4    r&b             41.22\n",
       "5    edm             34.83"
      ]
     },
     "execution_count": 18,
     "metadata": {},
     "output_type": "execute_result"
    }
   ],
   "source": [
    "#is there a specific genre which is more popular than the other ones?\n",
    "#get average popularity per genre\n",
    "genre_popularity = round(songs_data.groupby('genre')['track_popularity'].mean().sort_values(ascending=[False]), 2).reset_index()\n",
    "genre_popularity"
   ]
  },
  {
   "cell_type": "code",
   "execution_count": 19,
   "metadata": {},
   "outputs": [
    {
     "data": {
      "application/vnd.plotly.v1+json": {
       "config": {
        "plotlyServerURL": "https://plot.ly"
       },
       "data": [
        {
         "alignmentgroup": "True",
         "hovertemplate": "Genre=%{x}<br>Popularity=%{y}<br>text=%{text}<br>color=%{marker.color}<extra></extra>",
         "legendgroup": "",
         "marker": {
          "color": [
           34.83352639417508,
           47.026576139670226,
           47.74487016524424,
           41.22353157797827,
           43.21545422902889,
           41.72833770955363
          ],
          "coloraxis": "coloraxis",
          "pattern": {
           "shape": ""
          }
         },
         "name": "",
         "offsetgroup": "",
         "orientation": "v",
         "showlegend": false,
         "text": [
          34.83,
          41.22,
          41.73,
          43.22,
          47.03,
          47.74
         ],
         "textposition": "auto",
         "type": "bar",
         "x": [
          "edm",
          "r&b",
          "rock",
          "rap",
          "latin",
          "pop"
         ],
         "xaxis": "x",
         "y": [
          34.83352639417508,
          41.22353157797827,
          41.72833770955363,
          43.21545422902889,
          47.026576139670226,
          47.74487016524424
         ],
         "yaxis": "y"
        }
       ],
       "layout": {
        "barmode": "relative",
        "coloraxis": {
         "colorbar": {
          "title": {
           "text": "color"
          }
         },
         "colorscale": [
          [
           0,
           "#0d0887"
          ],
          [
           0.1111111111111111,
           "#46039f"
          ],
          [
           0.2222222222222222,
           "#7201a8"
          ],
          [
           0.3333333333333333,
           "#9c179e"
          ],
          [
           0.4444444444444444,
           "#bd3786"
          ],
          [
           0.5555555555555556,
           "#d8576b"
          ],
          [
           0.6666666666666666,
           "#ed7953"
          ],
          [
           0.7777777777777778,
           "#fb9f3a"
          ],
          [
           0.8888888888888888,
           "#fdca26"
          ],
          [
           1,
           "#f0f921"
          ]
         ],
         "showscale": false
        },
        "legend": {
         "tracegroupgap": 0
        },
        "template": {
         "data": {
          "bar": [
           {
            "error_x": {
             "color": "#2a3f5f"
            },
            "error_y": {
             "color": "#2a3f5f"
            },
            "marker": {
             "line": {
              "color": "#E5ECF6",
              "width": 0.5
             },
             "pattern": {
              "fillmode": "overlay",
              "size": 10,
              "solidity": 0.2
             }
            },
            "type": "bar"
           }
          ],
          "barpolar": [
           {
            "marker": {
             "line": {
              "color": "#E5ECF6",
              "width": 0.5
             },
             "pattern": {
              "fillmode": "overlay",
              "size": 10,
              "solidity": 0.2
             }
            },
            "type": "barpolar"
           }
          ],
          "carpet": [
           {
            "aaxis": {
             "endlinecolor": "#2a3f5f",
             "gridcolor": "white",
             "linecolor": "white",
             "minorgridcolor": "white",
             "startlinecolor": "#2a3f5f"
            },
            "baxis": {
             "endlinecolor": "#2a3f5f",
             "gridcolor": "white",
             "linecolor": "white",
             "minorgridcolor": "white",
             "startlinecolor": "#2a3f5f"
            },
            "type": "carpet"
           }
          ],
          "choropleth": [
           {
            "colorbar": {
             "outlinewidth": 0,
             "ticks": ""
            },
            "type": "choropleth"
           }
          ],
          "contour": [
           {
            "colorbar": {
             "outlinewidth": 0,
             "ticks": ""
            },
            "colorscale": [
             [
              0,
              "#0d0887"
             ],
             [
              0.1111111111111111,
              "#46039f"
             ],
             [
              0.2222222222222222,
              "#7201a8"
             ],
             [
              0.3333333333333333,
              "#9c179e"
             ],
             [
              0.4444444444444444,
              "#bd3786"
             ],
             [
              0.5555555555555556,
              "#d8576b"
             ],
             [
              0.6666666666666666,
              "#ed7953"
             ],
             [
              0.7777777777777778,
              "#fb9f3a"
             ],
             [
              0.8888888888888888,
              "#fdca26"
             ],
             [
              1,
              "#f0f921"
             ]
            ],
            "type": "contour"
           }
          ],
          "contourcarpet": [
           {
            "colorbar": {
             "outlinewidth": 0,
             "ticks": ""
            },
            "type": "contourcarpet"
           }
          ],
          "heatmap": [
           {
            "colorbar": {
             "outlinewidth": 0,
             "ticks": ""
            },
            "colorscale": [
             [
              0,
              "#0d0887"
             ],
             [
              0.1111111111111111,
              "#46039f"
             ],
             [
              0.2222222222222222,
              "#7201a8"
             ],
             [
              0.3333333333333333,
              "#9c179e"
             ],
             [
              0.4444444444444444,
              "#bd3786"
             ],
             [
              0.5555555555555556,
              "#d8576b"
             ],
             [
              0.6666666666666666,
              "#ed7953"
             ],
             [
              0.7777777777777778,
              "#fb9f3a"
             ],
             [
              0.8888888888888888,
              "#fdca26"
             ],
             [
              1,
              "#f0f921"
             ]
            ],
            "type": "heatmap"
           }
          ],
          "heatmapgl": [
           {
            "colorbar": {
             "outlinewidth": 0,
             "ticks": ""
            },
            "colorscale": [
             [
              0,
              "#0d0887"
             ],
             [
              0.1111111111111111,
              "#46039f"
             ],
             [
              0.2222222222222222,
              "#7201a8"
             ],
             [
              0.3333333333333333,
              "#9c179e"
             ],
             [
              0.4444444444444444,
              "#bd3786"
             ],
             [
              0.5555555555555556,
              "#d8576b"
             ],
             [
              0.6666666666666666,
              "#ed7953"
             ],
             [
              0.7777777777777778,
              "#fb9f3a"
             ],
             [
              0.8888888888888888,
              "#fdca26"
             ],
             [
              1,
              "#f0f921"
             ]
            ],
            "type": "heatmapgl"
           }
          ],
          "histogram": [
           {
            "marker": {
             "pattern": {
              "fillmode": "overlay",
              "size": 10,
              "solidity": 0.2
             }
            },
            "type": "histogram"
           }
          ],
          "histogram2d": [
           {
            "colorbar": {
             "outlinewidth": 0,
             "ticks": ""
            },
            "colorscale": [
             [
              0,
              "#0d0887"
             ],
             [
              0.1111111111111111,
              "#46039f"
             ],
             [
              0.2222222222222222,
              "#7201a8"
             ],
             [
              0.3333333333333333,
              "#9c179e"
             ],
             [
              0.4444444444444444,
              "#bd3786"
             ],
             [
              0.5555555555555556,
              "#d8576b"
             ],
             [
              0.6666666666666666,
              "#ed7953"
             ],
             [
              0.7777777777777778,
              "#fb9f3a"
             ],
             [
              0.8888888888888888,
              "#fdca26"
             ],
             [
              1,
              "#f0f921"
             ]
            ],
            "type": "histogram2d"
           }
          ],
          "histogram2dcontour": [
           {
            "colorbar": {
             "outlinewidth": 0,
             "ticks": ""
            },
            "colorscale": [
             [
              0,
              "#0d0887"
             ],
             [
              0.1111111111111111,
              "#46039f"
             ],
             [
              0.2222222222222222,
              "#7201a8"
             ],
             [
              0.3333333333333333,
              "#9c179e"
             ],
             [
              0.4444444444444444,
              "#bd3786"
             ],
             [
              0.5555555555555556,
              "#d8576b"
             ],
             [
              0.6666666666666666,
              "#ed7953"
             ],
             [
              0.7777777777777778,
              "#fb9f3a"
             ],
             [
              0.8888888888888888,
              "#fdca26"
             ],
             [
              1,
              "#f0f921"
             ]
            ],
            "type": "histogram2dcontour"
           }
          ],
          "mesh3d": [
           {
            "colorbar": {
             "outlinewidth": 0,
             "ticks": ""
            },
            "type": "mesh3d"
           }
          ],
          "parcoords": [
           {
            "line": {
             "colorbar": {
              "outlinewidth": 0,
              "ticks": ""
             }
            },
            "type": "parcoords"
           }
          ],
          "pie": [
           {
            "automargin": true,
            "type": "pie"
           }
          ],
          "scatter": [
           {
            "marker": {
             "colorbar": {
              "outlinewidth": 0,
              "ticks": ""
             }
            },
            "type": "scatter"
           }
          ],
          "scatter3d": [
           {
            "line": {
             "colorbar": {
              "outlinewidth": 0,
              "ticks": ""
             }
            },
            "marker": {
             "colorbar": {
              "outlinewidth": 0,
              "ticks": ""
             }
            },
            "type": "scatter3d"
           }
          ],
          "scattercarpet": [
           {
            "marker": {
             "colorbar": {
              "outlinewidth": 0,
              "ticks": ""
             }
            },
            "type": "scattercarpet"
           }
          ],
          "scattergeo": [
           {
            "marker": {
             "colorbar": {
              "outlinewidth": 0,
              "ticks": ""
             }
            },
            "type": "scattergeo"
           }
          ],
          "scattergl": [
           {
            "marker": {
             "colorbar": {
              "outlinewidth": 0,
              "ticks": ""
             }
            },
            "type": "scattergl"
           }
          ],
          "scattermapbox": [
           {
            "marker": {
             "colorbar": {
              "outlinewidth": 0,
              "ticks": ""
             }
            },
            "type": "scattermapbox"
           }
          ],
          "scatterpolar": [
           {
            "marker": {
             "colorbar": {
              "outlinewidth": 0,
              "ticks": ""
             }
            },
            "type": "scatterpolar"
           }
          ],
          "scatterpolargl": [
           {
            "marker": {
             "colorbar": {
              "outlinewidth": 0,
              "ticks": ""
             }
            },
            "type": "scatterpolargl"
           }
          ],
          "scatterternary": [
           {
            "marker": {
             "colorbar": {
              "outlinewidth": 0,
              "ticks": ""
             }
            },
            "type": "scatterternary"
           }
          ],
          "surface": [
           {
            "colorbar": {
             "outlinewidth": 0,
             "ticks": ""
            },
            "colorscale": [
             [
              0,
              "#0d0887"
             ],
             [
              0.1111111111111111,
              "#46039f"
             ],
             [
              0.2222222222222222,
              "#7201a8"
             ],
             [
              0.3333333333333333,
              "#9c179e"
             ],
             [
              0.4444444444444444,
              "#bd3786"
             ],
             [
              0.5555555555555556,
              "#d8576b"
             ],
             [
              0.6666666666666666,
              "#ed7953"
             ],
             [
              0.7777777777777778,
              "#fb9f3a"
             ],
             [
              0.8888888888888888,
              "#fdca26"
             ],
             [
              1,
              "#f0f921"
             ]
            ],
            "type": "surface"
           }
          ],
          "table": [
           {
            "cells": {
             "fill": {
              "color": "#EBF0F8"
             },
             "line": {
              "color": "white"
             }
            },
            "header": {
             "fill": {
              "color": "#C8D4E3"
             },
             "line": {
              "color": "white"
             }
            },
            "type": "table"
           }
          ]
         },
         "layout": {
          "annotationdefaults": {
           "arrowcolor": "#2a3f5f",
           "arrowhead": 0,
           "arrowwidth": 1
          },
          "autotypenumbers": "strict",
          "coloraxis": {
           "colorbar": {
            "outlinewidth": 0,
            "ticks": ""
           }
          },
          "colorscale": {
           "diverging": [
            [
             0,
             "#8e0152"
            ],
            [
             0.1,
             "#c51b7d"
            ],
            [
             0.2,
             "#de77ae"
            ],
            [
             0.3,
             "#f1b6da"
            ],
            [
             0.4,
             "#fde0ef"
            ],
            [
             0.5,
             "#f7f7f7"
            ],
            [
             0.6,
             "#e6f5d0"
            ],
            [
             0.7,
             "#b8e186"
            ],
            [
             0.8,
             "#7fbc41"
            ],
            [
             0.9,
             "#4d9221"
            ],
            [
             1,
             "#276419"
            ]
           ],
           "sequential": [
            [
             0,
             "#0d0887"
            ],
            [
             0.1111111111111111,
             "#46039f"
            ],
            [
             0.2222222222222222,
             "#7201a8"
            ],
            [
             0.3333333333333333,
             "#9c179e"
            ],
            [
             0.4444444444444444,
             "#bd3786"
            ],
            [
             0.5555555555555556,
             "#d8576b"
            ],
            [
             0.6666666666666666,
             "#ed7953"
            ],
            [
             0.7777777777777778,
             "#fb9f3a"
            ],
            [
             0.8888888888888888,
             "#fdca26"
            ],
            [
             1,
             "#f0f921"
            ]
           ],
           "sequentialminus": [
            [
             0,
             "#0d0887"
            ],
            [
             0.1111111111111111,
             "#46039f"
            ],
            [
             0.2222222222222222,
             "#7201a8"
            ],
            [
             0.3333333333333333,
             "#9c179e"
            ],
            [
             0.4444444444444444,
             "#bd3786"
            ],
            [
             0.5555555555555556,
             "#d8576b"
            ],
            [
             0.6666666666666666,
             "#ed7953"
            ],
            [
             0.7777777777777778,
             "#fb9f3a"
            ],
            [
             0.8888888888888888,
             "#fdca26"
            ],
            [
             1,
             "#f0f921"
            ]
           ]
          },
          "colorway": [
           "#636efa",
           "#EF553B",
           "#00cc96",
           "#ab63fa",
           "#FFA15A",
           "#19d3f3",
           "#FF6692",
           "#B6E880",
           "#FF97FF",
           "#FECB52"
          ],
          "font": {
           "color": "#2a3f5f"
          },
          "geo": {
           "bgcolor": "white",
           "lakecolor": "white",
           "landcolor": "#E5ECF6",
           "showlakes": true,
           "showland": true,
           "subunitcolor": "white"
          },
          "hoverlabel": {
           "align": "left"
          },
          "hovermode": "closest",
          "mapbox": {
           "style": "light"
          },
          "paper_bgcolor": "white",
          "plot_bgcolor": "#E5ECF6",
          "polar": {
           "angularaxis": {
            "gridcolor": "white",
            "linecolor": "white",
            "ticks": ""
           },
           "bgcolor": "#E5ECF6",
           "radialaxis": {
            "gridcolor": "white",
            "linecolor": "white",
            "ticks": ""
           }
          },
          "scene": {
           "xaxis": {
            "backgroundcolor": "#E5ECF6",
            "gridcolor": "white",
            "gridwidth": 2,
            "linecolor": "white",
            "showbackground": true,
            "ticks": "",
            "zerolinecolor": "white"
           },
           "yaxis": {
            "backgroundcolor": "#E5ECF6",
            "gridcolor": "white",
            "gridwidth": 2,
            "linecolor": "white",
            "showbackground": true,
            "ticks": "",
            "zerolinecolor": "white"
           },
           "zaxis": {
            "backgroundcolor": "#E5ECF6",
            "gridcolor": "white",
            "gridwidth": 2,
            "linecolor": "white",
            "showbackground": true,
            "ticks": "",
            "zerolinecolor": "white"
           }
          },
          "shapedefaults": {
           "line": {
            "color": "#2a3f5f"
           }
          },
          "ternary": {
           "aaxis": {
            "gridcolor": "white",
            "linecolor": "white",
            "ticks": ""
           },
           "baxis": {
            "gridcolor": "white",
            "linecolor": "white",
            "ticks": ""
           },
           "bgcolor": "#E5ECF6",
           "caxis": {
            "gridcolor": "white",
            "linecolor": "white",
            "ticks": ""
           }
          },
          "title": {
           "x": 0.05
          },
          "xaxis": {
           "automargin": true,
           "gridcolor": "white",
           "linecolor": "white",
           "ticks": "",
           "title": {
            "standoff": 15
           },
           "zerolinecolor": "white",
           "zerolinewidth": 2
          },
          "yaxis": {
           "automargin": true,
           "gridcolor": "white",
           "linecolor": "white",
           "ticks": "",
           "title": {
            "standoff": 15
           },
           "zerolinecolor": "white",
           "zerolinewidth": 2
          }
         }
        },
        "title": {
         "text": "Average Popularity per Genre"
        },
        "xaxis": {
         "anchor": "y",
         "domain": [
          0,
          1
         ],
         "title": {
          "text": "Genre"
         }
        },
        "yaxis": {
         "anchor": "x",
         "domain": [
          0,
          1
         ],
         "title": {
          "text": "Popularity"
         }
        }
       }
      }
     },
     "metadata": {},
     "output_type": "display_data"
    }
   ],
   "source": [
    "#plot average popularity per genre\n",
    "fig = px.bar(songs_data.groupby('genre')['track_popularity'].mean().sort_values(),\n",
    "                          title = \"Average Popularity per Genre\", text = round(songs_data.groupby('genre')['track_popularity'].mean().sort_values(), 2),\n",
    "                          color = songs_data.groupby('genre')['track_popularity'].mean(),  \n",
    "                          labels = {\"genre\": \"Genre\", \"value\": \"Popularity\"},  # Change x and y label from default to something more meaningful\n",
    "                          )\n",
    "fig.update_coloraxes(showscale=False) #hide legend"
   ]
  },
  {
   "cell_type": "markdown",
   "metadata": {},
   "source": [
    "<div class=\"alert alert-block alert-info\"> <b>Findings: </b> 'Pop' is the most popular genre while 'edm' the least.</div>"
   ]
  },
  {
   "cell_type": "markdown",
   "metadata": {},
   "source": [
    "### Identify if target variable  `genre` is skewed"
   ]
  },
  {
   "cell_type": "code",
   "execution_count": 20,
   "metadata": {
    "scrolled": false
   },
   "outputs": [
    {
     "data": {
      "image/png": "[encoded data removed]",
      "text/plain": [
       "<Figure size 1440x1080 with 16 Axes>"
      ]
     },
     "metadata": {
      "needs_background": "light"
     },
     "output_type": "display_data"
    }
   ],
   "source": [
    "#visualize distribution of each feature\n",
    "songs_data.hist(bins=50, figsize=(20,15),color='#00BFFF')\n",
    "plt.show()"
   ]
  },
  {
   "cell_type": "markdown",
   "metadata": {},
   "source": [
    "<div class=\"alert alert-block alert-info\"> <b>Findings: </b> We ignore the plots of 'key' and 'mode' as their values are categorical appearing as a number for the specific category. <br> Except 'valence', all other features are skewed. Due to limited scope of this work, there's no time to investigate the different types of transformation possible. Further investigation would include: Boc-Cox transformation and Max Abs Scaler. </div>"
   ]
  },
  {
   "cell_type": "markdown",
   "metadata": {},
   "source": [
    "### Identify Correlations and Distributions in Data"
   ]
  },
  {
   "cell_type": "code",
   "execution_count": 21,
   "metadata": {},
   "outputs": [
    {
     "data": {
      "text/html": [
       "<style type=\"text/css\">\n",
       "#T_4c103_row0_col0, #T_4c103_row1_col1, #T_4c103_row2_col2, #T_4c103_row3_col3, #T_4c103_row4_col4, #T_4c103_row5_col5, #T_4c103_row6_col6, #T_4c103_row7_col7, #T_4c103_row8_col8, #T_4c103_row9_col9, #T_4c103_row10_col10, #T_4c103_row11_col11, #T_4c103_row12_col12 {\n",
       "  background-color: #b40426;\n",
       "  color: #f1f1f1;\n",
       "}\n",
       "#T_4c103_row0_col1 {\n",
       "  background-color: #7ea1fa;\n",
       "  color: #f1f1f1;\n",
       "}\n",
       "#T_4c103_row0_col2, #T_4c103_row2_col10 {\n",
       "  background-color: #97b8ff;\n",
       "  color: #000000;\n",
       "}\n",
       "#T_4c103_row0_col3, #T_4c103_row8_col1, #T_4c103_row9_col8 {\n",
       "  background-color: #688aef;\n",
       "  color: #f1f1f1;\n",
       "}\n",
       "#T_4c103_row0_col4, #T_4c103_row10_col4 {\n",
       "  background-color: #a1c0ff;\n",
       "  color: #000000;\n",
       "}\n",
       "#T_4c103_row0_col5, #T_4c103_row1_col3, #T_4c103_row2_col3, #T_4c103_row6_col9, #T_4c103_row7_col5, #T_4c103_row8_col4, #T_4c103_row10_col0 {\n",
       "  background-color: #6c8ff1;\n",
       "  color: #f1f1f1;\n",
       "}\n",
       "#T_4c103_row0_col6, #T_4c103_row1_col5 {\n",
       "  background-color: #5977e3;\n",
       "  color: #f1f1f1;\n",
       "}\n",
       "#T_4c103_row0_col7 {\n",
       "  background-color: #c1d4f4;\n",
       "  color: #000000;\n",
       "}\n",
       "#T_4c103_row0_col8 {\n",
       "  background-color: #4055c8;\n",
       "  color: #f1f1f1;\n",
       "}\n",
       "#T_4c103_row0_col9, #T_4c103_row6_col8, #T_4c103_row7_col11 {\n",
       "  background-color: #4c66d6;\n",
       "  color: #f1f1f1;\n",
       "}\n",
       "#T_4c103_row0_col10, #T_4c103_row2_col8, #T_4c103_row4_col1, #T_4c103_row4_col9 {\n",
       "  background-color: #7396f5;\n",
       "  color: #f1f1f1;\n",
       "}\n",
       "#T_4c103_row0_col11, #T_4c103_row4_col3, #T_4c103_row5_col10, #T_4c103_row7_col3, #T_4c103_row9_col3, #T_4c103_row10_col5, #T_4c103_row10_col6 {\n",
       "  background-color: #6a8bef;\n",
       "  color: #f1f1f1;\n",
       "}\n",
       "#T_4c103_row0_col12, #T_4c103_row1_col9, #T_4c103_row1_col11, #T_4c103_row2_col7, #T_4c103_row3_col5, #T_4c103_row5_col3, #T_4c103_row7_col2, #T_4c103_row7_col4, #T_4c103_row8_col0, #T_4c103_row8_col6, #T_4c103_row8_col10, #T_4c103_row10_col8, #T_4c103_row11_col1 {\n",
       "  background-color: #3b4cc0;\n",
       "  color: #f1f1f1;\n",
       "}\n",
       "#T_4c103_row1_col0 {\n",
       "  background-color: #7699f6;\n",
       "  color: #f1f1f1;\n",
       "}\n",
       "#T_4c103_row1_col2 {\n",
       "  background-color: #9dbdff;\n",
       "  color: #000000;\n",
       "}\n",
       "#T_4c103_row1_col4, #T_4c103_row2_col11 {\n",
       "  background-color: #98b9ff;\n",
       "  color: #000000;\n",
       "}\n",
       "#T_4c103_row1_col6 {\n",
       "  background-color: #90b2fe;\n",
       "  color: #000000;\n",
       "}\n",
       "#T_4c103_row1_col7, #T_4c103_row11_col4 {\n",
       "  background-color: #aac7fd;\n",
       "  color: #000000;\n",
       "}\n",
       "#T_4c103_row1_col8, #T_4c103_row2_col5, #T_4c103_row3_col11, #T_4c103_row5_col8, #T_4c103_row7_col8, #T_4c103_row8_col5, #T_4c103_row9_col5, #T_4c103_row9_col6 {\n",
       "  background-color: #6788ee;\n",
       "  color: #f1f1f1;\n",
       "}\n",
       "#T_4c103_row1_col10 {\n",
       "  background-color: #cad8ef;\n",
       "  color: #000000;\n",
       "}\n",
       "#T_4c103_row1_col12, #T_4c103_row7_col9 {\n",
       "  background-color: #465ecf;\n",
       "  color: #f1f1f1;\n",
       "}\n",
       "#T_4c103_row2_col0, #T_4c103_row5_col6 {\n",
       "  background-color: #455cce;\n",
       "  color: #f1f1f1;\n",
       "}\n",
       "#T_4c103_row2_col1, #T_4c103_row9_col0 {\n",
       "  background-color: #5470de;\n",
       "  color: #f1f1f1;\n",
       "}\n",
       "#T_4c103_row2_col4 {\n",
       "  background-color: #f39475;\n",
       "  color: #000000;\n",
       "}\n",
       "#T_4c103_row2_col6 {\n",
       "  background-color: #4e68d8;\n",
       "  color: #f1f1f1;\n",
       "}\n",
       "#T_4c103_row2_col9, #T_4c103_row5_col4 {\n",
       "  background-color: #8db0fe;\n",
       "  color: #000000;\n",
       "}\n",
       "#T_4c103_row2_col12, #T_4c103_row6_col0, #T_4c103_row7_col1, #T_4c103_row7_col10, #T_4c103_row10_col11, #T_4c103_row11_col6 {\n",
       "  background-color: #6485ec;\n",
       "  color: #f1f1f1;\n",
       "}\n",
       "#T_4c103_row3_col0, #T_4c103_row4_col5, #T_4c103_row9_col10, #T_4c103_row9_col12, #T_4c103_row11_col9 {\n",
       "  background-color: #6384eb;\n",
       "  color: #f1f1f1;\n",
       "}\n",
       "#T_4c103_row3_col1, #T_4c103_row3_col10, #T_4c103_row5_col11, #T_4c103_row6_col3, #T_4c103_row10_col3 {\n",
       "  background-color: #6f92f3;\n",
       "  color: #f1f1f1;\n",
       "}\n",
       "#T_4c103_row3_col2, #T_4c103_row5_col7, #T_4c103_row12_col2 {\n",
       "  background-color: #b2ccfb;\n",
       "  color: #000000;\n",
       "}\n",
       "#T_4c103_row3_col4 {\n",
       "  background-color: #93b5fe;\n",
       "  color: #000000;\n",
       "}\n",
       "#T_4c103_row3_col6, #T_4c103_row4_col7, #T_4c103_row12_col9 {\n",
       "  background-color: #5e7de7;\n",
       "  color: #f1f1f1;\n",
       "}\n",
       "#T_4c103_row3_col7 {\n",
       "  background-color: #b1cbfc;\n",
       "  color: #000000;\n",
       "}\n",
       "#T_4c103_row3_col8, #T_4c103_row8_col3, #T_4c103_row12_col11 {\n",
       "  background-color: #6b8df0;\n",
       "  color: #f1f1f1;\n",
       "}\n",
       "#T_4c103_row3_col9 {\n",
       "  background-color: #5d7ce6;\n",
       "  color: #f1f1f1;\n",
       "}\n",
       "#T_4c103_row3_col12, #T_4c103_row5_col0, #T_4c103_row5_col12, #T_4c103_row11_col3 {\n",
       "  background-color: #6687ed;\n",
       "  color: #f1f1f1;\n",
       "}\n",
       "#T_4c103_row4_col0, #T_4c103_row8_col12, #T_4c103_row12_col4 {\n",
       "  background-color: #7597f6;\n",
       "  color: #f1f1f1;\n",
       "}\n",
       "#T_4c103_row4_col2 {\n",
       "  background-color: #ef886b;\n",
       "  color: #f1f1f1;\n",
       "}\n",
       "#T_4c103_row4_col6, #T_4c103_row5_col9, #T_4c103_row8_col9 {\n",
       "  background-color: #5a78e4;\n",
       "  color: #f1f1f1;\n",
       "}\n",
       "#T_4c103_row4_col8, #T_4c103_row4_col12 {\n",
       "  background-color: #4257c9;\n",
       "  color: #f1f1f1;\n",
       "}\n",
       "#T_4c103_row4_col10, #T_4c103_row6_col11 {\n",
       "  background-color: #799cf8;\n",
       "  color: #f1f1f1;\n",
       "}\n",
       "#T_4c103_row4_col11 {\n",
       "  background-color: #88abfd;\n",
       "  color: #000000;\n",
       "}\n",
       "#T_4c103_row5_col1 {\n",
       "  background-color: #5b7ae5;\n",
       "  color: #f1f1f1;\n",
       "}\n",
       "#T_4c103_row5_col2, #T_4c103_row8_col7 {\n",
       "  background-color: #aec9fc;\n",
       "  color: #000000;\n",
       "}\n",
       "#T_4c103_row6_col1 {\n",
       "  background-color: #a2c1ff;\n",
       "  color: #000000;\n",
       "}\n",
       "#T_4c103_row6_col2 {\n",
       "  background-color: #a9c6fd;\n",
       "  color: #000000;\n",
       "}\n",
       "#T_4c103_row6_col4 {\n",
       "  background-color: #94b6ff;\n",
       "  color: #000000;\n",
       "}\n",
       "#T_4c103_row6_col5, #T_4c103_row10_col12 {\n",
       "  background-color: #5875e1;\n",
       "  color: #f1f1f1;\n",
       "}\n",
       "#T_4c103_row6_col7 {\n",
       "  background-color: #b6cefa;\n",
       "  color: #000000;\n",
       "}\n",
       "#T_4c103_row6_col10, #T_4c103_row7_col0 {\n",
       "  background-color: #7da0f9;\n",
       "  color: #f1f1f1;\n",
       "}\n",
       "#T_4c103_row6_col12 {\n",
       "  background-color: #4961d2;\n",
       "  color: #f1f1f1;\n",
       "}\n",
       "#T_4c103_row7_col6 {\n",
       "  background-color: #5f7fe8;\n",
       "  color: #f1f1f1;\n",
       "}\n",
       "#T_4c103_row7_col12, #T_4c103_row9_col1 {\n",
       "  background-color: #4a63d3;\n",
       "  color: #f1f1f1;\n",
       "}\n",
       "#T_4c103_row8_col2 {\n",
       "  background-color: #b7cff9;\n",
       "  color: #000000;\n",
       "}\n",
       "#T_4c103_row8_col11, #T_4c103_row9_col11 {\n",
       "  background-color: #7295f4;\n",
       "  color: #f1f1f1;\n",
       "}\n",
       "#T_4c103_row9_col2 {\n",
       "  background-color: #d1dae9;\n",
       "  color: #000000;\n",
       "}\n",
       "#T_4c103_row9_col4 {\n",
       "  background-color: #a6c4fe;\n",
       "  color: #000000;\n",
       "}\n",
       "#T_4c103_row9_col7, #T_4c103_row12_col7 {\n",
       "  background-color: #9ebeff;\n",
       "  color: #000000;\n",
       "}\n",
       "#T_4c103_row10_col1 {\n",
       "  background-color: #cbd8ee;\n",
       "  color: #000000;\n",
       "}\n",
       "#T_4c103_row10_col2, #T_4c103_row11_col2 {\n",
       "  background-color: #cedaeb;\n",
       "  color: #000000;\n",
       "}\n",
       "#T_4c103_row10_col7 {\n",
       "  background-color: #abc8fd;\n",
       "  color: #000000;\n",
       "}\n",
       "#T_4c103_row10_col9 {\n",
       "  background-color: #5673e0;\n",
       "  color: #f1f1f1;\n",
       "}\n",
       "#T_4c103_row11_col0, #T_4c103_row11_col10 {\n",
       "  background-color: #6282ea;\n",
       "  color: #f1f1f1;\n",
       "}\n",
       "#T_4c103_row11_col5, #T_4c103_row12_col3, #T_4c103_row12_col5 {\n",
       "  background-color: #6e90f2;\n",
       "  color: #f1f1f1;\n",
       "}\n",
       "#T_4c103_row11_col7 {\n",
       "  background-color: #96b7ff;\n",
       "  color: #000000;\n",
       "}\n",
       "#T_4c103_row11_col8 {\n",
       "  background-color: #7093f3;\n",
       "  color: #f1f1f1;\n",
       "}\n",
       "#T_4c103_row11_col12, #T_4c103_row12_col10 {\n",
       "  background-color: #6180e9;\n",
       "  color: #f1f1f1;\n",
       "}\n",
       "#T_4c103_row12_col0 {\n",
       "  background-color: #3c4ec2;\n",
       "  color: #f1f1f1;\n",
       "}\n",
       "#T_4c103_row12_col1 {\n",
       "  background-color: #506bda;\n",
       "  color: #f1f1f1;\n",
       "}\n",
       "#T_4c103_row12_col6 {\n",
       "  background-color: #3e51c5;\n",
       "  color: #f1f1f1;\n",
       "}\n",
       "#T_4c103_row12_col8 {\n",
       "  background-color: #7b9ff9;\n",
       "  color: #f1f1f1;\n",
       "}\n",
       "</style>\n",
       "<table id=\"T_4c103\">\n",
       "  <thead>\n",
       "    <tr>\n",
       "      <th class=\"blank level0\" >&nbsp;</th>\n",
       "      <th id=\"T_4c103_level0_col0\" class=\"col_heading level0 col0\" >track_popularity</th>\n",
       "      <th id=\"T_4c103_level0_col1\" class=\"col_heading level0 col1\" >danceability</th>\n",
       "      <th id=\"T_4c103_level0_col2\" class=\"col_heading level0 col2\" >energy</th>\n",
       "      <th id=\"T_4c103_level0_col3\" class=\"col_heading level0 col3\" >key</th>\n",
       "      <th id=\"T_4c103_level0_col4\" class=\"col_heading level0 col4\" >loudness</th>\n",
       "      <th id=\"T_4c103_level0_col5\" class=\"col_heading level0 col5\" >mode</th>\n",
       "      <th id=\"T_4c103_level0_col6\" class=\"col_heading level0 col6\" >speechiness</th>\n",
       "      <th id=\"T_4c103_level0_col7\" class=\"col_heading level0 col7\" >acousticness</th>\n",
       "      <th id=\"T_4c103_level0_col8\" class=\"col_heading level0 col8\" >instrumentalness</th>\n",
       "      <th id=\"T_4c103_level0_col9\" class=\"col_heading level0 col9\" >liveness</th>\n",
       "      <th id=\"T_4c103_level0_col10\" class=\"col_heading level0 col10\" >valence</th>\n",
       "      <th id=\"T_4c103_level0_col11\" class=\"col_heading level0 col11\" >tempo</th>\n",
       "      <th id=\"T_4c103_level0_col12\" class=\"col_heading level0 col12\" >duration_ms</th>\n",
       "    </tr>\n",
       "  </thead>\n",
       "  <tbody>\n",
       "    <tr>\n",
       "      <th id=\"T_4c103_level0_row0\" class=\"row_heading level0 row0\" >track_popularity</th>\n",
       "      <td id=\"T_4c103_row0_col0\" class=\"data row0 col0\" >1.000000</td>\n",
       "      <td id=\"T_4c103_row0_col1\" class=\"data row0 col1\" >0.064748</td>\n",
       "      <td id=\"T_4c103_row0_col2\" class=\"data row0 col2\" >-0.109112</td>\n",
       "      <td id=\"T_4c103_row0_col3\" class=\"data row0 col3\" >-0.000650</td>\n",
       "      <td id=\"T_4c103_row0_col4\" class=\"data row0 col4\" >0.057687</td>\n",
       "      <td id=\"T_4c103_row0_col5\" class=\"data row0 col5\" >0.010637</td>\n",
       "      <td id=\"T_4c103_row0_col6\" class=\"data row0 col6\" >0.006819</td>\n",
       "      <td id=\"T_4c103_row0_col7\" class=\"data row0 col7\" >0.085159</td>\n",
       "      <td id=\"T_4c103_row0_col8\" class=\"data row0 col8\" >-0.149872</td>\n",
       "      <td id=\"T_4c103_row0_col9\" class=\"data row0 col9\" >-0.054584</td>\n",
       "      <td id=\"T_4c103_row0_col10\" class=\"data row0 col10\" >0.033231</td>\n",
       "      <td id=\"T_4c103_row0_col11\" class=\"data row0 col11\" >-0.005378</td>\n",
       "      <td id=\"T_4c103_row0_col12\" class=\"data row0 col12\" >-0.143682</td>\n",
       "    </tr>\n",
       "    <tr>\n",
       "      <th id=\"T_4c103_level0_row1\" class=\"row_heading level0 row1\" >danceability</th>\n",
       "      <td id=\"T_4c103_row1_col0\" class=\"data row1 col0\" >0.064748</td>\n",
       "      <td id=\"T_4c103_row1_col1\" class=\"data row1 col1\" >1.000000</td>\n",
       "      <td id=\"T_4c103_row1_col2\" class=\"data row1 col2\" >-0.086073</td>\n",
       "      <td id=\"T_4c103_row1_col3\" class=\"data row1 col3\" >0.011736</td>\n",
       "      <td id=\"T_4c103_row1_col4\" class=\"data row1 col4\" >0.025335</td>\n",
       "      <td id=\"T_4c103_row1_col5\" class=\"data row1 col5\" >-0.058647</td>\n",
       "      <td id=\"T_4c103_row1_col6\" class=\"data row1 col6\" >0.181721</td>\n",
       "      <td id=\"T_4c103_row1_col7\" class=\"data row1 col7\" >-0.024519</td>\n",
       "      <td id=\"T_4c103_row1_col8\" class=\"data row1 col8\" >-0.008655</td>\n",
       "      <td id=\"T_4c103_row1_col9\" class=\"data row1 col9\" >-0.123859</td>\n",
       "      <td id=\"T_4c103_row1_col10\" class=\"data row1 col10\" >0.330523</td>\n",
       "      <td id=\"T_4c103_row1_col11\" class=\"data row1 col11\" >-0.184084</td>\n",
       "      <td id=\"T_4c103_row1_col12\" class=\"data row1 col12\" >-0.096879</td>\n",
       "    </tr>\n",
       "    <tr>\n",
       "      <th id=\"T_4c103_level0_row2\" class=\"row_heading level0 row2\" >energy</th>\n",
       "      <td id=\"T_4c103_row2_col0\" class=\"data row2 col0\" >-0.109112</td>\n",
       "      <td id=\"T_4c103_row2_col1\" class=\"data row2 col1\" >-0.086073</td>\n",
       "      <td id=\"T_4c103_row2_col2\" class=\"data row2 col2\" >1.000000</td>\n",
       "      <td id=\"T_4c103_row2_col3\" class=\"data row2 col3\" >0.010052</td>\n",
       "      <td id=\"T_4c103_row2_col4\" class=\"data row2 col4\" >0.676625</td>\n",
       "      <td id=\"T_4c103_row2_col5\" class=\"data row2 col5\" >-0.004800</td>\n",
       "      <td id=\"T_4c103_row2_col6\" class=\"data row2 col6\" >-0.032150</td>\n",
       "      <td id=\"T_4c103_row2_col7\" class=\"data row2 col7\" >-0.539745</td>\n",
       "      <td id=\"T_4c103_row2_col8\" class=\"data row2 col8\" >0.033247</td>\n",
       "      <td id=\"T_4c103_row2_col9\" class=\"data row2 col9\" >0.161223</td>\n",
       "      <td id=\"T_4c103_row2_col10\" class=\"data row2 col10\" >0.151103</td>\n",
       "      <td id=\"T_4c103_row2_col11\" class=\"data row2 col11\" >0.149951</td>\n",
       "      <td id=\"T_4c103_row2_col12\" class=\"data row2 col12\" >0.012611</td>\n",
       "    </tr>\n",
       "    <tr>\n",
       "      <th id=\"T_4c103_level0_row3\" class=\"row_heading level0 row3\" >key</th>\n",
       "      <td id=\"T_4c103_row3_col0\" class=\"data row3 col0\" >-0.000650</td>\n",
       "      <td id=\"T_4c103_row3_col1\" class=\"data row3 col1\" >0.011736</td>\n",
       "      <td id=\"T_4c103_row3_col2\" class=\"data row3 col2\" >0.010052</td>\n",
       "      <td id=\"T_4c103_row3_col3\" class=\"data row3 col3\" >1.000000</td>\n",
       "      <td id=\"T_4c103_row3_col4\" class=\"data row3 col4\" >0.000959</td>\n",
       "      <td id=\"T_4c103_row3_col5\" class=\"data row3 col5\" >-0.174093</td>\n",
       "      <td id=\"T_4c103_row3_col6\" class=\"data row3 col6\" >0.022607</td>\n",
       "      <td id=\"T_4c103_row3_col7\" class=\"data row3 col7\" >0.004306</td>\n",
       "      <td id=\"T_4c103_row3_col8\" class=\"data row3 col8\" >0.005968</td>\n",
       "      <td id=\"T_4c103_row3_col9\" class=\"data row3 col9\" >0.002887</td>\n",
       "      <td id=\"T_4c103_row3_col10\" class=\"data row3 col10\" >0.019914</td>\n",
       "      <td id=\"T_4c103_row3_col11\" class=\"data row3 col11\" >-0.013370</td>\n",
       "      <td id=\"T_4c103_row3_col12\" class=\"data row3 col12\" >0.015139</td>\n",
       "    </tr>\n",
       "    <tr>\n",
       "      <th id=\"T_4c103_level0_row4\" class=\"row_heading level0 row4\" >loudness</th>\n",
       "      <td id=\"T_4c103_row4_col0\" class=\"data row4 col0\" >0.057687</td>\n",
       "      <td id=\"T_4c103_row4_col1\" class=\"data row4 col1\" >0.025335</td>\n",
       "      <td id=\"T_4c103_row4_col2\" class=\"data row4 col2\" >0.676625</td>\n",
       "      <td id=\"T_4c103_row4_col3\" class=\"data row4 col3\" >0.000959</td>\n",
       "      <td id=\"T_4c103_row4_col4\" class=\"data row4 col4\" >1.000000</td>\n",
       "      <td id=\"T_4c103_row4_col5\" class=\"data row4 col5\" >-0.019289</td>\n",
       "      <td id=\"T_4c103_row4_col6\" class=\"data row4 col6\" >0.010339</td>\n",
       "      <td id=\"T_4c103_row4_col7\" class=\"data row4 col7\" >-0.361638</td>\n",
       "      <td id=\"T_4c103_row4_col8\" class=\"data row4 col8\" >-0.147824</td>\n",
       "      <td id=\"T_4c103_row4_col9\" class=\"data row4 col9\" >0.077613</td>\n",
       "      <td id=\"T_4c103_row4_col10\" class=\"data row4 col10\" >0.053384</td>\n",
       "      <td id=\"T_4c103_row4_col11\" class=\"data row4 col11\" >0.093767</td>\n",
       "      <td id=\"T_4c103_row4_col12\" class=\"data row4 col12\" >-0.115058</td>\n",
       "    </tr>\n",
       "    <tr>\n",
       "      <th id=\"T_4c103_level0_row5\" class=\"row_heading level0 row5\" >mode</th>\n",
       "      <td id=\"T_4c103_row5_col0\" class=\"data row5 col0\" >0.010637</td>\n",
       "      <td id=\"T_4c103_row5_col1\" class=\"data row5 col1\" >-0.058647</td>\n",
       "      <td id=\"T_4c103_row5_col2\" class=\"data row5 col2\" >-0.004800</td>\n",
       "      <td id=\"T_4c103_row5_col3\" class=\"data row5 col3\" >-0.174093</td>\n",
       "      <td id=\"T_4c103_row5_col4\" class=\"data row5 col4\" >-0.019289</td>\n",
       "      <td id=\"T_4c103_row5_col5\" class=\"data row5 col5\" >1.000000</td>\n",
       "      <td id=\"T_4c103_row5_col6\" class=\"data row5 col6\" >-0.063512</td>\n",
       "      <td id=\"T_4c103_row5_col7\" class=\"data row5 col7\" >0.009415</td>\n",
       "      <td id=\"T_4c103_row5_col8\" class=\"data row5 col8\" >-0.006741</td>\n",
       "      <td id=\"T_4c103_row5_col9\" class=\"data row5 col9\" >-0.005549</td>\n",
       "      <td id=\"T_4c103_row5_col10\" class=\"data row5 col10\" >0.002614</td>\n",
       "      <td id=\"T_4c103_row5_col11\" class=\"data row5 col11\" >0.014329</td>\n",
       "      <td id=\"T_4c103_row5_col12\" class=\"data row5 col12\" >0.015634</td>\n",
       "    </tr>\n",
       "    <tr>\n",
       "      <th id=\"T_4c103_level0_row6\" class=\"row_heading level0 row6\" >speechiness</th>\n",
       "      <td id=\"T_4c103_row6_col0\" class=\"data row6 col0\" >0.006819</td>\n",
       "      <td id=\"T_4c103_row6_col1\" class=\"data row6 col1\" >0.181721</td>\n",
       "      <td id=\"T_4c103_row6_col2\" class=\"data row6 col2\" >-0.032150</td>\n",
       "      <td id=\"T_4c103_row6_col3\" class=\"data row6 col3\" >0.022607</td>\n",
       "      <td id=\"T_4c103_row6_col4\" class=\"data row6 col4\" >0.010339</td>\n",
       "      <td id=\"T_4c103_row6_col5\" class=\"data row6 col5\" >-0.063512</td>\n",
       "      <td id=\"T_4c103_row6_col6\" class=\"data row6 col6\" >1.000000</td>\n",
       "      <td id=\"T_4c103_row6_col7\" class=\"data row6 col7\" >0.026092</td>\n",
       "      <td id=\"T_4c103_row6_col8\" class=\"data row6 col8\" >-0.103424</td>\n",
       "      <td id=\"T_4c103_row6_col9\" class=\"data row6 col9\" >0.055426</td>\n",
       "      <td id=\"T_4c103_row6_col10\" class=\"data row6 col10\" >0.064659</td>\n",
       "      <td id=\"T_4c103_row6_col11\" class=\"data row6 col11\" >0.044603</td>\n",
       "      <td id=\"T_4c103_row6_col12\" class=\"data row6 col12\" >-0.089431</td>\n",
       "    </tr>\n",
       "    <tr>\n",
       "      <th id=\"T_4c103_level0_row7\" class=\"row_heading level0 row7\" >acousticness</th>\n",
       "      <td id=\"T_4c103_row7_col0\" class=\"data row7 col0\" >0.085159</td>\n",
       "      <td id=\"T_4c103_row7_col1\" class=\"data row7 col1\" >-0.024519</td>\n",
       "      <td id=\"T_4c103_row7_col2\" class=\"data row7 col2\" >-0.539745</td>\n",
       "      <td id=\"T_4c103_row7_col3\" class=\"data row7 col3\" >0.004306</td>\n",
       "      <td id=\"T_4c103_row7_col4\" class=\"data row7 col4\" >-0.361638</td>\n",
       "      <td id=\"T_4c103_row7_col5\" class=\"data row7 col5\" >0.009415</td>\n",
       "      <td id=\"T_4c103_row7_col6\" class=\"data row7 col6\" >0.026092</td>\n",
       "      <td id=\"T_4c103_row7_col7\" class=\"data row7 col7\" >1.000000</td>\n",
       "      <td id=\"T_4c103_row7_col8\" class=\"data row7 col8\" >-0.006850</td>\n",
       "      <td id=\"T_4c103_row7_col9\" class=\"data row7 col9\" >-0.077243</td>\n",
       "      <td id=\"T_4c103_row7_col10\" class=\"data row7 col10\" >-0.016845</td>\n",
       "      <td id=\"T_4c103_row7_col11\" class=\"data row7 col11\" >-0.112724</td>\n",
       "      <td id=\"T_4c103_row7_col12\" class=\"data row7 col12\" >-0.081581</td>\n",
       "    </tr>\n",
       "    <tr>\n",
       "      <th id=\"T_4c103_level0_row8\" class=\"row_heading level0 row8\" >instrumentalness</th>\n",
       "      <td id=\"T_4c103_row8_col0\" class=\"data row8 col0\" >-0.149872</td>\n",
       "      <td id=\"T_4c103_row8_col1\" class=\"data row8 col1\" >-0.008655</td>\n",
       "      <td id=\"T_4c103_row8_col2\" class=\"data row8 col2\" >0.033247</td>\n",
       "      <td id=\"T_4c103_row8_col3\" class=\"data row8 col3\" >0.005968</td>\n",
       "      <td id=\"T_4c103_row8_col4\" class=\"data row8 col4\" >-0.147824</td>\n",
       "      <td id=\"T_4c103_row8_col5\" class=\"data row8 col5\" >-0.006741</td>\n",
       "      <td id=\"T_4c103_row8_col6\" class=\"data row8 col6\" >-0.103424</td>\n",
       "      <td id=\"T_4c103_row8_col7\" class=\"data row8 col7\" >-0.006850</td>\n",
       "      <td id=\"T_4c103_row8_col8\" class=\"data row8 col8\" >1.000000</td>\n",
       "      <td id=\"T_4c103_row8_col9\" class=\"data row8 col9\" >-0.005507</td>\n",
       "      <td id=\"T_4c103_row8_col10\" class=\"data row8 col10\" >-0.175402</td>\n",
       "      <td id=\"T_4c103_row8_col11\" class=\"data row8 col11\" >0.023335</td>\n",
       "      <td id=\"T_4c103_row8_col12\" class=\"data row8 col12\" >0.063235</td>\n",
       "    </tr>\n",
       "    <tr>\n",
       "      <th id=\"T_4c103_level0_row9\" class=\"row_heading level0 row9\" >liveness</th>\n",
       "      <td id=\"T_4c103_row9_col0\" class=\"data row9 col0\" >-0.054584</td>\n",
       "      <td id=\"T_4c103_row9_col1\" class=\"data row9 col1\" >-0.123859</td>\n",
       "      <td id=\"T_4c103_row9_col2\" class=\"data row9 col2\" >0.161223</td>\n",
       "      <td id=\"T_4c103_row9_col3\" class=\"data row9 col3\" >0.002887</td>\n",
       "      <td id=\"T_4c103_row9_col4\" class=\"data row9 col4\" >0.077613</td>\n",
       "      <td id=\"T_4c103_row9_col5\" class=\"data row9 col5\" >-0.005549</td>\n",
       "      <td id=\"T_4c103_row9_col6\" class=\"data row9 col6\" >0.055426</td>\n",
       "      <td id=\"T_4c103_row9_col7\" class=\"data row9 col7\" >-0.077243</td>\n",
       "      <td id=\"T_4c103_row9_col8\" class=\"data row9 col8\" >-0.005507</td>\n",
       "      <td id=\"T_4c103_row9_col9\" class=\"data row9 col9\" >1.000000</td>\n",
       "      <td id=\"T_4c103_row9_col10\" class=\"data row9 col10\" >-0.020560</td>\n",
       "      <td id=\"T_4c103_row9_col11\" class=\"data row9 col11\" >0.021018</td>\n",
       "      <td id=\"T_4c103_row9_col12\" class=\"data row9 col12\" >0.006138</td>\n",
       "    </tr>\n",
       "    <tr>\n",
       "      <th id=\"T_4c103_level0_row10\" class=\"row_heading level0 row10\" >valence</th>\n",
       "      <td id=\"T_4c103_row10_col0\" class=\"data row10 col0\" >0.033231</td>\n",
       "      <td id=\"T_4c103_row10_col1\" class=\"data row10 col1\" >0.330523</td>\n",
       "      <td id=\"T_4c103_row10_col2\" class=\"data row10 col2\" >0.151103</td>\n",
       "      <td id=\"T_4c103_row10_col3\" class=\"data row10 col3\" >0.019914</td>\n",
       "      <td id=\"T_4c103_row10_col4\" class=\"data row10 col4\" >0.053384</td>\n",
       "      <td id=\"T_4c103_row10_col5\" class=\"data row10 col5\" >0.002614</td>\n",
       "      <td id=\"T_4c103_row10_col6\" class=\"data row10 col6\" >0.064659</td>\n",
       "      <td id=\"T_4c103_row10_col7\" class=\"data row10 col7\" >-0.016845</td>\n",
       "      <td id=\"T_4c103_row10_col8\" class=\"data row10 col8\" >-0.175402</td>\n",
       "      <td id=\"T_4c103_row10_col9\" class=\"data row10 col9\" >-0.020560</td>\n",
       "      <td id=\"T_4c103_row10_col10\" class=\"data row10 col10\" >1.000000</td>\n",
       "      <td id=\"T_4c103_row10_col11\" class=\"data row10 col11\" >-0.025732</td>\n",
       "      <td id=\"T_4c103_row10_col12\" class=\"data row10 col12\" >-0.032225</td>\n",
       "    </tr>\n",
       "    <tr>\n",
       "      <th id=\"T_4c103_level0_row11\" class=\"row_heading level0 row11\" >tempo</th>\n",
       "      <td id=\"T_4c103_row11_col0\" class=\"data row11 col0\" >-0.005378</td>\n",
       "      <td id=\"T_4c103_row11_col1\" class=\"data row11 col1\" >-0.184084</td>\n",
       "      <td id=\"T_4c103_row11_col2\" class=\"data row11 col2\" >0.149951</td>\n",
       "      <td id=\"T_4c103_row11_col3\" class=\"data row11 col3\" >-0.013370</td>\n",
       "      <td id=\"T_4c103_row11_col4\" class=\"data row11 col4\" >0.093767</td>\n",
       "      <td id=\"T_4c103_row11_col5\" class=\"data row11 col5\" >0.014329</td>\n",
       "      <td id=\"T_4c103_row11_col6\" class=\"data row11 col6\" >0.044603</td>\n",
       "      <td id=\"T_4c103_row11_col7\" class=\"data row11 col7\" >-0.112724</td>\n",
       "      <td id=\"T_4c103_row11_col8\" class=\"data row11 col8\" >0.023335</td>\n",
       "      <td id=\"T_4c103_row11_col9\" class=\"data row11 col9\" >0.021018</td>\n",
       "      <td id=\"T_4c103_row11_col10\" class=\"data row11 col10\" >-0.025732</td>\n",
       "      <td id=\"T_4c103_row11_col11\" class=\"data row11 col11\" >1.000000</td>\n",
       "      <td id=\"T_4c103_row11_col12\" class=\"data row11 col12\" >-0.001412</td>\n",
       "    </tr>\n",
       "    <tr>\n",
       "      <th id=\"T_4c103_level0_row12\" class=\"row_heading level0 row12\" >duration_ms</th>\n",
       "      <td id=\"T_4c103_row12_col0\" class=\"data row12 col0\" >-0.143682</td>\n",
       "      <td id=\"T_4c103_row12_col1\" class=\"data row12 col1\" >-0.096879</td>\n",
       "      <td id=\"T_4c103_row12_col2\" class=\"data row12 col2\" >0.012611</td>\n",
       "      <td id=\"T_4c103_row12_col3\" class=\"data row12 col3\" >0.015139</td>\n",
       "      <td id=\"T_4c103_row12_col4\" class=\"data row12 col4\" >-0.115058</td>\n",
       "      <td id=\"T_4c103_row12_col5\" class=\"data row12 col5\" >0.015634</td>\n",
       "      <td id=\"T_4c103_row12_col6\" class=\"data row12 col6\" >-0.089431</td>\n",
       "      <td id=\"T_4c103_row12_col7\" class=\"data row12 col7\" >-0.081581</td>\n",
       "      <td id=\"T_4c103_row12_col8\" class=\"data row12 col8\" >0.063235</td>\n",
       "      <td id=\"T_4c103_row12_col9\" class=\"data row12 col9\" >0.006138</td>\n",
       "      <td id=\"T_4c103_row12_col10\" class=\"data row12 col10\" >-0.032225</td>\n",
       "      <td id=\"T_4c103_row12_col11\" class=\"data row12 col11\" >-0.001412</td>\n",
       "      <td id=\"T_4c103_row12_col12\" class=\"data row12 col12\" >1.000000</td>\n",
       "    </tr>\n",
       "  </tbody>\n",
       "</table>\n"
      ],
      "text/plain": [
       "<pandas.io.formats.style.Styler at 0x7f9fcf263c70>"
      ]
     },
     "execution_count": 21,
     "metadata": {},
     "output_type": "execute_result"
    }
   ],
   "source": [
    "#Identify highly correlated features to check if there's more we want to explore\n",
    "corr = songs_data.corr()\n",
    "corr.style.background_gradient(cmap='coolwarm')"
   ]
  },
  {
   "cell_type": "markdown",
   "metadata": {},
   "source": [
    "<div class=\"alert alert-block alert-info\"> <b>Findings: </b> Comparably high correlation identified between 'loudness' and 'energy'.</div>"
   ]
  },
  {
   "cell_type": "markdown",
   "metadata": {},
   "source": [
    "<div class=\"alert alert-block alert-danger\"> <b>Consequence: </b> Identified correlations lower than 80% threshold, so they will not be dropped due to that.</div>"
   ]
  },
  {
   "cell_type": "markdown",
   "metadata": {},
   "source": [
    "### Explore column `track_artist` "
   ]
  },
  {
   "cell_type": "code",
   "execution_count": 22,
   "metadata": {
    "scrolled": false
   },
   "outputs": [
    {
     "data": {
      "application/vnd.plotly.v1+json": {
       "config": {
        "plotlyServerURL": "https://plot.ly"
       },
       "data": [
        {
         "alignmentgroup": "True",
         "hovertemplate": "genre=rock<br>Artist Name=%{x}<br>Song Count=%{y}<extra></extra>",
         "legendgroup": "rock",
         "marker": {
          "color": "#636efa",
          "pattern": {
           "shape": ""
          }
         },
         "name": "rock",
         "offsetgroup": "rock",
         "orientation": "v",
         "showlegend": true,
         "textposition": "auto",
         "type": "bar",
         "x": [
          "Queen",
          "Guns N' Roses",
          "The Cranberries"
         ],
         "xaxis": "x",
         "y": [
          134,
          76,
          45
         ],
         "yaxis": "y"
        },
        {
         "alignmentgroup": "True",
         "hovertemplate": "genre=rap<br>Artist Name=%{x}<br>Song Count=%{y}<extra></extra>",
         "legendgroup": "rap",
         "marker": {
          "color": "#EF553B",
          "pattern": {
           "shape": ""
          }
         },
         "name": "rap",
         "offsetgroup": "rap",
         "orientation": "v",
         "showlegend": true,
         "textposition": "auto",
         "type": "bar",
         "x": [
          "Logic",
          "2Pac",
          "50 Cent"
         ],
         "xaxis": "x",
         "y": [
          65,
          55,
          53
         ],
         "yaxis": "y"
        },
        {
         "alignmentgroup": "True",
         "hovertemplate": "genre=r&b<br>Artist Name=%{x}<br>Song Count=%{y}<extra></extra>",
         "legendgroup": "r&b",
         "marker": {
          "color": "#00cc96",
          "pattern": {
           "shape": ""
          }
         },
         "name": "r&b",
         "offsetgroup": "r&b",
         "orientation": "v",
         "showlegend": true,
         "textposition": "auto",
         "type": "bar",
         "x": [
          "Bobby Brown",
          "The Weeknd",
          "Janet Jackson"
         ],
         "xaxis": "x",
         "y": [
          42,
          41,
          39
         ],
         "yaxis": "y"
        },
        {
         "alignmentgroup": "True",
         "hovertemplate": "genre=pop<br>Artist Name=%{x}<br>Song Count=%{y}<extra></extra>",
         "legendgroup": "pop",
         "marker": {
          "color": "#ab63fa",
          "pattern": {
           "shape": ""
          }
         },
         "name": "pop",
         "offsetgroup": "pop",
         "orientation": "v",
         "showlegend": true,
         "textposition": "auto",
         "type": "bar",
         "x": [
          "The Chainsmokers",
          "David Guetta",
          "Javiera Mena"
         ],
         "xaxis": "x",
         "y": [
          46,
          44,
          43
         ],
         "yaxis": "y"
        },
        {
         "alignmentgroup": "True",
         "hovertemplate": "genre=latin<br>Artist Name=%{x}<br>Song Count=%{y}<extra></extra>",
         "legendgroup": "latin",
         "marker": {
          "color": "#FFA15A",
          "pattern": {
           "shape": ""
          }
         },
         "name": "latin",
         "offsetgroup": "latin",
         "orientation": "v",
         "showlegend": true,
         "textposition": "auto",
         "type": "bar",
         "x": [
          "Don Omar",
          "Daddy Yankee",
          "Wisin & Yandel"
         ],
         "xaxis": "x",
         "y": [
          100,
          61,
          60
         ],
         "yaxis": "y"
        },
        {
         "alignmentgroup": "True",
         "hovertemplate": "genre=edm<br>Artist Name=%{x}<br>Song Count=%{y}<extra></extra>",
         "legendgroup": "edm",
         "marker": {
          "color": "#19d3f3",
          "pattern": {
           "shape": ""
          }
         },
         "name": "edm",
         "offsetgroup": "edm",
         "orientation": "v",
         "showlegend": true,
         "textposition": "auto",
         "type": "bar",
         "x": [
          "Martin Garrix",
          "Dimitri Vegas & Like Mike",
          "Hardwell"
         ],
         "xaxis": "x",
         "y": [
          125,
          79,
          76
         ],
         "yaxis": "y"
        }
       ],
       "layout": {
        "barmode": "relative",
        "legend": {
         "title": {
          "text": "genre"
         },
         "tracegroupgap": 0
        },
        "template": {
         "data": {
          "bar": [
           {
            "error_x": {
             "color": "#2a3f5f"
            },
            "error_y": {
             "color": "#2a3f5f"
            },
            "marker": {
             "line": {
              "color": "#E5ECF6",
              "width": 0.5
             },
             "pattern": {
              "fillmode": "overlay",
              "size": 10,
              "solidity": 0.2
             }
            },
            "type": "bar"
           }
          ],
          "barpolar": [
           {
            "marker": {
             "line": {
              "color": "#E5ECF6",
              "width": 0.5
             },
             "pattern": {
              "fillmode": "overlay",
              "size": 10,
              "solidity": 0.2
             }
            },
            "type": "barpolar"
           }
          ],
          "carpet": [
           {
            "aaxis": {
             "endlinecolor": "#2a3f5f",
             "gridcolor": "white",
             "linecolor": "white",
             "minorgridcolor": "white",
             "startlinecolor": "#2a3f5f"
            },
            "baxis": {
             "endlinecolor": "#2a3f5f",
             "gridcolor": "white",
             "linecolor": "white",
             "minorgridcolor": "white",
             "startlinecolor": "#2a3f5f"
            },
            "type": "carpet"
           }
          ],
          "choropleth": [
           {
            "colorbar": {
             "outlinewidth": 0,
             "ticks": ""
            },
            "type": "choropleth"
           }
          ],
          "contour": [
           {
            "colorbar": {
             "outlinewidth": 0,
             "ticks": ""
            },
            "colorscale": [
             [
              0,
              "#0d0887"
             ],
             [
              0.1111111111111111,
              "#46039f"
             ],
             [
              0.2222222222222222,
              "#7201a8"
             ],
             [
              0.3333333333333333,
              "#9c179e"
             ],
             [
              0.4444444444444444,
              "#bd3786"
             ],
             [
              0.5555555555555556,
              "#d8576b"
             ],
             [
              0.6666666666666666,
              "#ed7953"
             ],
             [
              0.7777777777777778,
              "#fb9f3a"
             ],
             [
              0.8888888888888888,
              "#fdca26"
             ],
             [
              1,
              "#f0f921"
             ]
            ],
            "type": "contour"
           }
          ],
          "contourcarpet": [
           {
            "colorbar": {
             "outlinewidth": 0,
             "ticks": ""
            },
            "type": "contourcarpet"
           }
          ],
          "heatmap": [
           {
            "colorbar": {
             "outlinewidth": 0,
             "ticks": ""
            },
            "colorscale": [
             [
              0,
              "#0d0887"
             ],
             [
              0.1111111111111111,
              "#46039f"
             ],
             [
              0.2222222222222222,
              "#7201a8"
             ],
             [
              0.3333333333333333,
              "#9c179e"
             ],
             [
              0.4444444444444444,
              "#bd3786"
             ],
             [
              0.5555555555555556,
              "#d8576b"
             ],
             [
              0.6666666666666666,
              "#ed7953"
             ],
             [
              0.7777777777777778,
              "#fb9f3a"
             ],
             [
              0.8888888888888888,
              "#fdca26"
             ],
             [
              1,
              "#f0f921"
             ]
            ],
            "type": "heatmap"
           }
          ],
          "heatmapgl": [
           {
            "colorbar": {
             "outlinewidth": 0,
             "ticks": ""
            },
            "colorscale": [
             [
              0,
              "#0d0887"
             ],
             [
              0.1111111111111111,
              "#46039f"
             ],
             [
              0.2222222222222222,
              "#7201a8"
             ],
             [
              0.3333333333333333,
              "#9c179e"
             ],
             [
              0.4444444444444444,
              "#bd3786"
             ],
             [
              0.5555555555555556,
              "#d8576b"
             ],
             [
              0.6666666666666666,
              "#ed7953"
             ],
             [
              0.7777777777777778,
              "#fb9f3a"
             ],
             [
              0.8888888888888888,
              "#fdca26"
             ],
             [
              1,
              "#f0f921"
             ]
            ],
            "type": "heatmapgl"
           }
          ],
          "histogram": [
           {
            "marker": {
             "pattern": {
              "fillmode": "overlay",
              "size": 10,
              "solidity": 0.2
             }
            },
            "type": "histogram"
           }
          ],
          "histogram2d": [
           {
            "colorbar": {
             "outlinewidth": 0,
             "ticks": ""
            },
            "colorscale": [
             [
              0,
              "#0d0887"
             ],
             [
              0.1111111111111111,
              "#46039f"
             ],
             [
              0.2222222222222222,
              "#7201a8"
             ],
             [
              0.3333333333333333,
              "#9c179e"
             ],
             [
              0.4444444444444444,
              "#bd3786"
             ],
             [
              0.5555555555555556,
              "#d8576b"
             ],
             [
              0.6666666666666666,
              "#ed7953"
             ],
             [
              0.7777777777777778,
              "#fb9f3a"
             ],
             [
              0.8888888888888888,
              "#fdca26"
             ],
             [
              1,
              "#f0f921"
             ]
            ],
            "type": "histogram2d"
           }
          ],
          "histogram2dcontour": [
           {
            "colorbar": {
             "outlinewidth": 0,
             "ticks": ""
            },
            "colorscale": [
             [
              0,
              "#0d0887"
             ],
             [
              0.1111111111111111,
              "#46039f"
             ],
             [
              0.2222222222222222,
              "#7201a8"
             ],
             [
              0.3333333333333333,
              "#9c179e"
             ],
             [
              0.4444444444444444,
              "#bd3786"
             ],
             [
              0.5555555555555556,
              "#d8576b"
             ],
             [
              0.6666666666666666,
              "#ed7953"
             ],
             [
              0.7777777777777778,
              "#fb9f3a"
             ],
             [
              0.8888888888888888,
              "#fdca26"
             ],
             [
              1,
              "#f0f921"
             ]
            ],
            "type": "histogram2dcontour"
           }
          ],
          "mesh3d": [
           {
            "colorbar": {
             "outlinewidth": 0,
             "ticks": ""
            },
            "type": "mesh3d"
           }
          ],
          "parcoords": [
           {
            "line": {
             "colorbar": {
              "outlinewidth": 0,
              "ticks": ""
             }
            },
            "type": "parcoords"
           }
          ],
          "pie": [
           {
            "automargin": true,
            "type": "pie"
           }
          ],
          "scatter": [
           {
            "marker": {
             "colorbar": {
              "outlinewidth": 0,
              "ticks": ""
             }
            },
            "type": "scatter"
           }
          ],
          "scatter3d": [
           {
            "line": {
             "colorbar": {
              "outlinewidth": 0,
              "ticks": ""
             }
            },
            "marker": {
             "colorbar": {
              "outlinewidth": 0,
              "ticks": ""
             }
            },
            "type": "scatter3d"
           }
          ],
          "scattercarpet": [
           {
            "marker": {
             "colorbar": {
              "outlinewidth": 0,
              "ticks": ""
             }
            },
            "type": "scattercarpet"
           }
          ],
          "scattergeo": [
           {
            "marker": {
             "colorbar": {
              "outlinewidth": 0,
              "ticks": ""
             }
            },
            "type": "scattergeo"
           }
          ],
          "scattergl": [
           {
            "marker": {
             "colorbar": {
              "outlinewidth": 0,
              "ticks": ""
             }
            },
            "type": "scattergl"
           }
          ],
          "scattermapbox": [
           {
            "marker": {
             "colorbar": {
              "outlinewidth": 0,
              "ticks": ""
             }
            },
            "type": "scattermapbox"
           }
          ],
          "scatterpolar": [
           {
            "marker": {
             "colorbar": {
              "outlinewidth": 0,
              "ticks": ""
             }
            },
            "type": "scatterpolar"
           }
          ],
          "scatterpolargl": [
           {
            "marker": {
             "colorbar": {
              "outlinewidth": 0,
              "ticks": ""
             }
            },
            "type": "scatterpolargl"
           }
          ],
          "scatterternary": [
           {
            "marker": {
             "colorbar": {
              "outlinewidth": 0,
              "ticks": ""
             }
            },
            "type": "scatterternary"
           }
          ],
          "surface": [
           {
            "colorbar": {
             "outlinewidth": 0,
             "ticks": ""
            },
            "colorscale": [
             [
              0,
              "#0d0887"
             ],
             [
              0.1111111111111111,
              "#46039f"
             ],
             [
              0.2222222222222222,
              "#7201a8"
             ],
             [
              0.3333333333333333,
              "#9c179e"
             ],
             [
              0.4444444444444444,
              "#bd3786"
             ],
             [
              0.5555555555555556,
              "#d8576b"
             ],
             [
              0.6666666666666666,
              "#ed7953"
             ],
             [
              0.7777777777777778,
              "#fb9f3a"
             ],
             [
              0.8888888888888888,
              "#fdca26"
             ],
             [
              1,
              "#f0f921"
             ]
            ],
            "type": "surface"
           }
          ],
          "table": [
           {
            "cells": {
             "fill": {
              "color": "#EBF0F8"
             },
             "line": {
              "color": "white"
             }
            },
            "header": {
             "fill": {
              "color": "#C8D4E3"
             },
             "line": {
              "color": "white"
             }
            },
            "type": "table"
           }
          ]
         },
         "layout": {
          "annotationdefaults": {
           "arrowcolor": "#2a3f5f",
           "arrowhead": 0,
           "arrowwidth": 1
          },
          "autotypenumbers": "strict",
          "coloraxis": {
           "colorbar": {
            "outlinewidth": 0,
            "ticks": ""
           }
          },
          "colorscale": {
           "diverging": [
            [
             0,
             "#8e0152"
            ],
            [
             0.1,
             "#c51b7d"
            ],
            [
             0.2,
             "#de77ae"
            ],
            [
             0.3,
             "#f1b6da"
            ],
            [
             0.4,
             "#fde0ef"
            ],
            [
             0.5,
             "#f7f7f7"
            ],
            [
             0.6,
             "#e6f5d0"
            ],
            [
             0.7,
             "#b8e186"
            ],
            [
             0.8,
             "#7fbc41"
            ],
            [
             0.9,
             "#4d9221"
            ],
            [
             1,
             "#276419"
            ]
           ],
           "sequential": [
            [
             0,
             "#0d0887"
            ],
            [
             0.1111111111111111,
             "#46039f"
            ],
            [
             0.2222222222222222,
             "#7201a8"
            ],
            [
             0.3333333333333333,
             "#9c179e"
            ],
            [
             0.4444444444444444,
             "#bd3786"
            ],
            [
             0.5555555555555556,
             "#d8576b"
            ],
            [
             0.6666666666666666,
             "#ed7953"
            ],
            [
             0.7777777777777778,
             "#fb9f3a"
            ],
            [
             0.8888888888888888,
             "#fdca26"
            ],
            [
             1,
             "#f0f921"
            ]
           ],
           "sequentialminus": [
            [
             0,
             "#0d0887"
            ],
            [
             0.1111111111111111,
             "#46039f"
            ],
            [
             0.2222222222222222,
             "#7201a8"
            ],
            [
             0.3333333333333333,
             "#9c179e"
            ],
            [
             0.4444444444444444,
             "#bd3786"
            ],
            [
             0.5555555555555556,
             "#d8576b"
            ],
            [
             0.6666666666666666,
             "#ed7953"
            ],
            [
             0.7777777777777778,
             "#fb9f3a"
            ],
            [
             0.8888888888888888,
             "#fdca26"
            ],
            [
             1,
             "#f0f921"
            ]
           ]
          },
          "colorway": [
           "#636efa",
           "#EF553B",
           "#00cc96",
           "#ab63fa",
           "#FFA15A",
           "#19d3f3",
           "#FF6692",
           "#B6E880",
           "#FF97FF",
           "#FECB52"
          ],
          "font": {
           "color": "#2a3f5f"
          },
          "geo": {
           "bgcolor": "white",
           "lakecolor": "white",
           "landcolor": "#E5ECF6",
           "showlakes": true,
           "showland": true,
           "subunitcolor": "white"
          },
          "hoverlabel": {
           "align": "left"
          },
          "hovermode": "closest",
          "mapbox": {
           "style": "light"
          },
          "paper_bgcolor": "white",
          "plot_bgcolor": "#E5ECF6",
          "polar": {
           "angularaxis": {
            "gridcolor": "white",
            "linecolor": "white",
            "ticks": ""
           },
           "bgcolor": "#E5ECF6",
           "radialaxis": {
            "gridcolor": "white",
            "linecolor": "white",
            "ticks": ""
           }
          },
          "scene": {
           "xaxis": {
            "backgroundcolor": "#E5ECF6",
            "gridcolor": "white",
            "gridwidth": 2,
            "linecolor": "white",
            "showbackground": true,
            "ticks": "",
            "zerolinecolor": "white"
           },
           "yaxis": {
            "backgroundcolor": "#E5ECF6",
            "gridcolor": "white",
            "gridwidth": 2,
            "linecolor": "white",
            "showbackground": true,
            "ticks": "",
            "zerolinecolor": "white"
           },
           "zaxis": {
            "backgroundcolor": "#E5ECF6",
            "gridcolor": "white",
            "gridwidth": 2,
            "linecolor": "white",
            "showbackground": true,
            "ticks": "",
            "zerolinecolor": "white"
           }
          },
          "shapedefaults": {
           "line": {
            "color": "#2a3f5f"
           }
          },
          "ternary": {
           "aaxis": {
            "gridcolor": "white",
            "linecolor": "white",
            "ticks": ""
           },
           "baxis": {
            "gridcolor": "white",
            "linecolor": "white",
            "ticks": ""
           },
           "bgcolor": "#E5ECF6",
           "caxis": {
            "gridcolor": "white",
            "linecolor": "white",
            "ticks": ""
           }
          },
          "title": {
           "x": 0.05
          },
          "xaxis": {
           "automargin": true,
           "gridcolor": "white",
           "linecolor": "white",
           "ticks": "",
           "title": {
            "standoff": 15
           },
           "zerolinecolor": "white",
           "zerolinewidth": 2
          },
          "yaxis": {
           "automargin": true,
           "gridcolor": "white",
           "linecolor": "white",
           "ticks": "",
           "title": {
            "standoff": 15
           },
           "zerolinecolor": "white",
           "zerolinewidth": 2
          }
         }
        },
        "title": {
         "text": "Top 3 Artists per Genre"
        },
        "xaxis": {
         "anchor": "y",
         "domain": [
          0,
          1
         ],
         "title": {
          "text": "Artist Name"
         },
         "type": "category"
        },
        "yaxis": {
         "anchor": "x",
         "domain": [
          0,
          1
         ],
         "title": {
          "text": "Song Count"
         }
        }
       }
      }
     },
     "metadata": {},
     "output_type": "display_data"
    }
   ],
   "source": [
    "#visualize top 3 artists per Genre\n",
    "top_artists_genre = (songs_data.groupby(['genre', 'track_artist'])\n",
    "                     .agg({'track_id': 'count'}).reset_index()\n",
    "                     .sort_values(by=['genre', 'track_id'], ascending=False).reset_index(drop=True)\n",
    "                     .groupby('genre').head(3)\n",
    "                     .reset_index(drop=True))\n",
    "ax = px.bar(top_artists_genre, x='track_artist', y='track_id',\n",
    "            color='genre',\n",
    "            labels={\"track_id\": \"Song Count\", \"track_artist\": \"Artist Name\"},\n",
    "            title=\"Top 3 Artists per Genre\")\n",
    "ax.update_layout(xaxis=dict(type=\"category\"))\n",
    "ax.show()"
   ]
  },
  {
   "cell_type": "code",
   "execution_count": 23,
   "metadata": {
    "scrolled": false
   },
   "outputs": [
    {
     "data": {
      "application/vnd.plotly.v1+json": {
       "config": {
        "plotlyServerURL": "https://plot.ly"
       },
       "data": [
        {
         "alignmentgroup": "True",
         "hovertemplate": "Artist=%{x}<br>Song Count=%{y}<extra></extra>",
         "legendgroup": "Martin Garrix",
         "marker": {
          "color": "#636efa",
          "pattern": {
           "shape": ""
          }
         },
         "name": "Martin Garrix",
         "offsetgroup": "Martin Garrix",
         "orientation": "v",
         "showlegend": true,
         "textposition": "auto",
         "texttemplate": "%{y}",
         "type": "bar",
         "x": [
          "Martin Garrix"
         ],
         "xaxis": "x",
         "y": [
          161
         ],
         "yaxis": "y"
        },
        {
         "alignmentgroup": "True",
         "hovertemplate": "Artist=%{x}<br>Song Count=%{y}<extra></extra>",
         "legendgroup": "Queen",
         "marker": {
          "color": "#EF553B",
          "pattern": {
           "shape": ""
          }
         },
         "name": "Queen",
         "offsetgroup": "Queen",
         "orientation": "v",
         "showlegend": true,
         "textposition": "auto",
         "texttemplate": "%{y}",
         "type": "bar",
         "x": [
          "Queen"
         ],
         "xaxis": "x",
         "y": [
          136
         ],
         "yaxis": "y"
        },
        {
         "alignmentgroup": "True",
         "hovertemplate": "Artist=%{x}<br>Song Count=%{y}<extra></extra>",
         "legendgroup": "The Chainsmokers",
         "marker": {
          "color": "#00cc96",
          "pattern": {
           "shape": ""
          }
         },
         "name": "The Chainsmokers",
         "offsetgroup": "The Chainsmokers",
         "orientation": "v",
         "showlegend": true,
         "textposition": "auto",
         "texttemplate": "%{y}",
         "type": "bar",
         "x": [
          "The Chainsmokers"
         ],
         "xaxis": "x",
         "y": [
          123
         ],
         "yaxis": "y"
        },
        {
         "alignmentgroup": "True",
         "hovertemplate": "Artist=%{x}<br>Song Count=%{y}<extra></extra>",
         "legendgroup": "David Guetta",
         "marker": {
          "color": "#ab63fa",
          "pattern": {
           "shape": ""
          }
         },
         "name": "David Guetta",
         "offsetgroup": "David Guetta",
         "orientation": "v",
         "showlegend": true,
         "textposition": "auto",
         "texttemplate": "%{y}",
         "type": "bar",
         "x": [
          "David Guetta"
         ],
         "xaxis": "x",
         "y": [
          110
         ],
         "yaxis": "y"
        },
        {
         "alignmentgroup": "True",
         "hovertemplate": "Artist=%{x}<br>Song Count=%{y}<extra></extra>",
         "legendgroup": "Don Omar",
         "marker": {
          "color": "#FFA15A",
          "pattern": {
           "shape": ""
          }
         },
         "name": "Don Omar",
         "offsetgroup": "Don Omar",
         "orientation": "v",
         "showlegend": true,
         "textposition": "auto",
         "texttemplate": "%{y}",
         "type": "bar",
         "x": [
          "Don Omar"
         ],
         "xaxis": "x",
         "y": [
          102
         ],
         "yaxis": "y"
        },
        {
         "alignmentgroup": "True",
         "hovertemplate": "Artist=%{x}<br>Song Count=%{y}<extra></extra>",
         "legendgroup": "Drake",
         "marker": {
          "color": "#19d3f3",
          "pattern": {
           "shape": ""
          }
         },
         "name": "Drake",
         "offsetgroup": "Drake",
         "orientation": "v",
         "showlegend": true,
         "textposition": "auto",
         "texttemplate": "%{y}",
         "type": "bar",
         "x": [
          "Drake"
         ],
         "xaxis": "x",
         "y": [
          100
         ],
         "yaxis": "y"
        },
        {
         "alignmentgroup": "True",
         "hovertemplate": "Artist=%{x}<br>Song Count=%{y}<extra></extra>",
         "legendgroup": "Dimitri Vegas & Like Mike",
         "marker": {
          "color": "#FF6692",
          "pattern": {
           "shape": ""
          }
         },
         "name": "Dimitri Vegas & Like Mike",
         "offsetgroup": "Dimitri Vegas & Like Mike",
         "orientation": "v",
         "showlegend": true,
         "textposition": "auto",
         "texttemplate": "%{y}",
         "type": "bar",
         "x": [
          "Dimitri Vegas & Like Mike"
         ],
         "xaxis": "x",
         "y": [
          93
         ],
         "yaxis": "y"
        },
        {
         "alignmentgroup": "True",
         "hovertemplate": "Artist=%{x}<br>Song Count=%{y}<extra></extra>",
         "legendgroup": "Calvin Harris",
         "marker": {
          "color": "#B6E880",
          "pattern": {
           "shape": ""
          }
         },
         "name": "Calvin Harris",
         "offsetgroup": "Calvin Harris",
         "orientation": "v",
         "showlegend": true,
         "textposition": "auto",
         "texttemplate": "%{y}",
         "type": "bar",
         "x": [
          "Calvin Harris"
         ],
         "xaxis": "x",
         "y": [
          91
         ],
         "yaxis": "y"
        },
        {
         "alignmentgroup": "True",
         "hovertemplate": "Artist=%{x}<br>Song Count=%{y}<extra></extra>",
         "legendgroup": "Hardwell",
         "marker": {
          "color": "#FF97FF",
          "pattern": {
           "shape": ""
          }
         },
         "name": "Hardwell",
         "offsetgroup": "Hardwell",
         "orientation": "v",
         "showlegend": true,
         "textposition": "auto",
         "texttemplate": "%{y}",
         "type": "bar",
         "x": [
          "Hardwell"
         ],
         "xaxis": "x",
         "y": [
          84
         ],
         "yaxis": "y"
        },
        {
         "alignmentgroup": "True",
         "hovertemplate": "Artist=%{x}<br>Song Count=%{y}<extra></extra>",
         "legendgroup": "Kygo",
         "marker": {
          "color": "#FECB52",
          "pattern": {
           "shape": ""
          }
         },
         "name": "Kygo",
         "offsetgroup": "Kygo",
         "orientation": "v",
         "showlegend": true,
         "textposition": "auto",
         "texttemplate": "%{y}",
         "type": "bar",
         "x": [
          "Kygo"
         ],
         "xaxis": "x",
         "y": [
          83
         ],
         "yaxis": "y"
        }
       ],
       "layout": {
        "barmode": "relative",
        "legend": {
         "title": {
          "text": "Artist"
         },
         "tracegroupgap": 0
        },
        "showlegend": false,
        "template": {
         "data": {
          "bar": [
           {
            "error_x": {
             "color": "#2a3f5f"
            },
            "error_y": {
             "color": "#2a3f5f"
            },
            "marker": {
             "line": {
              "color": "#E5ECF6",
              "width": 0.5
             },
             "pattern": {
              "fillmode": "overlay",
              "size": 10,
              "solidity": 0.2
             }
            },
            "type": "bar"
           }
          ],
          "barpolar": [
           {
            "marker": {
             "line": {
              "color": "#E5ECF6",
              "width": 0.5
             },
             "pattern": {
              "fillmode": "overlay",
              "size": 10,
              "solidity": 0.2
             }
            },
            "type": "barpolar"
           }
          ],
          "carpet": [
           {
            "aaxis": {
             "endlinecolor": "#2a3f5f",
             "gridcolor": "white",
             "linecolor": "white",
             "minorgridcolor": "white",
             "startlinecolor": "#2a3f5f"
            },
            "baxis": {
             "endlinecolor": "#2a3f5f",
             "gridcolor": "white",
             "linecolor": "white",
             "minorgridcolor": "white",
             "startlinecolor": "#2a3f5f"
            },
            "type": "carpet"
           }
          ],
          "choropleth": [
           {
            "colorbar": {
             "outlinewidth": 0,
             "ticks": ""
            },
            "type": "choropleth"
           }
          ],
          "contour": [
           {
            "colorbar": {
             "outlinewidth": 0,
             "ticks": ""
            },
            "colorscale": [
             [
              0,
              "#0d0887"
             ],
             [
              0.1111111111111111,
              "#46039f"
             ],
             [
              0.2222222222222222,
              "#7201a8"
             ],
             [
              0.3333333333333333,
              "#9c179e"
             ],
             [
              0.4444444444444444,
              "#bd3786"
             ],
             [
              0.5555555555555556,
              "#d8576b"
             ],
             [
              0.6666666666666666,
              "#ed7953"
             ],
             [
              0.7777777777777778,
              "#fb9f3a"
             ],
             [
              0.8888888888888888,
              "#fdca26"
             ],
             [
              1,
              "#f0f921"
             ]
            ],
            "type": "contour"
           }
          ],
          "contourcarpet": [
           {
            "colorbar": {
             "outlinewidth": 0,
             "ticks": ""
            },
            "type": "contourcarpet"
           }
          ],
          "heatmap": [
           {
            "colorbar": {
             "outlinewidth": 0,
             "ticks": ""
            },
            "colorscale": [
             [
              0,
              "#0d0887"
             ],
             [
              0.1111111111111111,
              "#46039f"
             ],
             [
              0.2222222222222222,
              "#7201a8"
             ],
             [
              0.3333333333333333,
              "#9c179e"
             ],
             [
              0.4444444444444444,
              "#bd3786"
             ],
             [
              0.5555555555555556,
              "#d8576b"
             ],
             [
              0.6666666666666666,
              "#ed7953"
             ],
             [
              0.7777777777777778,
              "#fb9f3a"
             ],
             [
              0.8888888888888888,
              "#fdca26"
             ],
             [
              1,
              "#f0f921"
             ]
            ],
            "type": "heatmap"
           }
          ],
          "heatmapgl": [
           {
            "colorbar": {
             "outlinewidth": 0,
             "ticks": ""
            },
            "colorscale": [
             [
              0,
              "#0d0887"
             ],
             [
              0.1111111111111111,
              "#46039f"
             ],
             [
              0.2222222222222222,
              "#7201a8"
             ],
             [
              0.3333333333333333,
              "#9c179e"
             ],
             [
              0.4444444444444444,
              "#bd3786"
             ],
             [
              0.5555555555555556,
              "#d8576b"
             ],
             [
              0.6666666666666666,
              "#ed7953"
             ],
             [
              0.7777777777777778,
              "#fb9f3a"
             ],
             [
              0.8888888888888888,
              "#fdca26"
             ],
             [
              1,
              "#f0f921"
             ]
            ],
            "type": "heatmapgl"
           }
          ],
          "histogram": [
           {
            "marker": {
             "pattern": {
              "fillmode": "overlay",
              "size": 10,
              "solidity": 0.2
             }
            },
            "type": "histogram"
           }
          ],
          "histogram2d": [
           {
            "colorbar": {
             "outlinewidth": 0,
             "ticks": ""
            },
            "colorscale": [
             [
              0,
              "#0d0887"
             ],
             [
              0.1111111111111111,
              "#46039f"
             ],
             [
              0.2222222222222222,
              "#7201a8"
             ],
             [
              0.3333333333333333,
              "#9c179e"
             ],
             [
              0.4444444444444444,
              "#bd3786"
             ],
             [
              0.5555555555555556,
              "#d8576b"
             ],
             [
              0.6666666666666666,
              "#ed7953"
             ],
             [
              0.7777777777777778,
              "#fb9f3a"
             ],
             [
              0.8888888888888888,
              "#fdca26"
             ],
             [
              1,
              "#f0f921"
             ]
            ],
            "type": "histogram2d"
           }
          ],
          "histogram2dcontour": [
           {
            "colorbar": {
             "outlinewidth": 0,
             "ticks": ""
            },
            "colorscale": [
             [
              0,
              "#0d0887"
             ],
             [
              0.1111111111111111,
              "#46039f"
             ],
             [
              0.2222222222222222,
              "#7201a8"
             ],
             [
              0.3333333333333333,
              "#9c179e"
             ],
             [
              0.4444444444444444,
              "#bd3786"
             ],
             [
              0.5555555555555556,
              "#d8576b"
             ],
             [
              0.6666666666666666,
              "#ed7953"
             ],
             [
              0.7777777777777778,
              "#fb9f3a"
             ],
             [
              0.8888888888888888,
              "#fdca26"
             ],
             [
              1,
              "#f0f921"
             ]
            ],
            "type": "histogram2dcontour"
           }
          ],
          "mesh3d": [
           {
            "colorbar": {
             "outlinewidth": 0,
             "ticks": ""
            },
            "type": "mesh3d"
           }
          ],
          "parcoords": [
           {
            "line": {
             "colorbar": {
              "outlinewidth": 0,
              "ticks": ""
             }
            },
            "type": "parcoords"
           }
          ],
          "pie": [
           {
            "automargin": true,
            "type": "pie"
           }
          ],
          "scatter": [
           {
            "marker": {
             "colorbar": {
              "outlinewidth": 0,
              "ticks": ""
             }
            },
            "type": "scatter"
           }
          ],
          "scatter3d": [
           {
            "line": {
             "colorbar": {
              "outlinewidth": 0,
              "ticks": ""
             }
            },
            "marker": {
             "colorbar": {
              "outlinewidth": 0,
              "ticks": ""
             }
            },
            "type": "scatter3d"
           }
          ],
          "scattercarpet": [
           {
            "marker": {
             "colorbar": {
              "outlinewidth": 0,
              "ticks": ""
             }
            },
            "type": "scattercarpet"
           }
          ],
          "scattergeo": [
           {
            "marker": {
             "colorbar": {
              "outlinewidth": 0,
              "ticks": ""
             }
            },
            "type": "scattergeo"
           }
          ],
          "scattergl": [
           {
            "marker": {
             "colorbar": {
              "outlinewidth": 0,
              "ticks": ""
             }
            },
            "type": "scattergl"
           }
          ],
          "scattermapbox": [
           {
            "marker": {
             "colorbar": {
              "outlinewidth": 0,
              "ticks": ""
             }
            },
            "type": "scattermapbox"
           }
          ],
          "scatterpolar": [
           {
            "marker": {
             "colorbar": {
              "outlinewidth": 0,
              "ticks": ""
             }
            },
            "type": "scatterpolar"
           }
          ],
          "scatterpolargl": [
           {
            "marker": {
             "colorbar": {
              "outlinewidth": 0,
              "ticks": ""
             }
            },
            "type": "scatterpolargl"
           }
          ],
          "scatterternary": [
           {
            "marker": {
             "colorbar": {
              "outlinewidth": 0,
              "ticks": ""
             }
            },
            "type": "scatterternary"
           }
          ],
          "surface": [
           {
            "colorbar": {
             "outlinewidth": 0,
             "ticks": ""
            },
            "colorscale": [
             [
              0,
              "#0d0887"
             ],
             [
              0.1111111111111111,
              "#46039f"
             ],
             [
              0.2222222222222222,
              "#7201a8"
             ],
             [
              0.3333333333333333,
              "#9c179e"
             ],
             [
              0.4444444444444444,
              "#bd3786"
             ],
             [
              0.5555555555555556,
              "#d8576b"
             ],
             [
              0.6666666666666666,
              "#ed7953"
             ],
             [
              0.7777777777777778,
              "#fb9f3a"
             ],
             [
              0.8888888888888888,
              "#fdca26"
             ],
             [
              1,
              "#f0f921"
             ]
            ],
            "type": "surface"
           }
          ],
          "table": [
           {
            "cells": {
             "fill": {
              "color": "#EBF0F8"
             },
             "line": {
              "color": "white"
             }
            },
            "header": {
             "fill": {
              "color": "#C8D4E3"
             },
             "line": {
              "color": "white"
             }
            },
            "type": "table"
           }
          ]
         },
         "layout": {
          "annotationdefaults": {
           "arrowcolor": "#2a3f5f",
           "arrowhead": 0,
           "arrowwidth": 1
          },
          "autotypenumbers": "strict",
          "coloraxis": {
           "colorbar": {
            "outlinewidth": 0,
            "ticks": ""
           }
          },
          "colorscale": {
           "diverging": [
            [
             0,
             "#8e0152"
            ],
            [
             0.1,
             "#c51b7d"
            ],
            [
             0.2,
             "#de77ae"
            ],
            [
             0.3,
             "#f1b6da"
            ],
            [
             0.4,
             "#fde0ef"
            ],
            [
             0.5,
             "#f7f7f7"
            ],
            [
             0.6,
             "#e6f5d0"
            ],
            [
             0.7,
             "#b8e186"
            ],
            [
             0.8,
             "#7fbc41"
            ],
            [
             0.9,
             "#4d9221"
            ],
            [
             1,
             "#276419"
            ]
           ],
           "sequential": [
            [
             0,
             "#0d0887"
            ],
            [
             0.1111111111111111,
             "#46039f"
            ],
            [
             0.2222222222222222,
             "#7201a8"
            ],
            [
             0.3333333333333333,
             "#9c179e"
            ],
            [
             0.4444444444444444,
             "#bd3786"
            ],
            [
             0.5555555555555556,
             "#d8576b"
            ],
            [
             0.6666666666666666,
             "#ed7953"
            ],
            [
             0.7777777777777778,
             "#fb9f3a"
            ],
            [
             0.8888888888888888,
             "#fdca26"
            ],
            [
             1,
             "#f0f921"
            ]
           ],
           "sequentialminus": [
            [
             0,
             "#0d0887"
            ],
            [
             0.1111111111111111,
             "#46039f"
            ],
            [
             0.2222222222222222,
             "#7201a8"
            ],
            [
             0.3333333333333333,
             "#9c179e"
            ],
            [
             0.4444444444444444,
             "#bd3786"
            ],
            [
             0.5555555555555556,
             "#d8576b"
            ],
            [
             0.6666666666666666,
             "#ed7953"
            ],
            [
             0.7777777777777778,
             "#fb9f3a"
            ],
            [
             0.8888888888888888,
             "#fdca26"
            ],
            [
             1,
             "#f0f921"
            ]
           ]
          },
          "colorway": [
           "#636efa",
           "#EF553B",
           "#00cc96",
           "#ab63fa",
           "#FFA15A",
           "#19d3f3",
           "#FF6692",
           "#B6E880",
           "#FF97FF",
           "#FECB52"
          ],
          "font": {
           "color": "#2a3f5f"
          },
          "geo": {
           "bgcolor": "white",
           "lakecolor": "white",
           "landcolor": "#E5ECF6",
           "showlakes": true,
           "showland": true,
           "subunitcolor": "white"
          },
          "hoverlabel": {
           "align": "left"
          },
          "hovermode": "closest",
          "mapbox": {
           "style": "light"
          },
          "paper_bgcolor": "white",
          "plot_bgcolor": "#E5ECF6",
          "polar": {
           "angularaxis": {
            "gridcolor": "white",
            "linecolor": "white",
            "ticks": ""
           },
           "bgcolor": "#E5ECF6",
           "radialaxis": {
            "gridcolor": "white",
            "linecolor": "white",
            "ticks": ""
           }
          },
          "scene": {
           "xaxis": {
            "backgroundcolor": "#E5ECF6",
            "gridcolor": "white",
            "gridwidth": 2,
            "linecolor": "white",
            "showbackground": true,
            "ticks": "",
            "zerolinecolor": "white"
           },
           "yaxis": {
            "backgroundcolor": "#E5ECF6",
            "gridcolor": "white",
            "gridwidth": 2,
            "linecolor": "white",
            "showbackground": true,
            "ticks": "",
            "zerolinecolor": "white"
           },
           "zaxis": {
            "backgroundcolor": "#E5ECF6",
            "gridcolor": "white",
            "gridwidth": 2,
            "linecolor": "white",
            "showbackground": true,
            "ticks": "",
            "zerolinecolor": "white"
           }
          },
          "shapedefaults": {
           "line": {
            "color": "#2a3f5f"
           }
          },
          "ternary": {
           "aaxis": {
            "gridcolor": "white",
            "linecolor": "white",
            "ticks": ""
           },
           "baxis": {
            "gridcolor": "white",
            "linecolor": "white",
            "ticks": ""
           },
           "bgcolor": "#E5ECF6",
           "caxis": {
            "gridcolor": "white",
            "linecolor": "white",
            "ticks": ""
           }
          },
          "title": {
           "x": 0.05
          },
          "xaxis": {
           "automargin": true,
           "gridcolor": "white",
           "linecolor": "white",
           "ticks": "",
           "title": {
            "standoff": 15
           },
           "zerolinecolor": "white",
           "zerolinewidth": 2
          },
          "yaxis": {
           "automargin": true,
           "gridcolor": "white",
           "linecolor": "white",
           "ticks": "",
           "title": {
            "standoff": 15
           },
           "zerolinecolor": "white",
           "zerolinewidth": 2
          }
         }
        },
        "title": {
         "text": "Top 10 Artists with most Songs"
        },
        "xaxis": {
         "anchor": "y",
         "categoryarray": [
          "Martin Garrix",
          "Queen",
          "The Chainsmokers",
          "David Guetta",
          "Don Omar",
          "Drake",
          "Dimitri Vegas & Like Mike",
          "Calvin Harris",
          "Hardwell",
          "Kygo"
         ],
         "categoryorder": "array",
         "domain": [
          0,
          1
         ],
         "title": {
          "text": "Artist"
         }
        },
        "yaxis": {
         "anchor": "x",
         "domain": [
          0,
          1
         ],
         "title": {
          "text": "Song Count"
         }
        }
       }
      }
     },
     "metadata": {},
     "output_type": "display_data"
    }
   ],
   "source": [
    "#Top 10 artists based on # of songs they published\n",
    "top_artists = songs_data.track_artist.value_counts().nlargest(10)\n",
    "fig = px.bar(top_artists, color=top_artists.index,\n",
    "             title=\"Top 10 Artists with most Songs\", \n",
    "             text_auto=True,\n",
    "             labels={\"value\": \"Song Count\", \"index\": \"Artist\"})\n",
    "fig.update_layout(showlegend=False)"
   ]
  },
  {
   "cell_type": "markdown",
   "metadata": {},
   "source": [
    "<div class=\"alert alert-block alert-info\"> <b>Findings: </b> DJs dominate among the 10 artists with most songs.</div>"
   ]
  },
  {
   "cell_type": "code",
   "execution_count": 24,
   "metadata": {},
   "outputs": [
    {
     "data": {
      "text/plain": [
       "(4477, 19)"
      ]
     },
     "execution_count": 24,
     "metadata": {},
     "output_type": "execute_result"
    }
   ],
   "source": [
    "# Check for songs with duplicate genres and display songs with duplicates keeping only unique track_ids\n",
    "duplicate_songs = songs_data[songs_data.duplicated(subset=\"track_id\", keep='first')].sort_values(\"track_id\")\n",
    "duplicate_songs.shape"
   ]
  },
  {
   "cell_type": "markdown",
   "metadata": {},
   "source": [
    "<div class=\"alert alert-block alert-info\"> <b>Findings: </b> 4477 songs with duplicate track_ids.</div>"
   ]
  },
  {
   "cell_type": "code",
   "execution_count": 25,
   "metadata": {
    "scrolled": true
   },
   "outputs": [
    {
     "data": {
      "text/plain": [
       "track_id\n",
       "7BKLCZ1jbUBVqRi2FVlTVw    9\n",
       "14sOS5L36385FJ3OL8hew4    8\n",
       "3eekarcy7kvN4yt5ZFzltW    8\n",
       "6WrI0LAC5M1Rw2MnX2ZvEg    7\n",
       "7h0d2h0fUmzbs7zeFigJPn    7\n",
       "3ZCTVFBt2Brf31RLEnCkWJ    7\n",
       "2tnVG71enUj33Ic2nFN6kZ    7\n",
       "6Gg1gjgKi2AK4e0qzsR7sd    7\n",
       "7LzouaWGFCy4tkXDOOnEyM    7\n",
       "0rIAC4PXANcKmitJfoqmVm    7\n",
       "Name: genre, dtype: int64"
      ]
     },
     "execution_count": 25,
     "metadata": {},
     "output_type": "execute_result"
    }
   ],
   "source": [
    "#show tracks with most genres each\n",
    "duplicate_songs_all = songs_data[songs_data.duplicated(subset=\"track_id\", keep=False)].sort_values(\"track_id\")\n",
    "songs_most_dupicates = duplicate_songs.groupby(\"track_id\")[\"genre\"].count().sort_values(ascending=False).nlargest(10)\n",
    "\n",
    "songs_most_dupicates"
   ]
  },
  {
   "cell_type": "markdown",
   "metadata": {},
   "source": [
    "<div class=\"alert alert-block alert-info\"> <b>Findings: </b> One track can have up to 10 genres.</div>"
   ]
  },
  {
   "cell_type": "markdown",
   "metadata": {},
   "source": [
    "<div class=\"alert alert-block alert-danger\"> <b>Consequence: </b> Drop duplicate rows.</div>"
   ]
  },
  {
   "cell_type": "code",
   "execution_count": 26,
   "metadata": {},
   "outputs": [
    {
     "data": {
      "text/html": [
       "<div>\n",
       "<style scoped>\n",
       "    .dataframe tbody tr th:only-of-type {\n",
       "        vertical-align: middle;\n",
       "    }\n",
       "\n",
       "    .dataframe tbody tr th {\n",
       "        vertical-align: top;\n",
       "    }\n",
       "\n",
       "    .dataframe thead th {\n",
       "        text-align: right;\n",
       "    }\n",
       "</style>\n",
       "<table border=\"1\" class=\"dataframe\">\n",
       "  <thead>\n",
       "    <tr style=\"text-align: right;\">\n",
       "      <th></th>\n",
       "      <th>track_id</th>\n",
       "      <th>track_name</th>\n",
       "      <th>track_artist</th>\n",
       "      <th>track_popularity</th>\n",
       "      <th>playlist_name</th>\n",
       "      <th>playlist_id</th>\n",
       "      <th>genre</th>\n",
       "      <th>danceability</th>\n",
       "      <th>energy</th>\n",
       "      <th>key</th>\n",
       "      <th>loudness</th>\n",
       "      <th>mode</th>\n",
       "      <th>speechiness</th>\n",
       "      <th>acousticness</th>\n",
       "      <th>instrumentalness</th>\n",
       "      <th>liveness</th>\n",
       "      <th>valence</th>\n",
       "      <th>tempo</th>\n",
       "      <th>duration_ms</th>\n",
       "    </tr>\n",
       "  </thead>\n",
       "  <tbody>\n",
       "    <tr>\n",
       "      <th>23793</th>\n",
       "      <td>0rIAC4PXANcKmitJfoqmVm</td>\n",
       "      <td>Motivation</td>\n",
       "      <td>Normani</td>\n",
       "      <td>83</td>\n",
       "      <td>2020 Hits &amp; 2019  Hits – Top Global Tracks 🔥🔥🔥</td>\n",
       "      <td>4JkkvMpVl4lSioqQjeAL0q</td>\n",
       "      <td>r&amp;b</td>\n",
       "      <td>0.599</td>\n",
       "      <td>0.887</td>\n",
       "      <td>4</td>\n",
       "      <td>-3.967</td>\n",
       "      <td>1</td>\n",
       "      <td>0.0984</td>\n",
       "      <td>0.0192</td>\n",
       "      <td>0.000001</td>\n",
       "      <td>0.3</td>\n",
       "      <td>0.881</td>\n",
       "      <td>170.918</td>\n",
       "      <td>193837</td>\n",
       "    </tr>\n",
       "    <tr>\n",
       "      <th>19782</th>\n",
       "      <td>0rIAC4PXANcKmitJfoqmVm</td>\n",
       "      <td>Motivation</td>\n",
       "      <td>Normani</td>\n",
       "      <td>83</td>\n",
       "      <td>2020 Hits &amp; 2019  Hits – Top Global Tracks 🔥🔥🔥</td>\n",
       "      <td>4JkkvMpVl4lSioqQjeAL0q</td>\n",
       "      <td>latin</td>\n",
       "      <td>0.599</td>\n",
       "      <td>0.887</td>\n",
       "      <td>4</td>\n",
       "      <td>-3.967</td>\n",
       "      <td>1</td>\n",
       "      <td>0.0984</td>\n",
       "      <td>0.0192</td>\n",
       "      <td>0.000001</td>\n",
       "      <td>0.3</td>\n",
       "      <td>0.881</td>\n",
       "      <td>170.918</td>\n",
       "      <td>193837</td>\n",
       "    </tr>\n",
       "    <tr>\n",
       "      <th>18370</th>\n",
       "      <td>0rIAC4PXANcKmitJfoqmVm</td>\n",
       "      <td>Motivation</td>\n",
       "      <td>Normani</td>\n",
       "      <td>83</td>\n",
       "      <td>2020 Hits &amp; 2019  Hits – Top Global Tracks 🔥🔥🔥</td>\n",
       "      <td>4JkkvMpVl4lSioqQjeAL0q</td>\n",
       "      <td>latin</td>\n",
       "      <td>0.599</td>\n",
       "      <td>0.887</td>\n",
       "      <td>4</td>\n",
       "      <td>-3.967</td>\n",
       "      <td>1</td>\n",
       "      <td>0.0984</td>\n",
       "      <td>0.0192</td>\n",
       "      <td>0.000001</td>\n",
       "      <td>0.3</td>\n",
       "      <td>0.881</td>\n",
       "      <td>170.918</td>\n",
       "      <td>193837</td>\n",
       "    </tr>\n",
       "    <tr>\n",
       "      <th>25336</th>\n",
       "      <td>0rIAC4PXANcKmitJfoqmVm</td>\n",
       "      <td>Motivation</td>\n",
       "      <td>Normani</td>\n",
       "      <td>83</td>\n",
       "      <td>Neo-Soul</td>\n",
       "      <td>1eqVgsNjaX6mxDPoefhocT</td>\n",
       "      <td>r&amp;b</td>\n",
       "      <td>0.599</td>\n",
       "      <td>0.887</td>\n",
       "      <td>4</td>\n",
       "      <td>-3.967</td>\n",
       "      <td>1</td>\n",
       "      <td>0.0984</td>\n",
       "      <td>0.0192</td>\n",
       "      <td>0.000001</td>\n",
       "      <td>0.3</td>\n",
       "      <td>0.881</td>\n",
       "      <td>170.918</td>\n",
       "      <td>193837</td>\n",
       "    </tr>\n",
       "    <tr>\n",
       "      <th>1357</th>\n",
       "      <td>0rIAC4PXANcKmitJfoqmVm</td>\n",
       "      <td>Motivation</td>\n",
       "      <td>Normani</td>\n",
       "      <td>83</td>\n",
       "      <td>Pop - Pop UK - 2019 - Canadian Pop - 2019 - Pop</td>\n",
       "      <td>46Cl6dmeiylK6TRGXr7hHe</td>\n",
       "      <td>pop</td>\n",
       "      <td>0.599</td>\n",
       "      <td>0.887</td>\n",
       "      <td>4</td>\n",
       "      <td>-3.967</td>\n",
       "      <td>1</td>\n",
       "      <td>0.0984</td>\n",
       "      <td>0.0192</td>\n",
       "      <td>0.000001</td>\n",
       "      <td>0.3</td>\n",
       "      <td>0.881</td>\n",
       "      <td>170.918</td>\n",
       "      <td>193837</td>\n",
       "    </tr>\n",
       "  </tbody>\n",
       "</table>\n",
       "</div>"
      ],
      "text/plain": [
       "                     track_id  track_name track_artist  track_popularity  \\\n",
       "23793  0rIAC4PXANcKmitJfoqmVm  Motivation      Normani                83   \n",
       "19782  0rIAC4PXANcKmitJfoqmVm  Motivation      Normani                83   \n",
       "18370  0rIAC4PXANcKmitJfoqmVm  Motivation      Normani                83   \n",
       "25336  0rIAC4PXANcKmitJfoqmVm  Motivation      Normani                83   \n",
       "1357   0rIAC4PXANcKmitJfoqmVm  Motivation      Normani                83   \n",
       "\n",
       "                                         playlist_name  \\\n",
       "23793   2020 Hits & 2019  Hits – Top Global Tracks 🔥🔥🔥   \n",
       "19782   2020 Hits & 2019  Hits – Top Global Tracks 🔥🔥🔥   \n",
       "18370   2020 Hits & 2019  Hits – Top Global Tracks 🔥🔥🔥   \n",
       "25336                                         Neo-Soul   \n",
       "1357   Pop - Pop UK - 2019 - Canadian Pop - 2019 - Pop   \n",
       "\n",
       "                  playlist_id  genre  danceability  energy  key  loudness  \\\n",
       "23793  4JkkvMpVl4lSioqQjeAL0q    r&b         0.599   0.887    4    -3.967   \n",
       "19782  4JkkvMpVl4lSioqQjeAL0q  latin         0.599   0.887    4    -3.967   \n",
       "18370  4JkkvMpVl4lSioqQjeAL0q  latin         0.599   0.887    4    -3.967   \n",
       "25336  1eqVgsNjaX6mxDPoefhocT    r&b         0.599   0.887    4    -3.967   \n",
       "1357   46Cl6dmeiylK6TRGXr7hHe    pop         0.599   0.887    4    -3.967   \n",
       "\n",
       "       mode  speechiness  acousticness  instrumentalness  liveness  valence  \\\n",
       "23793     1       0.0984        0.0192          0.000001       0.3    0.881   \n",
       "19782     1       0.0984        0.0192          0.000001       0.3    0.881   \n",
       "18370     1       0.0984        0.0192          0.000001       0.3    0.881   \n",
       "25336     1       0.0984        0.0192          0.000001       0.3    0.881   \n",
       "1357      1       0.0984        0.0192          0.000001       0.3    0.881   \n",
       "\n",
       "         tempo  duration_ms  \n",
       "23793  170.918       193837  \n",
       "19782  170.918       193837  \n",
       "18370  170.918       193837  \n",
       "25336  170.918       193837  \n",
       "1357   170.918       193837  "
      ]
     },
     "execution_count": 26,
     "metadata": {},
     "output_type": "execute_result"
    }
   ],
   "source": [
    "# Check for songs with duplicate genres and display songs with most duplicates\n",
    "duplicate_songs = songs_data[songs_data.duplicated(subset=\"track_id\", keep=False)].sort_values(\"track_id\")\n",
    "\n",
    "songs_most_dupicates = duplicate_songs.groupby(\"track_id\")[\"genre\"].count().sort_values(ascending=False).nlargest(10)\n",
    "songs_data[songs_data[\"track_id\"].isin(songs_most_dupicates.index)].sort_values(\"track_id\").head()"
   ]
  },
  {
   "cell_type": "code",
   "execution_count": 27,
   "metadata": {},
   "outputs": [
    {
     "data": {
      "text/plain": [
       "track_popularity       24.984074\n",
       "danceability            0.145085\n",
       "energy                  0.180910\n",
       "key                     3.611657\n",
       "loudness                2.988436\n",
       "mode                    0.495671\n",
       "speechiness             0.101314\n",
       "acousticness            0.219633\n",
       "instrumentalness        0.224230\n",
       "liveness                0.154317\n",
       "valence                 0.233146\n",
       "tempo                  26.903624\n",
       "duration_ms         59834.006182\n",
       "dtype: float64"
      ]
     },
     "execution_count": 27,
     "metadata": {},
     "output_type": "execute_result"
    }
   ],
   "source": [
    "#check standard deviation to discover features with low variance\n",
    "songs_data.std()"
   ]
  },
  {
   "cell_type": "markdown",
   "metadata": {},
   "source": [
    "<div class=\"alert alert-block alert-info\"> <b>Findings: </b> Based on ranges of our features, the variance is acceptable.</div>"
   ]
  },
  {
   "cell_type": "markdown",
   "metadata": {},
   "source": [
    "### Soundwave analysis"
   ]
  },
  {
   "cell_type": "code",
   "execution_count": 28,
   "metadata": {},
   "outputs": [],
   "source": [
    "#create dataframe to get mean of tempo, loudness, duration_ms -> those three features matter for soundwaves\n",
    "songs=songs_data.groupby('genre').agg({'tempo':'mean',\n",
    "                                'loudness':'mean',\n",
    "                                'duration_ms':'mean'}).reset_index()\n",
    "songs['duration_ms']=songs['duration_ms']/4000\n",
    "songs['loudness']=songs['loudness']*(-1)\n",
    "songs['tempo']=songs['tempo']/5\n",
    "\n",
    "#define x and y axes for plot\n",
    "x = np.arange(0,15*np.pi,0.1)   # x-axis range for plot start, stop, step\n",
    "y = songs.loc[songs['genre']=='rock','loudness'].values*np.sin(songs.loc[songs['genre']=='rock','tempo'].values*x) # y-axis range for plot start, stop, step"
   ]
  },
  {
   "cell_type": "code",
   "execution_count": 29,
   "metadata": {},
   "outputs": [
    {
     "data": {
      "image/png": "[encoded data removed]",
      "text/plain": [
       "<Figure size 432x288 with 1 Axes>"
      ]
     },
     "metadata": {
      "needs_background": "light"
     },
     "output_type": "display_data"
    }
   ],
   "source": [
    "#sound wave for rock genre\n",
    "x_rock = np.arange(0,15*np.pi,0.1) # x-axis range for plot start, stop, step\n",
    "y_rock = songs.loc[songs['genre']=='rock','loudness'].values*np.sin(songs.loc[songs['genre']=='rock','tempo'].values*x) # y-axis range for plot start, stop, step\n",
    "plt.plot(x_rock,y_rock)\n",
    "plt.show()"
   ]
  },
  {
   "cell_type": "code",
   "execution_count": 30,
   "metadata": {},
   "outputs": [
    {
     "data": {
      "image/png": "[encoded data removed]",
      "text/plain": [
       "<Figure size 432x288 with 1 Axes>"
      ]
     },
     "metadata": {
      "needs_background": "light"
     },
     "output_type": "display_data"
    }
   ],
   "source": [
    "#sound wave for rap genre\n",
    "x_rap = np.arange(0,15*np.pi,0.1)   # start,stop,step\n",
    "y_rap = songs.loc[songs['genre']=='rap','loudness'].values*np.sin(songs.loc[songs['genre']=='rap','tempo'].values*x)\n",
    "plt.plot(x_rap,y_rap)\n",
    "plt.show()"
   ]
  },
  {
   "cell_type": "code",
   "execution_count": 31,
   "metadata": {},
   "outputs": [
    {
     "data": {
      "image/png": "[encoded data removed]",
      "text/plain": [
       "<Figure size 432x288 with 1 Axes>"
      ]
     },
     "metadata": {
      "needs_background": "light"
     },
     "output_type": "display_data"
    }
   ],
   "source": [
    "#sound wave for edm genre\n",
    "x_edm = np.arange(0,15*np.pi,0.1)   # start,stop,step\n",
    "y_edm = songs.loc[songs['genre']=='edm','loudness'].values*np.sin(songs.loc[songs['genre']=='edm','tempo'].values*x)\n",
    "plt.plot(x_edm,y_edm)\n",
    "plt.show()"
   ]
  },
  {
   "cell_type": "code",
   "execution_count": 32,
   "metadata": {},
   "outputs": [
    {
     "data": {
      "image/png": "[encoded data removed]",
      "text/plain": [
       "<Figure size 432x288 with 1 Axes>"
      ]
     },
     "metadata": {
      "needs_background": "light"
     },
     "output_type": "display_data"
    }
   ],
   "source": [
    "#sound wave for latin genre\n",
    "x_latin = np.arange(0,15*np.pi,0.1)   # start,stop,step\n",
    "y_latin= songs.loc[songs['genre']=='latin','loudness'].values*np.sin(songs.loc[songs['genre']=='latin','tempo'].values*x)\n",
    "plt.plot(x_latin,y_latin)\n",
    "plt.show()"
   ]
  },
  {
   "cell_type": "code",
   "execution_count": 33,
   "metadata": {},
   "outputs": [
    {
     "data": {
      "image/png": "[encoded data removed]",
      "text/plain": [
       "<Figure size 432x288 with 1 Axes>"
      ]
     },
     "metadata": {
      "needs_background": "light"
     },
     "output_type": "display_data"
    }
   ],
   "source": [
    "#sound wave for pop genre\n",
    "x_pop = np.arange(0,15*np.pi,0.1)   # start,stop,step\n",
    "y_pop = songs.loc[songs['genre']=='pop','loudness'].values*np.sin(songs.loc[songs['genre']=='pop','tempo'].values*x)\n",
    "plt.plot(x_pop,y_pop)\n",
    "plt.show()"
   ]
  },
  {
   "cell_type": "code",
   "execution_count": 34,
   "metadata": {
    "scrolled": true
   },
   "outputs": [
    {
     "data": {
      "image/png": "[encoded data removed]",
      "text/plain": [
       "<Figure size 432x288 with 1 Axes>"
      ]
     },
     "metadata": {
      "needs_background": "light"
     },
     "output_type": "display_data"
    }
   ],
   "source": [
    "#sound wave for r&b genre\n",
    "x_rb = np.arange(0,15*np.pi,0.1)   # start,stop,step\n",
    "y_rb = songs.loc[songs['genre']=='r&b','loudness'].values*np.sin(songs.loc[songs['genre']=='r&b','tempo'].values*x)\n",
    "plt.plot(x_rb,y_rb)\n",
    "plt.show()"
   ]
  },
  {
   "cell_type": "markdown",
   "metadata": {},
   "source": [
    "## Summary of Findings during EDA\n",
    "- Identified 5 rows with missing values ➡️ Need to be dropped\n",
    "- Identified 5 categorical features with too many categories. After further exploration and testing model performance, not identified as relevant. ➡️ Need to be dropped (`playlist_id`, `track_name`, `track_id`, `track_artist`, `playlist_name`)\n",
    "- Target feature `genre` has 6 categories. ➡️ Need to be encoded\n",
    "- The number of songs per `genre` differ insignificantly. ➡️ Balanced distribution\n",
    "- `duration_ms` identified as it can be a relevant factor to consider when predicting the genre.\n",
    "- Significant number of duplicate rows found. ➡️ Need to be dropped\n",
    "- Especially to predict the genre `edm`, `instrumentalness` is a relevant feature.\n",
    "- `pop` is the most popular genre while `edm` the least. ➡️ `track_popularity` is a relevant feature to predict `genre`\n",
    "- Except `valence`, all other features are skewed. ➡️ Need to be transformed\n",
    "- No correlations above 80% threshold ➡️ Based on correlation value, features will not be dropped\n",
    "- Identified 4477 songs with up to 10 duplicate track_ids. ➡️ Need to be dropped\n",
    "- The soundwaves of the genres `rock`and `edm` are visibly different in comparison to the other genres. This could be interesting to explore further."
   ]
  },
  {
   "cell_type": "markdown",
   "metadata": {},
   "source": [
    "---"
   ]
  },
  {
   "cell_type": "markdown",
   "metadata": {},
   "source": [
    "# <span style=\"color:blue\">Data Preprocessing / Cleaning</span>"
   ]
  },
  {
   "cell_type": "markdown",
   "metadata": {},
   "source": [
    "### Drop duplicate rows"
   ]
  },
  {
   "cell_type": "code",
   "execution_count": 35,
   "metadata": {},
   "outputs": [],
   "source": [
    "#drop duplicate rows in songs_data_cleaned\n",
    "songs_data_cleaned = songs_data.drop_duplicates()"
   ]
  },
  {
   "cell_type": "code",
   "execution_count": 36,
   "metadata": {},
   "outputs": [
    {
     "name": "stdout",
     "output_type": "stream",
     "text": [
      "Dataset shape before removing duplicated rows:  (32833, 19)\n",
      "Dataset shape after removing duplicated rows:  (32510, 19)\n"
     ]
    }
   ],
   "source": [
    "#print comparison after dropping duplicate rows and clearly irrelevant columms\n",
    "print(\"Dataset shape before removing duplicated rows: \", songs_data.shape)\n",
    "print(\"Dataset shape after removing duplicated rows: \", songs_data_cleaned.shape)"
   ]
  },
  {
   "cell_type": "code",
   "execution_count": 37,
   "metadata": {
    "scrolled": true
   },
   "outputs": [],
   "source": [
    "#drop all rows with duplicate track_ids\n",
    "songs_data_cleaned = songs_data_cleaned.drop_duplicates(subset=\"track_id\", keep=False)"
   ]
  },
  {
   "cell_type": "markdown",
   "metadata": {},
   "source": [
    "### Drop columns identified as irrelevant"
   ]
  },
  {
   "cell_type": "code",
   "execution_count": 38,
   "metadata": {},
   "outputs": [],
   "source": [
    "# drop features identified as redundant\n",
    "songs_data_cleaned = songs_data_cleaned.drop(['playlist_id', 'track_name', 'track_id', 'track_artist', 'playlist_name'], axis = 1)"
   ]
  },
  {
   "cell_type": "markdown",
   "metadata": {},
   "source": [
    "### Encode categorical target variable  `genre`  "
   ]
  },
  {
   "cell_type": "code",
   "execution_count": 39,
   "metadata": {},
   "outputs": [
    {
     "data": {
      "text/plain": [
       "array([2, 4, 5, 1, 3, 0])"
      ]
     },
     "execution_count": 39,
     "metadata": {},
     "output_type": "execute_result"
    }
   ],
   "source": [
    "#encode six genres\n",
    "\n",
    "# label_encoder object knows how to understand word labels.\n",
    "label_encoder = preprocessing.LabelEncoder()\n",
    "  \n",
    "# Encode labels in column 'species'.\n",
    "songs_data_cleaned['genre_encoded']= label_encoder.fit_transform(songs_data_cleaned['genre'])\n",
    "  \n",
    "songs_data_cleaned['genre_encoded'].unique()"
   ]
  },
  {
   "cell_type": "code",
   "execution_count": 40,
   "metadata": {},
   "outputs": [
    {
     "data": {
      "text/html": [
       "<div>\n",
       "<style scoped>\n",
       "    .dataframe tbody tr th:only-of-type {\n",
       "        vertical-align: middle;\n",
       "    }\n",
       "\n",
       "    .dataframe tbody tr th {\n",
       "        vertical-align: top;\n",
       "    }\n",
       "\n",
       "    .dataframe thead th {\n",
       "        text-align: right;\n",
       "    }\n",
       "</style>\n",
       "<table border=\"1\" class=\"dataframe\">\n",
       "  <thead>\n",
       "    <tr style=\"text-align: right;\">\n",
       "      <th></th>\n",
       "      <th>track_popularity</th>\n",
       "      <th>danceability</th>\n",
       "      <th>energy</th>\n",
       "      <th>key</th>\n",
       "      <th>loudness</th>\n",
       "      <th>mode</th>\n",
       "      <th>speechiness</th>\n",
       "      <th>acousticness</th>\n",
       "      <th>instrumentalness</th>\n",
       "      <th>liveness</th>\n",
       "      <th>valence</th>\n",
       "      <th>tempo</th>\n",
       "      <th>duration_ms</th>\n",
       "      <th>genre_encoded</th>\n",
       "    </tr>\n",
       "  </thead>\n",
       "  <tbody>\n",
       "    <tr>\n",
       "      <th>3</th>\n",
       "      <td>60</td>\n",
       "      <td>0.718</td>\n",
       "      <td>0.930</td>\n",
       "      <td>7</td>\n",
       "      <td>-3.778</td>\n",
       "      <td>1</td>\n",
       "      <td>0.1020</td>\n",
       "      <td>0.0287</td>\n",
       "      <td>0.000009</td>\n",
       "      <td>0.2040</td>\n",
       "      <td>0.277</td>\n",
       "      <td>121.956</td>\n",
       "      <td>169093</td>\n",
       "      <td>2</td>\n",
       "    </tr>\n",
       "    <tr>\n",
       "      <th>4</th>\n",
       "      <td>69</td>\n",
       "      <td>0.650</td>\n",
       "      <td>0.833</td>\n",
       "      <td>1</td>\n",
       "      <td>-4.672</td>\n",
       "      <td>1</td>\n",
       "      <td>0.0359</td>\n",
       "      <td>0.0803</td>\n",
       "      <td>0.000000</td>\n",
       "      <td>0.0833</td>\n",
       "      <td>0.725</td>\n",
       "      <td>123.976</td>\n",
       "      <td>189052</td>\n",
       "      <td>2</td>\n",
       "    </tr>\n",
       "    <tr>\n",
       "      <th>6</th>\n",
       "      <td>62</td>\n",
       "      <td>0.449</td>\n",
       "      <td>0.856</td>\n",
       "      <td>5</td>\n",
       "      <td>-4.788</td>\n",
       "      <td>0</td>\n",
       "      <td>0.0623</td>\n",
       "      <td>0.1870</td>\n",
       "      <td>0.000000</td>\n",
       "      <td>0.1760</td>\n",
       "      <td>0.152</td>\n",
       "      <td>112.648</td>\n",
       "      <td>187675</td>\n",
       "      <td>2</td>\n",
       "    </tr>\n",
       "  </tbody>\n",
       "</table>\n",
       "</div>"
      ],
      "text/plain": [
       "   track_popularity  danceability  energy  key  loudness  mode  speechiness  \\\n",
       "3                60         0.718   0.930    7    -3.778     1       0.1020   \n",
       "4                69         0.650   0.833    1    -4.672     1       0.0359   \n",
       "6                62         0.449   0.856    5    -4.788     0       0.0623   \n",
       "\n",
       "   acousticness  instrumentalness  liveness  valence    tempo  duration_ms  \\\n",
       "3        0.0287          0.000009    0.2040    0.277  121.956       169093   \n",
       "4        0.0803          0.000000    0.0833    0.725  123.976       189052   \n",
       "6        0.1870          0.000000    0.1760    0.152  112.648       187675   \n",
       "\n",
       "   genre_encoded  \n",
       "3              2  \n",
       "4              2  \n",
       "6              2  "
      ]
     },
     "execution_count": 40,
     "metadata": {},
     "output_type": "execute_result"
    }
   ],
   "source": [
    "#drop categorical genre column\n",
    "songs_data_cleaned = songs_data_cleaned.drop(['genre'], axis = 1)\n",
    "songs_data_cleaned.head(3)"
   ]
  },
  {
   "cell_type": "code",
   "execution_count": 41,
   "metadata": {},
   "outputs": [
    {
     "data": {
      "text/plain": [
       "Series([], dtype: int64)"
      ]
     },
     "execution_count": 41,
     "metadata": {},
     "output_type": "execute_result"
    }
   ],
   "source": [
    "#double check if there are still missing values left\n",
    "missing = songs_data_cleaned.isna().sum() > 0\n",
    "songs_data_cleaned.isna().sum()[missing]"
   ]
  },
  {
   "cell_type": "code",
   "execution_count": 42,
   "metadata": {
    "scrolled": false
   },
   "outputs": [
    {
     "data": {
      "text/html": [
       "<style type=\"text/css\">\n",
       "#T_dd382_row0_col0, #T_dd382_row1_col1, #T_dd382_row2_col2, #T_dd382_row3_col3, #T_dd382_row4_col4, #T_dd382_row5_col5, #T_dd382_row6_col6, #T_dd382_row7_col7, #T_dd382_row8_col8, #T_dd382_row9_col9, #T_dd382_row10_col10, #T_dd382_row11_col11, #T_dd382_row12_col12, #T_dd382_row13_col13 {\n",
       "  background-color: #b40426;\n",
       "  color: #f1f1f1;\n",
       "}\n",
       "#T_dd382_row0_col1 {\n",
       "  background-color: #799cf8;\n",
       "  color: #f1f1f1;\n",
       "}\n",
       "#T_dd382_row0_col2, #T_dd382_row0_col4, #T_dd382_row12_col7 {\n",
       "  background-color: #9abbff;\n",
       "  color: #000000;\n",
       "}\n",
       "#T_dd382_row0_col3, #T_dd382_row4_col0, #T_dd382_row5_col0, #T_dd382_row5_col10, #T_dd382_row11_col3, #T_dd382_row13_col3 {\n",
       "  background-color: #6788ee;\n",
       "  color: #f1f1f1;\n",
       "}\n",
       "#T_dd382_row0_col5, #T_dd382_row3_col1, #T_dd382_row8_col1, #T_dd382_row11_col5 {\n",
       "  background-color: #6f92f3;\n",
       "  color: #f1f1f1;\n",
       "}\n",
       "#T_dd382_row0_col6, #T_dd382_row1_col5, #T_dd382_row6_col5, #T_dd382_row8_col9 {\n",
       "  background-color: #5a78e4;\n",
       "  color: #f1f1f1;\n",
       "}\n",
       "#T_dd382_row0_col7 {\n",
       "  background-color: #c7d7f0;\n",
       "  color: #000000;\n",
       "}\n",
       "#T_dd382_row0_col8, #T_dd382_row0_col9 {\n",
       "  background-color: #4f69d9;\n",
       "  color: #f1f1f1;\n",
       "}\n",
       "#T_dd382_row0_col10, #T_dd382_row0_col11, #T_dd382_row1_col8, #T_dd382_row2_col3, #T_dd382_row3_col8, #T_dd382_row8_col4 {\n",
       "  background-color: #6e90f2;\n",
       "  color: #f1f1f1;\n",
       "}\n",
       "#T_dd382_row0_col12, #T_dd382_row1_col9, #T_dd382_row1_col11, #T_dd382_row2_col7, #T_dd382_row3_col5, #T_dd382_row4_col13, #T_dd382_row5_col3, #T_dd382_row7_col2, #T_dd382_row7_col4, #T_dd382_row8_col6, #T_dd382_row8_col10, #T_dd382_row12_col0, #T_dd382_row13_col1, #T_dd382_row13_col8 {\n",
       "  background-color: #3b4cc0;\n",
       "  color: #f1f1f1;\n",
       "}\n",
       "#T_dd382_row0_col13 {\n",
       "  background-color: #8caffe;\n",
       "  color: #000000;\n",
       "}\n",
       "#T_dd382_row1_col0, #T_dd382_row7_col8, #T_dd382_row8_col3, #T_dd382_row10_col6, #T_dd382_row11_col13, #T_dd382_row12_col5 {\n",
       "  background-color: #6c8ff1;\n",
       "  color: #f1f1f1;\n",
       "}\n",
       "#T_dd382_row1_col2 {\n",
       "  background-color: #9fbfff;\n",
       "  color: #000000;\n",
       "}\n",
       "#T_dd382_row1_col3, #T_dd382_row5_col8, #T_dd382_row7_col3, #T_dd382_row7_col5, #T_dd382_row9_col3, #T_dd382_row9_col5, #T_dd382_row9_col6, #T_dd382_row12_col11 {\n",
       "  background-color: #6b8df0;\n",
       "  color: #f1f1f1;\n",
       "}\n",
       "#T_dd382_row1_col4, #T_dd382_row11_col7 {\n",
       "  background-color: #97b8ff;\n",
       "  color: #000000;\n",
       "}\n",
       "#T_dd382_row1_col6, #T_dd382_row5_col4 {\n",
       "  background-color: #92b4fe;\n",
       "  color: #000000;\n",
       "}\n",
       "#T_dd382_row1_col7, #T_dd382_row9_col4 {\n",
       "  background-color: #aac7fd;\n",
       "  color: #000000;\n",
       "}\n",
       "#T_dd382_row1_col10 {\n",
       "  background-color: #cbd8ee;\n",
       "  color: #000000;\n",
       "}\n",
       "#T_dd382_row1_col12, #T_dd382_row7_col11 {\n",
       "  background-color: #4b64d5;\n",
       "  color: #f1f1f1;\n",
       "}\n",
       "#T_dd382_row1_col13 {\n",
       "  background-color: #3e51c5;\n",
       "  color: #f1f1f1;\n",
       "}\n",
       "#T_dd382_row2_col0, #T_dd382_row8_col0 {\n",
       "  background-color: #445acc;\n",
       "  color: #f1f1f1;\n",
       "}\n",
       "#T_dd382_row2_col1, #T_dd382_row10_col12, #T_dd382_row12_col1 {\n",
       "  background-color: #5875e1;\n",
       "  color: #f1f1f1;\n",
       "}\n",
       "#T_dd382_row2_col4 {\n",
       "  background-color: #f29072;\n",
       "  color: #f1f1f1;\n",
       "}\n",
       "#T_dd382_row2_col5, #T_dd382_row3_col11, #T_dd382_row3_col12, #T_dd382_row8_col5, #T_dd382_row9_col8, #T_dd382_row10_col5 {\n",
       "  background-color: #688aef;\n",
       "  color: #f1f1f1;\n",
       "}\n",
       "#T_dd382_row2_col6 {\n",
       "  background-color: #516ddb;\n",
       "  color: #f1f1f1;\n",
       "}\n",
       "#T_dd382_row2_col8, #T_dd382_row8_col11, #T_dd382_row9_col11 {\n",
       "  background-color: #7295f4;\n",
       "  color: #f1f1f1;\n",
       "}\n",
       "#T_dd382_row2_col9, #T_dd382_row7_col13 {\n",
       "  background-color: #90b2fe;\n",
       "  color: #000000;\n",
       "}\n",
       "#T_dd382_row2_col10 {\n",
       "  background-color: #96b7ff;\n",
       "  color: #000000;\n",
       "}\n",
       "#T_dd382_row2_col11, #T_dd382_row6_col4 {\n",
       "  background-color: #98b9ff;\n",
       "  color: #000000;\n",
       "}\n",
       "#T_dd382_row2_col12, #T_dd382_row4_col3 {\n",
       "  background-color: #6a8bef;\n",
       "  color: #f1f1f1;\n",
       "}\n",
       "#T_dd382_row2_col13 {\n",
       "  background-color: #3f53c6;\n",
       "  color: #f1f1f1;\n",
       "}\n",
       "#T_dd382_row3_col0, #T_dd382_row3_col6, #T_dd382_row3_col9, #T_dd382_row5_col1, #T_dd382_row5_col9, #T_dd382_row12_col10, #T_dd382_row13_col4 {\n",
       "  background-color: #5f7fe8;\n",
       "  color: #f1f1f1;\n",
       "}\n",
       "#T_dd382_row3_col2 {\n",
       "  background-color: #b5cdfa;\n",
       "  color: #000000;\n",
       "}\n",
       "#T_dd382_row3_col4, #T_dd382_row6_col13 {\n",
       "  background-color: #94b6ff;\n",
       "  color: #000000;\n",
       "}\n",
       "#T_dd382_row3_col7, #T_dd382_row5_col7 {\n",
       "  background-color: #b2ccfb;\n",
       "  color: #000000;\n",
       "}\n",
       "#T_dd382_row3_col10, #T_dd382_row3_col13, #T_dd382_row4_col1, #T_dd382_row5_col11, #T_dd382_row6_col3, #T_dd382_row6_col9, #T_dd382_row9_col13, #T_dd382_row10_col3, #T_dd382_row12_col3 {\n",
       "  background-color: #7093f3;\n",
       "  color: #f1f1f1;\n",
       "}\n",
       "#T_dd382_row4_col2 {\n",
       "  background-color: #ee8468;\n",
       "  color: #f1f1f1;\n",
       "}\n",
       "#T_dd382_row4_col5, #T_dd382_row5_col12, #T_dd382_row7_col1, #T_dd382_row10_col0 {\n",
       "  background-color: #6687ed;\n",
       "  color: #f1f1f1;\n",
       "}\n",
       "#T_dd382_row4_col6, #T_dd382_row4_col7 {\n",
       "  background-color: #5d7ce6;\n",
       "  color: #f1f1f1;\n",
       "}\n",
       "#T_dd382_row4_col8 {\n",
       "  background-color: #4257c9;\n",
       "  color: #f1f1f1;\n",
       "}\n",
       "#T_dd382_row4_col9, #T_dd382_row4_col10 {\n",
       "  background-color: #779af7;\n",
       "  color: #f1f1f1;\n",
       "}\n",
       "#T_dd382_row4_col11 {\n",
       "  background-color: #89acfd;\n",
       "  color: #000000;\n",
       "}\n",
       "#T_dd382_row4_col12 {\n",
       "  background-color: #485fd1;\n",
       "  color: #f1f1f1;\n",
       "}\n",
       "#T_dd382_row5_col2, #T_dd382_row8_col7 {\n",
       "  background-color: #b1cbfc;\n",
       "  color: #000000;\n",
       "}\n",
       "#T_dd382_row5_col6 {\n",
       "  background-color: #4961d2;\n",
       "  color: #f1f1f1;\n",
       "}\n",
       "#T_dd382_row5_col13, #T_dd382_row12_col13 {\n",
       "  background-color: #85a8fc;\n",
       "  color: #f1f1f1;\n",
       "}\n",
       "#T_dd382_row6_col0, #T_dd382_row7_col10 {\n",
       "  background-color: #6384eb;\n",
       "  color: #f1f1f1;\n",
       "}\n",
       "#T_dd382_row6_col1 {\n",
       "  background-color: #a5c3fe;\n",
       "  color: #000000;\n",
       "}\n",
       "#T_dd382_row6_col2 {\n",
       "  background-color: #abc8fd;\n",
       "  color: #000000;\n",
       "}\n",
       "#T_dd382_row6_col7, #T_dd382_row12_col2 {\n",
       "  background-color: #b7cff9;\n",
       "  color: #000000;\n",
       "}\n",
       "#T_dd382_row6_col8 {\n",
       "  background-color: #4e68d8;\n",
       "  color: #f1f1f1;\n",
       "}\n",
       "#T_dd382_row6_col10, #T_dd382_row12_col4, #T_dd382_row13_col0, #T_dd382_row13_col5, #T_dd382_row13_col6 {\n",
       "  background-color: #7da0f9;\n",
       "  color: #f1f1f1;\n",
       "}\n",
       "#T_dd382_row6_col11, #T_dd382_row11_col8 {\n",
       "  background-color: #7396f5;\n",
       "  color: #f1f1f1;\n",
       "}\n",
       "#T_dd382_row6_col12, #T_dd382_row7_col12 {\n",
       "  background-color: #455cce;\n",
       "  color: #f1f1f1;\n",
       "}\n",
       "#T_dd382_row7_col0 {\n",
       "  background-color: #81a4fb;\n",
       "  color: #f1f1f1;\n",
       "}\n",
       "#T_dd382_row7_col6, #T_dd382_row11_col6, #T_dd382_row12_col9 {\n",
       "  background-color: #6180e9;\n",
       "  color: #f1f1f1;\n",
       "}\n",
       "#T_dd382_row7_col9, #T_dd382_row9_col1 {\n",
       "  background-color: #4a63d3;\n",
       "  color: #f1f1f1;\n",
       "}\n",
       "#T_dd382_row8_col2 {\n",
       "  background-color: #b6cefa;\n",
       "  color: #000000;\n",
       "}\n",
       "#T_dd382_row8_col12 {\n",
       "  background-color: #7597f6;\n",
       "  color: #f1f1f1;\n",
       "}\n",
       "#T_dd382_row8_col13 {\n",
       "  background-color: #4055c8;\n",
       "  color: #f1f1f1;\n",
       "}\n",
       "#T_dd382_row9_col0 {\n",
       "  background-color: #536edd;\n",
       "  color: #f1f1f1;\n",
       "}\n",
       "#T_dd382_row9_col2 {\n",
       "  background-color: #d2dbe8;\n",
       "  color: #000000;\n",
       "}\n",
       "#T_dd382_row9_col7 {\n",
       "  background-color: #a2c1ff;\n",
       "  color: #000000;\n",
       "}\n",
       "#T_dd382_row9_col10, #T_dd382_row9_col12, #T_dd382_row10_col11, #T_dd382_row11_col0, #T_dd382_row11_col9, #T_dd382_row13_col11 {\n",
       "  background-color: #6485ec;\n",
       "  color: #f1f1f1;\n",
       "}\n",
       "#T_dd382_row10_col1 {\n",
       "  background-color: #cdd9ec;\n",
       "  color: #000000;\n",
       "}\n",
       "#T_dd382_row10_col2 {\n",
       "  background-color: #cfdaea;\n",
       "  color: #000000;\n",
       "}\n",
       "#T_dd382_row10_col4 {\n",
       "  background-color: #a1c0ff;\n",
       "  color: #000000;\n",
       "}\n",
       "#T_dd382_row10_col7 {\n",
       "  background-color: #adc9fd;\n",
       "  color: #000000;\n",
       "}\n",
       "#T_dd382_row10_col8, #T_dd382_row11_col1 {\n",
       "  background-color: #3d50c3;\n",
       "  color: #f1f1f1;\n",
       "}\n",
       "#T_dd382_row10_col9 {\n",
       "  background-color: #5977e3;\n",
       "  color: #f1f1f1;\n",
       "}\n",
       "#T_dd382_row10_col13 {\n",
       "  background-color: #8db0fe;\n",
       "  color: #000000;\n",
       "}\n",
       "#T_dd382_row11_col2 {\n",
       "  background-color: #d1dae9;\n",
       "  color: #000000;\n",
       "}\n",
       "#T_dd382_row11_col4 {\n",
       "  background-color: #aec9fc;\n",
       "  color: #000000;\n",
       "}\n",
       "#T_dd382_row11_col10, #T_dd382_row11_col12 {\n",
       "  background-color: #6282ea;\n",
       "  color: #f1f1f1;\n",
       "}\n",
       "#T_dd382_row12_col6 {\n",
       "  background-color: #3c4ec2;\n",
       "  color: #f1f1f1;\n",
       "}\n",
       "#T_dd382_row12_col8 {\n",
       "  background-color: #7ea1fa;\n",
       "  color: #f1f1f1;\n",
       "}\n",
       "#T_dd382_row13_col2 {\n",
       "  background-color: #86a9fc;\n",
       "  color: #f1f1f1;\n",
       "}\n",
       "#T_dd382_row13_col7 {\n",
       "  background-color: #c6d6f1;\n",
       "  color: #000000;\n",
       "}\n",
       "#T_dd382_row13_col9 {\n",
       "  background-color: #5b7ae5;\n",
       "  color: #f1f1f1;\n",
       "}\n",
       "#T_dd382_row13_col10 {\n",
       "  background-color: #84a7fc;\n",
       "  color: #f1f1f1;\n",
       "}\n",
       "#T_dd382_row13_col12 {\n",
       "  background-color: #7699f6;\n",
       "  color: #f1f1f1;\n",
       "}\n",
       "</style>\n",
       "<table id=\"T_dd382\">\n",
       "  <thead>\n",
       "    <tr>\n",
       "      <th class=\"blank level0\" >&nbsp;</th>\n",
       "      <th id=\"T_dd382_level0_col0\" class=\"col_heading level0 col0\" >track_popularity</th>\n",
       "      <th id=\"T_dd382_level0_col1\" class=\"col_heading level0 col1\" >danceability</th>\n",
       "      <th id=\"T_dd382_level0_col2\" class=\"col_heading level0 col2\" >energy</th>\n",
       "      <th id=\"T_dd382_level0_col3\" class=\"col_heading level0 col3\" >key</th>\n",
       "      <th id=\"T_dd382_level0_col4\" class=\"col_heading level0 col4\" >loudness</th>\n",
       "      <th id=\"T_dd382_level0_col5\" class=\"col_heading level0 col5\" >mode</th>\n",
       "      <th id=\"T_dd382_level0_col6\" class=\"col_heading level0 col6\" >speechiness</th>\n",
       "      <th id=\"T_dd382_level0_col7\" class=\"col_heading level0 col7\" >acousticness</th>\n",
       "      <th id=\"T_dd382_level0_col8\" class=\"col_heading level0 col8\" >instrumentalness</th>\n",
       "      <th id=\"T_dd382_level0_col9\" class=\"col_heading level0 col9\" >liveness</th>\n",
       "      <th id=\"T_dd382_level0_col10\" class=\"col_heading level0 col10\" >valence</th>\n",
       "      <th id=\"T_dd382_level0_col11\" class=\"col_heading level0 col11\" >tempo</th>\n",
       "      <th id=\"T_dd382_level0_col12\" class=\"col_heading level0 col12\" >duration_ms</th>\n",
       "      <th id=\"T_dd382_level0_col13\" class=\"col_heading level0 col13\" >genre_encoded</th>\n",
       "    </tr>\n",
       "  </thead>\n",
       "  <tbody>\n",
       "    <tr>\n",
       "      <th id=\"T_dd382_level0_row0\" class=\"row_heading level0 row0\" >track_popularity</th>\n",
       "      <td id=\"T_dd382_row0_col0\" class=\"data row0 col0\" >1.000000</td>\n",
       "      <td id=\"T_dd382_row0_col1\" class=\"data row0 col1\" >0.033711</td>\n",
       "      <td id=\"T_dd382_row0_col2\" class=\"data row0 col2\" >-0.107864</td>\n",
       "      <td id=\"T_dd382_row0_col3\" class=\"data row0 col3\" >-0.009351</td>\n",
       "      <td id=\"T_dd382_row0_col4\" class=\"data row0 col4\" >0.018964</td>\n",
       "      <td id=\"T_dd382_row0_col5\" class=\"data row0 col5\" >0.017870</td>\n",
       "      <td id=\"T_dd382_row0_col6\" class=\"data row0 col6\" >0.003457</td>\n",
       "      <td id=\"T_dd382_row0_col7\" class=\"data row0 col7\" >0.103543</td>\n",
       "      <td id=\"T_dd382_row0_col8\" class=\"data row0 col8\" >-0.106665</td>\n",
       "      <td id=\"T_dd382_row0_col9\" class=\"data row0 col9\" >-0.053235</td>\n",
       "      <td id=\"T_dd382_row0_col10\" class=\"data row0 col10\" >0.013373</td>\n",
       "      <td id=\"T_dd382_row0_col11\" class=\"data row0 col11\" >0.010143</td>\n",
       "      <td id=\"T_dd382_row0_col12\" class=\"data row0 col12\" >-0.146013</td>\n",
       "      <td id=\"T_dd382_row0_col13\" class=\"data row0 col13\" >0.088657</td>\n",
       "    </tr>\n",
       "    <tr>\n",
       "      <th id=\"T_dd382_level0_row1\" class=\"row_heading level0 row1\" >danceability</th>\n",
       "      <td id=\"T_dd382_row1_col0\" class=\"data row1 col0\" >0.033711</td>\n",
       "      <td id=\"T_dd382_row1_col1\" class=\"data row1 col1\" >1.000000</td>\n",
       "      <td id=\"T_dd382_row1_col2\" class=\"data row1 col2\" >-0.079301</td>\n",
       "      <td id=\"T_dd382_row1_col3\" class=\"data row1 col3\" >0.003310</td>\n",
       "      <td id=\"T_dd382_row1_col4\" class=\"data row1 col4\" >0.006867</td>\n",
       "      <td id=\"T_dd382_row1_col5\" class=\"data row1 col5\" >-0.053658</td>\n",
       "      <td id=\"T_dd382_row1_col6\" class=\"data row1 col6\" >0.182705</td>\n",
       "      <td id=\"T_dd382_row1_col7\" class=\"data row1 col7\" >-0.030262</td>\n",
       "      <td id=\"T_dd382_row1_col8\" class=\"data row1 col8\" >0.003250</td>\n",
       "      <td id=\"T_dd382_row1_col9\" class=\"data row1 col9\" >-0.130640</td>\n",
       "      <td id=\"T_dd382_row1_col10\" class=\"data row1 col10\" >0.334949</td>\n",
       "      <td id=\"T_dd382_row1_col11\" class=\"data row1 col11\" >-0.183761</td>\n",
       "      <td id=\"T_dd382_row1_col12\" class=\"data row1 col12\" >-0.079326</td>\n",
       "      <td id=\"T_dd382_row1_col13\" class=\"data row1 col13\" >-0.195732</td>\n",
       "    </tr>\n",
       "    <tr>\n",
       "      <th id=\"T_dd382_level0_row2\" class=\"row_heading level0 row2\" >energy</th>\n",
       "      <td id=\"T_dd382_row2_col0\" class=\"data row2 col0\" >-0.107864</td>\n",
       "      <td id=\"T_dd382_row2_col1\" class=\"data row2 col1\" >-0.079301</td>\n",
       "      <td id=\"T_dd382_row2_col2\" class=\"data row2 col2\" >1.000000</td>\n",
       "      <td id=\"T_dd382_row2_col3\" class=\"data row2 col3\" >0.014282</td>\n",
       "      <td id=\"T_dd382_row2_col4\" class=\"data row2 col4\" >0.685798</td>\n",
       "      <td id=\"T_dd382_row2_col5\" class=\"data row2 col5\" >-0.003793</td>\n",
       "      <td id=\"T_dd382_row2_col6\" class=\"data row2 col6\" >-0.025340</td>\n",
       "      <td id=\"T_dd382_row2_col7\" class=\"data row2 col7\" >-0.550936</td>\n",
       "      <td id=\"T_dd382_row2_col8\" class=\"data row2 col8\" >0.019682</td>\n",
       "      <td id=\"T_dd382_row2_col9\" class=\"data row2 col9\" >0.163639</td>\n",
       "      <td id=\"T_dd382_row2_col10\" class=\"data row2 col10\" >0.147592</td>\n",
       "      <td id=\"T_dd382_row2_col11\" class=\"data row2 col11\" >0.153244</td>\n",
       "      <td id=\"T_dd382_row2_col12\" class=\"data row2 col12\" >0.026136</td>\n",
       "      <td id=\"T_dd382_row2_col13\" class=\"data row2 col13\" >-0.193493</td>\n",
       "    </tr>\n",
       "    <tr>\n",
       "      <th id=\"T_dd382_level0_row3\" class=\"row_heading level0 row3\" >key</th>\n",
       "      <td id=\"T_dd382_row3_col0\" class=\"data row3 col0\" >-0.009351</td>\n",
       "      <td id=\"T_dd382_row3_col1\" class=\"data row3 col1\" >0.003310</td>\n",
       "      <td id=\"T_dd382_row3_col2\" class=\"data row3 col2\" >0.014282</td>\n",
       "      <td id=\"T_dd382_row3_col3\" class=\"data row3 col3\" >1.000000</td>\n",
       "      <td id=\"T_dd382_row3_col4\" class=\"data row3 col4\" >-0.001840</td>\n",
       "      <td id=\"T_dd382_row3_col5\" class=\"data row3 col5\" >-0.177865</td>\n",
       "      <td id=\"T_dd382_row3_col6\" class=\"data row3 col6\" >0.022157</td>\n",
       "      <td id=\"T_dd382_row3_col7\" class=\"data row3 col7\" >0.004623</td>\n",
       "      <td id=\"T_dd382_row3_col8\" class=\"data row3 col8\" >0.007110</td>\n",
       "      <td id=\"T_dd382_row3_col9\" class=\"data row3 col9\" >0.002932</td>\n",
       "      <td id=\"T_dd382_row3_col10\" class=\"data row3 col10\" >0.023415</td>\n",
       "      <td id=\"T_dd382_row3_col11\" class=\"data row3 col11\" >-0.008099</td>\n",
       "      <td id=\"T_dd382_row3_col12\" class=\"data row3 col12\" >0.021767</td>\n",
       "      <td id=\"T_dd382_row3_col13\" class=\"data row3 col13\" >-0.008834</td>\n",
       "    </tr>\n",
       "    <tr>\n",
       "      <th id=\"T_dd382_level0_row4\" class=\"row_heading level0 row4\" >loudness</th>\n",
       "      <td id=\"T_dd382_row4_col0\" class=\"data row4 col0\" >0.018964</td>\n",
       "      <td id=\"T_dd382_row4_col1\" class=\"data row4 col1\" >0.006867</td>\n",
       "      <td id=\"T_dd382_row4_col2\" class=\"data row4 col2\" >0.685798</td>\n",
       "      <td id=\"T_dd382_row4_col3\" class=\"data row4 col3\" >-0.001840</td>\n",
       "      <td id=\"T_dd382_row4_col4\" class=\"data row4 col4\" >1.000000</td>\n",
       "      <td id=\"T_dd382_row4_col5\" class=\"data row4 col5\" >-0.015577</td>\n",
       "      <td id=\"T_dd382_row4_col6\" class=\"data row4 col6\" >0.014204</td>\n",
       "      <td id=\"T_dd382_row4_col7\" class=\"data row4 col7\" >-0.378372</td>\n",
       "      <td id=\"T_dd382_row4_col8\" class=\"data row4 col8\" >-0.157359</td>\n",
       "      <td id=\"T_dd382_row4_col9\" class=\"data row4 col9\" >0.082809</td>\n",
       "      <td id=\"T_dd382_row4_col10\" class=\"data row4 col10\" >0.046864</td>\n",
       "      <td id=\"T_dd382_row4_col11\" class=\"data row4 col11\" >0.098349</td>\n",
       "      <td id=\"T_dd382_row4_col12\" class=\"data row4 col12\" >-0.093458</td>\n",
       "      <td id=\"T_dd382_row4_col13\" class=\"data row4 col13\" >-0.213492</td>\n",
       "    </tr>\n",
       "    <tr>\n",
       "      <th id=\"T_dd382_level0_row5\" class=\"row_heading level0 row5\" >mode</th>\n",
       "      <td id=\"T_dd382_row5_col0\" class=\"data row5 col0\" >0.017870</td>\n",
       "      <td id=\"T_dd382_row5_col1\" class=\"data row5 col1\" >-0.053658</td>\n",
       "      <td id=\"T_dd382_row5_col2\" class=\"data row5 col2\" >-0.003793</td>\n",
       "      <td id=\"T_dd382_row5_col3\" class=\"data row5 col3\" >-0.177865</td>\n",
       "      <td id=\"T_dd382_row5_col4\" class=\"data row5 col4\" >-0.015577</td>\n",
       "      <td id=\"T_dd382_row5_col5\" class=\"data row5 col5\" >1.000000</td>\n",
       "      <td id=\"T_dd382_row5_col6\" class=\"data row5 col6\" >-0.055494</td>\n",
       "      <td id=\"T_dd382_row5_col7\" class=\"data row5 col7\" >0.005547</td>\n",
       "      <td id=\"T_dd382_row5_col8\" class=\"data row5 col8\" >-0.006658</td>\n",
       "      <td id=\"T_dd382_row5_col9\" class=\"data row5 col9\" >0.003124</td>\n",
       "      <td id=\"T_dd382_row5_col10\" class=\"data row5 col10\" >-0.006358</td>\n",
       "      <td id=\"T_dd382_row5_col11\" class=\"data row5 col11\" >0.018021</td>\n",
       "      <td id=\"T_dd382_row5_col12\" class=\"data row5 col12\" >0.010746</td>\n",
       "      <td id=\"T_dd382_row5_col13\" class=\"data row5 col13\" >0.063367</td>\n",
       "    </tr>\n",
       "    <tr>\n",
       "      <th id=\"T_dd382_level0_row6\" class=\"row_heading level0 row6\" >speechiness</th>\n",
       "      <td id=\"T_dd382_row6_col0\" class=\"data row6 col0\" >0.003457</td>\n",
       "      <td id=\"T_dd382_row6_col1\" class=\"data row6 col1\" >0.182705</td>\n",
       "      <td id=\"T_dd382_row6_col2\" class=\"data row6 col2\" >-0.025340</td>\n",
       "      <td id=\"T_dd382_row6_col3\" class=\"data row6 col3\" >0.022157</td>\n",
       "      <td id=\"T_dd382_row6_col4\" class=\"data row6 col4\" >0.014204</td>\n",
       "      <td id=\"T_dd382_row6_col5\" class=\"data row6 col5\" >-0.055494</td>\n",
       "      <td id=\"T_dd382_row6_col6\" class=\"data row6 col6\" >1.000000</td>\n",
       "      <td id=\"T_dd382_row6_col7\" class=\"data row6 col7\" >0.024772</td>\n",
       "      <td id=\"T_dd382_row6_col8\" class=\"data row6 col8\" >-0.110699</td>\n",
       "      <td id=\"T_dd382_row6_col9\" class=\"data row6 col9\" >0.060892</td>\n",
       "      <td id=\"T_dd382_row6_col10\" class=\"data row6 col10\" >0.066006</td>\n",
       "      <td id=\"T_dd382_row6_col11\" class=\"data row6 col11\" >0.027040</td>\n",
       "      <td id=\"T_dd382_row6_col12\" class=\"data row6 col12\" >-0.104714</td>\n",
       "      <td id=\"T_dd382_row6_col13\" class=\"data row6 col13\" >0.117230</td>\n",
       "    </tr>\n",
       "    <tr>\n",
       "      <th id=\"T_dd382_level0_row7\" class=\"row_heading level0 row7\" >acousticness</th>\n",
       "      <td id=\"T_dd382_row7_col0\" class=\"data row7 col0\" >0.103543</td>\n",
       "      <td id=\"T_dd382_row7_col1\" class=\"data row7 col1\" >-0.030262</td>\n",
       "      <td id=\"T_dd382_row7_col2\" class=\"data row7 col2\" >-0.550936</td>\n",
       "      <td id=\"T_dd382_row7_col3\" class=\"data row7 col3\" >0.004623</td>\n",
       "      <td id=\"T_dd382_row7_col4\" class=\"data row7 col4\" >-0.378372</td>\n",
       "      <td id=\"T_dd382_row7_col5\" class=\"data row7 col5\" >0.005547</td>\n",
       "      <td id=\"T_dd382_row7_col6\" class=\"data row7 col6\" >0.024772</td>\n",
       "      <td id=\"T_dd382_row7_col7\" class=\"data row7 col7\" >1.000000</td>\n",
       "      <td id=\"T_dd382_row7_col8\" class=\"data row7 col8\" >-0.002013</td>\n",
       "      <td id=\"T_dd382_row7_col9\" class=\"data row7 col9\" >-0.071695</td>\n",
       "      <td id=\"T_dd382_row7_col10\" class=\"data row7 col10\" >-0.020155</td>\n",
       "      <td id=\"T_dd382_row7_col11\" class=\"data row7 col11\" >-0.115540</td>\n",
       "      <td id=\"T_dd382_row7_col12\" class=\"data row7 col12\" >-0.105583</td>\n",
       "      <td id=\"T_dd382_row7_col13\" class=\"data row7 col13\" >0.100352</td>\n",
       "    </tr>\n",
       "    <tr>\n",
       "      <th id=\"T_dd382_level0_row8\" class=\"row_heading level0 row8\" >instrumentalness</th>\n",
       "      <td id=\"T_dd382_row8_col0\" class=\"data row8 col0\" >-0.106665</td>\n",
       "      <td id=\"T_dd382_row8_col1\" class=\"data row8 col1\" >0.003250</td>\n",
       "      <td id=\"T_dd382_row8_col2\" class=\"data row8 col2\" >0.019682</td>\n",
       "      <td id=\"T_dd382_row8_col3\" class=\"data row8 col3\" >0.007110</td>\n",
       "      <td id=\"T_dd382_row8_col4\" class=\"data row8 col4\" >-0.157359</td>\n",
       "      <td id=\"T_dd382_row8_col5\" class=\"data row8 col5\" >-0.006658</td>\n",
       "      <td id=\"T_dd382_row8_col6\" class=\"data row8 col6\" >-0.110699</td>\n",
       "      <td id=\"T_dd382_row8_col7\" class=\"data row8 col7\" >-0.002013</td>\n",
       "      <td id=\"T_dd382_row8_col8\" class=\"data row8 col8\" >1.000000</td>\n",
       "      <td id=\"T_dd382_row8_col9\" class=\"data row8 col9\" >-0.011572</td>\n",
       "      <td id=\"T_dd382_row8_col10\" class=\"data row8 col10\" >-0.175410</td>\n",
       "      <td id=\"T_dd382_row8_col11\" class=\"data row8 col11\" >0.021566</td>\n",
       "      <td id=\"T_dd382_row8_col12\" class=\"data row8 col12\" >0.060387</td>\n",
       "      <td id=\"T_dd382_row8_col13\" class=\"data row8 col13\" >-0.187661</td>\n",
       "    </tr>\n",
       "    <tr>\n",
       "      <th id=\"T_dd382_level0_row9\" class=\"row_heading level0 row9\" >liveness</th>\n",
       "      <td id=\"T_dd382_row9_col0\" class=\"data row9 col0\" >-0.053235</td>\n",
       "      <td id=\"T_dd382_row9_col1\" class=\"data row9 col1\" >-0.130640</td>\n",
       "      <td id=\"T_dd382_row9_col2\" class=\"data row9 col2\" >0.163639</td>\n",
       "      <td id=\"T_dd382_row9_col3\" class=\"data row9 col3\" >0.002932</td>\n",
       "      <td id=\"T_dd382_row9_col4\" class=\"data row9 col4\" >0.082809</td>\n",
       "      <td id=\"T_dd382_row9_col5\" class=\"data row9 col5\" >0.003124</td>\n",
       "      <td id=\"T_dd382_row9_col6\" class=\"data row9 col6\" >0.060892</td>\n",
       "      <td id=\"T_dd382_row9_col7\" class=\"data row9 col7\" >-0.071695</td>\n",
       "      <td id=\"T_dd382_row9_col8\" class=\"data row9 col8\" >-0.011572</td>\n",
       "      <td id=\"T_dd382_row9_col9\" class=\"data row9 col9\" >1.000000</td>\n",
       "      <td id=\"T_dd382_row9_col10\" class=\"data row9 col10\" >-0.018470</td>\n",
       "      <td id=\"T_dd382_row9_col11\" class=\"data row9 col11\" >0.023533</td>\n",
       "      <td id=\"T_dd382_row9_col12\" class=\"data row9 col12\" >0.009266</td>\n",
       "      <td id=\"T_dd382_row9_col13\" class=\"data row9 col13\" >-0.007179</td>\n",
       "    </tr>\n",
       "    <tr>\n",
       "      <th id=\"T_dd382_level0_row10\" class=\"row_heading level0 row10\" >valence</th>\n",
       "      <td id=\"T_dd382_row10_col0\" class=\"data row10 col0\" >0.013373</td>\n",
       "      <td id=\"T_dd382_row10_col1\" class=\"data row10 col1\" >0.334949</td>\n",
       "      <td id=\"T_dd382_row10_col2\" class=\"data row10 col2\" >0.147592</td>\n",
       "      <td id=\"T_dd382_row10_col3\" class=\"data row10 col3\" >0.023415</td>\n",
       "      <td id=\"T_dd382_row10_col4\" class=\"data row10 col4\" >0.046864</td>\n",
       "      <td id=\"T_dd382_row10_col5\" class=\"data row10 col5\" >-0.006358</td>\n",
       "      <td id=\"T_dd382_row10_col6\" class=\"data row10 col6\" >0.066006</td>\n",
       "      <td id=\"T_dd382_row10_col7\" class=\"data row10 col7\" >-0.020155</td>\n",
       "      <td id=\"T_dd382_row10_col8\" class=\"data row10 col8\" >-0.175410</td>\n",
       "      <td id=\"T_dd382_row10_col9\" class=\"data row10 col9\" >-0.018470</td>\n",
       "      <td id=\"T_dd382_row10_col10\" class=\"data row10 col10\" >1.000000</td>\n",
       "      <td id=\"T_dd382_row10_col11\" class=\"data row10 col11\" >-0.024828</td>\n",
       "      <td id=\"T_dd382_row10_col12\" class=\"data row10 col12\" >-0.035754</td>\n",
       "      <td id=\"T_dd382_row10_col13\" class=\"data row10 col13\" >0.090358</td>\n",
       "    </tr>\n",
       "    <tr>\n",
       "      <th id=\"T_dd382_level0_row11\" class=\"row_heading level0 row11\" >tempo</th>\n",
       "      <td id=\"T_dd382_row11_col0\" class=\"data row11 col0\" >0.010143</td>\n",
       "      <td id=\"T_dd382_row11_col1\" class=\"data row11 col1\" >-0.183761</td>\n",
       "      <td id=\"T_dd382_row11_col2\" class=\"data row11 col2\" >0.153244</td>\n",
       "      <td id=\"T_dd382_row11_col3\" class=\"data row11 col3\" >-0.008099</td>\n",
       "      <td id=\"T_dd382_row11_col4\" class=\"data row11 col4\" >0.098349</td>\n",
       "      <td id=\"T_dd382_row11_col5\" class=\"data row11 col5\" >0.018021</td>\n",
       "      <td id=\"T_dd382_row11_col6\" class=\"data row11 col6\" >0.027040</td>\n",
       "      <td id=\"T_dd382_row11_col7\" class=\"data row11 col7\" >-0.115540</td>\n",
       "      <td id=\"T_dd382_row11_col8\" class=\"data row11 col8\" >0.021566</td>\n",
       "      <td id=\"T_dd382_row11_col9\" class=\"data row11 col9\" >0.023533</td>\n",
       "      <td id=\"T_dd382_row11_col10\" class=\"data row11 col10\" >-0.024828</td>\n",
       "      <td id=\"T_dd382_row11_col11\" class=\"data row11 col11\" >1.000000</td>\n",
       "      <td id=\"T_dd382_row11_col12\" class=\"data row11 col12\" >0.000152</td>\n",
       "      <td id=\"T_dd382_row11_col13\" class=\"data row11 col13\" >-0.022408</td>\n",
       "    </tr>\n",
       "    <tr>\n",
       "      <th id=\"T_dd382_level0_row12\" class=\"row_heading level0 row12\" >duration_ms</th>\n",
       "      <td id=\"T_dd382_row12_col0\" class=\"data row12 col0\" >-0.146013</td>\n",
       "      <td id=\"T_dd382_row12_col1\" class=\"data row12 col1\" >-0.079326</td>\n",
       "      <td id=\"T_dd382_row12_col2\" class=\"data row12 col2\" >0.026136</td>\n",
       "      <td id=\"T_dd382_row12_col3\" class=\"data row12 col3\" >0.021767</td>\n",
       "      <td id=\"T_dd382_row12_col4\" class=\"data row12 col4\" >-0.093458</td>\n",
       "      <td id=\"T_dd382_row12_col5\" class=\"data row12 col5\" >0.010746</td>\n",
       "      <td id=\"T_dd382_row12_col6\" class=\"data row12 col6\" >-0.104714</td>\n",
       "      <td id=\"T_dd382_row12_col7\" class=\"data row12 col7\" >-0.105583</td>\n",
       "      <td id=\"T_dd382_row12_col8\" class=\"data row12 col8\" >0.060387</td>\n",
       "      <td id=\"T_dd382_row12_col9\" class=\"data row12 col9\" >0.009266</td>\n",
       "      <td id=\"T_dd382_row12_col10\" class=\"data row12 col10\" >-0.035754</td>\n",
       "      <td id=\"T_dd382_row12_col11\" class=\"data row12 col11\" >0.000152</td>\n",
       "      <td id=\"T_dd382_row12_col12\" class=\"data row12 col12\" >1.000000</td>\n",
       "      <td id=\"T_dd382_row12_col13\" class=\"data row12 col13\" >0.065244</td>\n",
       "    </tr>\n",
       "    <tr>\n",
       "      <th id=\"T_dd382_level0_row13\" class=\"row_heading level0 row13\" >genre_encoded</th>\n",
       "      <td id=\"T_dd382_row13_col0\" class=\"data row13 col0\" >0.088657</td>\n",
       "      <td id=\"T_dd382_row13_col1\" class=\"data row13 col1\" >-0.195732</td>\n",
       "      <td id=\"T_dd382_row13_col2\" class=\"data row13 col2\" >-0.193493</td>\n",
       "      <td id=\"T_dd382_row13_col3\" class=\"data row13 col3\" >-0.008834</td>\n",
       "      <td id=\"T_dd382_row13_col4\" class=\"data row13 col4\" >-0.213492</td>\n",
       "      <td id=\"T_dd382_row13_col5\" class=\"data row13 col5\" >0.063367</td>\n",
       "      <td id=\"T_dd382_row13_col6\" class=\"data row13 col6\" >0.117230</td>\n",
       "      <td id=\"T_dd382_row13_col7\" class=\"data row13 col7\" >0.100352</td>\n",
       "      <td id=\"T_dd382_row13_col8\" class=\"data row13 col8\" >-0.187661</td>\n",
       "      <td id=\"T_dd382_row13_col9\" class=\"data row13 col9\" >-0.007179</td>\n",
       "      <td id=\"T_dd382_row13_col10\" class=\"data row13 col10\" >0.090358</td>\n",
       "      <td id=\"T_dd382_row13_col11\" class=\"data row13 col11\" >-0.022408</td>\n",
       "      <td id=\"T_dd382_row13_col12\" class=\"data row13 col12\" >0.065244</td>\n",
       "      <td id=\"T_dd382_row13_col13\" class=\"data row13 col13\" >1.000000</td>\n",
       "    </tr>\n",
       "  </tbody>\n",
       "</table>\n"
      ],
      "text/plain": [
       "<pandas.io.formats.style.Styler at 0x7f9fcd867b80>"
      ]
     },
     "execution_count": 42,
     "metadata": {},
     "output_type": "execute_result"
    }
   ],
   "source": [
    "#Identify highly correlated features with target\n",
    "corr = songs_data_cleaned.corr()\n",
    "corr.style.background_gradient(cmap='coolwarm')"
   ]
  },
  {
   "cell_type": "markdown",
   "metadata": {},
   "source": [
    "<div class=\"alert alert-block alert-info\"> <b>Findings: </b> No strong correlations identified in cleaned dataset.</div>"
   ]
  },
  {
   "cell_type": "markdown",
   "metadata": {},
   "source": [
    "### Summary of the Data Cleaning"
   ]
  },
  {
   "cell_type": "markdown",
   "metadata": {},
   "source": [
    "> ## Around 33% of the data had to be dropped. "
   ]
  },
  {
   "cell_type": "markdown",
   "metadata": {},
   "source": [
    "# <span style=\"color:blue\">Build ML Model</span>"
   ]
  },
  {
   "cell_type": "markdown",
   "metadata": {},
   "source": [
    "> ## We chose the three models Decision Tree, Random Forest and XGBoost because in general, they work best on classification tasks and require less data manipulation."
   ]
  },
  {
   "cell_type": "code",
   "execution_count": 43,
   "metadata": {},
   "outputs": [],
   "source": [
    "#define target and features variables\n",
    "target = songs_data_cleaned.genre_encoded #y\n",
    "features = songs_data_cleaned.drop(['genre_encoded'], axis = 1) #X"
   ]
  },
  {
   "cell_type": "code",
   "execution_count": 44,
   "metadata": {},
   "outputs": [
    {
     "data": {
      "text/plain": [
       "(25388,)"
      ]
     },
     "execution_count": 44,
     "metadata": {},
     "output_type": "execute_result"
    }
   ],
   "source": [
    "# Look at Shape of target data subset\n",
    "target.shape"
   ]
  },
  {
   "cell_type": "code",
   "execution_count": 45,
   "metadata": {},
   "outputs": [
    {
     "data": {
      "text/plain": [
       "(25388, 13)"
      ]
     },
     "execution_count": 45,
     "metadata": {},
     "output_type": "execute_result"
    }
   ],
   "source": [
    "# Look at Shape of features data subset\n",
    "features.shape"
   ]
  },
  {
   "cell_type": "code",
   "execution_count": 46,
   "metadata": {},
   "outputs": [],
   "source": [
    "#split dataset\n",
    "X_train, X_test, y_train, y_test = train_test_split(features,\n",
    "                                                    target,\n",
    "                                                    random_state=0,\n",
    "                                                    test_size=0.2)"
   ]
  },
  {
   "cell_type": "code",
   "execution_count": 47,
   "metadata": {},
   "outputs": [
    {
     "name": "stdout",
     "output_type": "stream",
     "text": [
      "Training Data\n",
      "X_train shape:  (20310, 13)\n",
      "y_train shape:  (20310,)\n"
     ]
    }
   ],
   "source": [
    "#print the shape of training data\n",
    "print(\"Training Data\")\n",
    "print(\"X_train shape: \", X_train.shape)\n",
    "print(\"y_train shape: \", y_train.shape)"
   ]
  },
  {
   "cell_type": "code",
   "execution_count": 48,
   "metadata": {},
   "outputs": [],
   "source": [
    "# Set up pipelines to simplify model fitting\n",
    "rf = Pipeline([#('tfidf', transformer),\n",
    "                ('scaler', StandardScaler(with_mean=False)),\n",
    "               ('clf', RandomForestClassifier(max_depth=5,\n",
    "                                              n_estimators=100,\n",
    "                                              random_state=0))])\n",
    "dt = Pipeline([#('tfidf', transformer),\n",
    "                ('scaler', StandardScaler(with_mean=False)),\n",
    "               ('clf', DecisionTreeClassifier(max_depth=5,\n",
    "                                              random_state=0))])\n",
    "xgb = Pipeline([#('tfidf', transformer),\n",
    "                ('scaler', StandardScaler(with_mean=False)),\n",
    "               ('clf', XGBClassifier(max_depth=5,\n",
    "                                              n_estimators=100,\n",
    "                                              random_state=0))])"
   ]
  },
  {
   "cell_type": "markdown",
   "metadata": {},
   "source": [
    "### Build Decision Tree Model"
   ]
  },
  {
   "cell_type": "code",
   "execution_count": 49,
   "metadata": {},
   "outputs": [
    {
     "data": {
      "text/plain": [
       "DecisionTreeClassifier()"
      ]
     },
     "execution_count": 49,
     "metadata": {},
     "output_type": "execute_result"
    }
   ],
   "source": [
    "# Build the model\n",
    "dt = DecisionTreeClassifier()\n",
    "dt.fit(X_train, y_train)"
   ]
  },
  {
   "cell_type": "code",
   "execution_count": 50,
   "metadata": {},
   "outputs": [],
   "source": [
    "# Make predictions and call this variable y_pred_dt\n",
    "y_pred_dt = dt.predict(X_test)"
   ]
  },
  {
   "cell_type": "code",
   "execution_count": 51,
   "metadata": {},
   "outputs": [
    {
     "name": "stdout",
     "output_type": "stream",
     "text": [
      "first five predicted values: [0 4 0 1 3]\n",
      "first five actual values: [0, 4, 5, 2, 3]\n"
     ]
    }
   ],
   "source": [
    "# Print the first five predicted vs actual values\n",
    "print_5(y_pred_dt, y_test)"
   ]
  },
  {
   "cell_type": "code",
   "execution_count": 52,
   "metadata": {},
   "outputs": [
    {
     "name": "stdout",
     "output_type": "stream",
     "text": [
      "Results of the Decision Tree Model:\n",
      "Accuracy Score: 0.44\n",
      "Precision Score: 0.43\n",
      "Recall Score: 0.43\n",
      "F1 Score: 0.43\n"
     ]
    }
   ],
   "source": [
    "#print scores of decision tree model\n",
    "dt_scores = print_scores(\"Decision tree\", y_pred_dt, y_test)"
   ]
  },
  {
   "cell_type": "code",
   "execution_count": 53,
   "metadata": {},
   "outputs": [
    {
     "name": "stdout",
     "output_type": "stream",
     "text": [
      "Model:  DecisionTreeClassifier()\n",
      "              precision    recall  f1-score   support\n",
      "\n",
      "           0       0.58      0.58      0.58       966\n",
      "           1       0.31      0.32      0.31       755\n",
      "           2       0.29      0.29      0.29       788\n",
      "           3       0.37      0.37      0.37       822\n",
      "           4       0.52      0.50      0.51       976\n",
      "           5       0.52      0.54      0.53       771\n",
      "\n",
      "    accuracy                           0.44      5078\n",
      "   macro avg       0.43      0.43      0.43      5078\n",
      "weighted avg       0.44      0.44      0.44      5078\n",
      "\n",
      "\n",
      "\n"
     ]
    }
   ],
   "source": [
    "#print scores of model for each genre\n",
    "evaluate_model(dt, y_test, y_pred_dt)"
   ]
  },
  {
   "cell_type": "code",
   "execution_count": 54,
   "metadata": {},
   "outputs": [
    {
     "data": {
      "image/png": "[encoded data removed]",
      "text/plain": [
       "<Figure size 720x576 with 2 Axes>"
      ]
     },
     "metadata": {
      "needs_background": "light"
     },
     "output_type": "display_data"
    }
   ],
   "source": [
    "#plot confusion matrix\n",
    "plot_confusion_matrix(dt, \"Decision trees\", y_test, y_pred_dt, encoder=label_encoder)"
   ]
  },
  {
   "cell_type": "markdown",
   "metadata": {},
   "source": [
    "<br>\n",
    "<br>\n",
    "<br>"
   ]
  },
  {
   "cell_type": "markdown",
   "metadata": {},
   "source": [
    "### Build Random Forrest Model"
   ]
  },
  {
   "cell_type": "code",
   "execution_count": 55,
   "metadata": {},
   "outputs": [
    {
     "data": {
      "text/plain": [
       "RandomForestClassifier()"
      ]
     },
     "execution_count": 55,
     "metadata": {},
     "output_type": "execute_result"
    }
   ],
   "source": [
    "# Build the model\n",
    "rf = RandomForestClassifier()\n",
    "rf.fit(X_train, y_train)"
   ]
  },
  {
   "cell_type": "code",
   "execution_count": 56,
   "metadata": {},
   "outputs": [],
   "source": [
    "# Make predictions and call this variable y_pred_dt\n",
    "y_pred_rf = rf.predict(X_test)"
   ]
  },
  {
   "cell_type": "code",
   "execution_count": 57,
   "metadata": {},
   "outputs": [
    {
     "name": "stdout",
     "output_type": "stream",
     "text": [
      "first five predicted values: [0 4 5 1 3]\n",
      "first five actual values: [0, 4, 5, 2, 3]\n"
     ]
    }
   ],
   "source": [
    "# Optional: Print the first five predicted vs actual values\n",
    "print_5(y_pred_rf, y_test)"
   ]
  },
  {
   "cell_type": "code",
   "execution_count": 58,
   "metadata": {
    "scrolled": false
   },
   "outputs": [
    {
     "name": "stdout",
     "output_type": "stream",
     "text": [
      "Results of the Decision Tree Model:\n",
      "Accuracy Score: 0.58\n",
      "Precision Score: 0.56\n",
      "Recall Score: 0.56\n",
      "F1 Score: 0.56\n"
     ]
    }
   ],
   "source": [
    "#print scores of random forest model\n",
    "rf_scores = print_scores(\"Random forest\", y_pred_rf, y_test)"
   ]
  },
  {
   "cell_type": "code",
   "execution_count": 59,
   "metadata": {},
   "outputs": [
    {
     "name": "stdout",
     "output_type": "stream",
     "text": [
      "Model:  RandomForestClassifier()\n",
      "              precision    recall  f1-score   support\n",
      "\n",
      "           0       0.71      0.73      0.72       966\n",
      "           1       0.53      0.38      0.44       755\n",
      "           2       0.39      0.34      0.36       788\n",
      "           3       0.48      0.50      0.49       822\n",
      "           4       0.61      0.71      0.65       976\n",
      "           5       0.64      0.73      0.68       771\n",
      "\n",
      "    accuracy                           0.58      5078\n",
      "   macro avg       0.56      0.56      0.56      5078\n",
      "weighted avg       0.57      0.58      0.57      5078\n",
      "\n",
      "\n",
      "\n"
     ]
    }
   ],
   "source": [
    "#print scores of model for each genre\n",
    "evaluate_model(rf, y_test, y_pred_rf)"
   ]
  },
  {
   "cell_type": "code",
   "execution_count": 60,
   "metadata": {},
   "outputs": [
    {
     "data": {
      "image/png": "[encoded data removed]",
      "text/plain": [
       "<Figure size 720x576 with 2 Axes>"
      ]
     },
     "metadata": {
      "needs_background": "light"
     },
     "output_type": "display_data"
    }
   ],
   "source": [
    "#plot confusion matrix\n",
    "plot_confusion_matrix(rf, \"Decision trees\", y_test, y_pred_rf, encoder=label_encoder)"
   ]
  },
  {
   "cell_type": "markdown",
   "metadata": {},
   "source": [
    "### Build a XGBoost Model"
   ]
  },
  {
   "cell_type": "code",
   "execution_count": 61,
   "metadata": {},
   "outputs": [
    {
     "name": "stdout",
     "output_type": "stream",
     "text": [
      "[11:10:30] WARNING: ../src/learner.cc:1115: Starting in XGBoost 1.3.0, the default evaluation metric used with the objective 'multi:softprob' was changed from 'merror' to 'mlogloss'. Explicitly set eval_metric if you'd like to restore the old behavior.\n"
     ]
    },
    {
     "data": {
      "text/plain": [
       "XGBClassifier(base_score=0.5, booster='gbtree', colsample_bylevel=1,\n",
       "              colsample_bynode=1, colsample_bytree=1, enable_categorical=False,\n",
       "              gamma=0, gpu_id=-1, importance_type=None,\n",
       "              interaction_constraints='', learning_rate=0.300000012,\n",
       "              max_delta_step=0, max_depth=6, min_child_weight=1, missing=nan,\n",
       "              monotone_constraints='()', n_estimators=100, n_jobs=8,\n",
       "              num_parallel_tree=1, objective='multi:softprob', predictor='auto',\n",
       "              random_state=0, reg_alpha=0, reg_lambda=1, scale_pos_weight=None,\n",
       "              subsample=1, tree_method='exact', validate_parameters=1,\n",
       "              verbosity=None)"
      ]
     },
     "execution_count": 61,
     "metadata": {},
     "output_type": "execute_result"
    }
   ],
   "source": [
    "# Build the model\n",
    "xgb = XGBClassifier()\n",
    "xgb.fit(X_train, y_train)"
   ]
  },
  {
   "cell_type": "code",
   "execution_count": 62,
   "metadata": {},
   "outputs": [],
   "source": [
    "# Make predictions and call this variable y_pred_dt\n",
    "y_pred_xgb = xgb.predict(X_test)"
   ]
  },
  {
   "cell_type": "code",
   "execution_count": 63,
   "metadata": {},
   "outputs": [
    {
     "name": "stdout",
     "output_type": "stream",
     "text": [
      "first five predicted values: [0 4 5 3 3]\n",
      "first five actual values: [0, 4, 5, 2, 3]\n"
     ]
    }
   ],
   "source": [
    "# Print the first five predicted vs actual values\n",
    "print_5(y_pred_xgb, y_test)"
   ]
  },
  {
   "cell_type": "code",
   "execution_count": 64,
   "metadata": {
    "scrolled": true
   },
   "outputs": [
    {
     "name": "stdout",
     "output_type": "stream",
     "text": [
      "Results of the Decision Tree Model:\n",
      "Accuracy Score: 0.57\n",
      "Precision Score: 0.56\n",
      "Recall Score: 0.56\n",
      "F1 Score: 0.56\n"
     ]
    }
   ],
   "source": [
    "#print scores of XGBoost model\n",
    "xgb_scores = print_scores(\"XGBoost\", y_pred_xgb, y_test)"
   ]
  },
  {
   "cell_type": "code",
   "execution_count": 65,
   "metadata": {},
   "outputs": [
    {
     "name": "stdout",
     "output_type": "stream",
     "text": [
      "Model:  XGBClassifier(base_score=0.5, booster='gbtree', colsample_bylevel=1,\n",
      "              colsample_bynode=1, colsample_bytree=1, enable_categorical=False,\n",
      "              gamma=0, gpu_id=-1, importance_type=None,\n",
      "              interaction_constraints='', learning_rate=0.300000012,\n",
      "              max_delta_step=0, max_depth=6, min_child_weight=1, missing=nan,\n",
      "              monotone_constraints='()', n_estimators=100, n_jobs=8,\n",
      "              num_parallel_tree=1, objective='multi:softprob', predictor='auto',\n",
      "              random_state=0, reg_alpha=0, reg_lambda=1, scale_pos_weight=None,\n",
      "              subsample=1, tree_method='exact', validate_parameters=1,\n",
      "              verbosity=None)\n",
      "              precision    recall  f1-score   support\n",
      "\n",
      "           0       0.72      0.72      0.72       966\n",
      "           1       0.50      0.38      0.43       755\n",
      "           2       0.37      0.37      0.37       788\n",
      "           3       0.47      0.49      0.48       822\n",
      "           4       0.62      0.68      0.65       976\n",
      "           5       0.66      0.72      0.68       771\n",
      "\n",
      "    accuracy                           0.57      5078\n",
      "   macro avg       0.56      0.56      0.56      5078\n",
      "weighted avg       0.56      0.57      0.56      5078\n",
      "\n",
      "\n",
      "\n"
     ]
    }
   ],
   "source": [
    "#print scores of model for each genre\n",
    "evaluate_model(xgb, y_test, y_pred_xgb)"
   ]
  },
  {
   "cell_type": "code",
   "execution_count": 66,
   "metadata": {},
   "outputs": [
    {
     "data": {
      "image/png": "[encoded data removed]",
      "text/plain": [
       "<Figure size 720x576 with 2 Axes>"
      ]
     },
     "metadata": {
      "needs_background": "light"
     },
     "output_type": "display_data"
    }
   ],
   "source": [
    "#plot confusion matrix\n",
    "plot_confusion_matrix(dt, \"XGB\", y_test, y_pred_xgb, encoder=label_encoder)"
   ]
  },
  {
   "cell_type": "markdown",
   "metadata": {},
   "source": [
    "<div class=\"alert alert-block alert-info\"> <b>Findings: </b> For all our three models, the confusion matrices show that they perform well on rock, rap and edm and especially bad on pop and latin.</div>\n"
   ]
  },
  {
   "cell_type": "markdown",
   "metadata": {},
   "source": [
    "---"
   ]
  },
  {
   "cell_type": "markdown",
   "metadata": {},
   "source": [
    "# <span style=\"color:blue\">Evaluating and Explaining Model Performance</span>"
   ]
  },
  {
   "cell_type": "code",
   "execution_count": 67,
   "metadata": {},
   "outputs": [
    {
     "data": {
      "text/html": [
       "<div>\n",
       "<style scoped>\n",
       "    .dataframe tbody tr th:only-of-type {\n",
       "        vertical-align: middle;\n",
       "    }\n",
       "\n",
       "    .dataframe tbody tr th {\n",
       "        vertical-align: top;\n",
       "    }\n",
       "\n",
       "    .dataframe thead th {\n",
       "        text-align: right;\n",
       "    }\n",
       "</style>\n",
       "<table border=\"1\" class=\"dataframe\">\n",
       "  <thead>\n",
       "    <tr style=\"text-align: right;\">\n",
       "      <th></th>\n",
       "      <th>Decision tree</th>\n",
       "      <th>Random forest</th>\n",
       "      <th>XGBoost</th>\n",
       "    </tr>\n",
       "  </thead>\n",
       "  <tbody>\n",
       "    <tr>\n",
       "      <th>Accuracy</th>\n",
       "      <td>0.439346</td>\n",
       "      <td>0.575030</td>\n",
       "      <td>0.568137</td>\n",
       "    </tr>\n",
       "    <tr>\n",
       "      <th>Precision</th>\n",
       "      <td>0.431006</td>\n",
       "      <td>0.560532</td>\n",
       "      <td>0.556183</td>\n",
       "    </tr>\n",
       "    <tr>\n",
       "      <th>Recall</th>\n",
       "      <td>0.431622</td>\n",
       "      <td>0.563651</td>\n",
       "      <td>0.557973</td>\n",
       "    </tr>\n",
       "    <tr>\n",
       "      <th>F1</th>\n",
       "      <td>0.431256</td>\n",
       "      <td>0.558538</td>\n",
       "      <td>0.555248</td>\n",
       "    </tr>\n",
       "  </tbody>\n",
       "</table>\n",
       "</div>"
      ],
      "text/plain": [
       "           Decision tree  Random forest   XGBoost\n",
       "Accuracy        0.439346       0.575030  0.568137\n",
       "Precision       0.431006       0.560532  0.556183\n",
       "Recall          0.431622       0.563651  0.557973\n",
       "F1              0.431256       0.558538  0.555248"
      ]
     },
     "execution_count": 67,
     "metadata": {},
     "output_type": "execute_result"
    }
   ],
   "source": [
    "#Df of all scores\n",
    "all_scores = pd.concat([dt_scores, rf_scores, xgb_scores], axis=1)\n",
    "all_scores"
   ]
  },
  {
   "cell_type": "markdown",
   "metadata": {},
   "source": [
    "> ## The model performance overall is bad. The best performing model is random forest because it has the highest accuracy. Accuracy is our criterion because overall, we mostly care about how well the model predicts the genre of a song and not particular genres."
   ]
  },
  {
   "cell_type": "markdown",
   "metadata": {},
   "source": [
    "### Plot Learning Curve"
   ]
  },
  {
   "cell_type": "code",
   "execution_count": 68,
   "metadata": {},
   "outputs": [
    {
     "data": {
      "image/png": "[encoded data removed]",
      "text/plain": [
       "<Figure size 360x360 with 1 Axes>"
      ]
     },
     "metadata": {
      "needs_background": "light"
     },
     "output_type": "display_data"
    }
   ],
   "source": [
    "#learning curve\n",
    "learning_curve_plot(rf, X_train, y_train, \"accuracy\")"
   ]
  },
  {
   "cell_type": "markdown",
   "metadata": {},
   "source": [
    "> ## Our model is overfitting and the variance is high."
   ]
  },
  {
   "cell_type": "markdown",
   "metadata": {},
   "source": [
    "### Feature Importance"
   ]
  },
  {
   "cell_type": "code",
   "execution_count": 69,
   "metadata": {},
   "outputs": [
    {
     "data": {
      "application/vnd.plotly.v1+json": {
       "config": {
        "plotlyServerURL": "https://plot.ly"
       },
       "data": [
        {
         "alignmentgroup": "True",
         "hovertemplate": "Feature=%{x}<br>Importance=%{y}<extra></extra>",
         "legendgroup": "tempo",
         "marker": {
          "color": "#636efa",
          "pattern": {
           "shape": ""
          }
         },
         "name": "tempo",
         "offsetgroup": "tempo",
         "orientation": "v",
         "showlegend": true,
         "textposition": "auto",
         "type": "bar",
         "x": [
          "tempo"
         ],
         "xaxis": "x",
         "y": [
          0.11404532700797282
         ],
         "yaxis": "y"
        },
        {
         "alignmentgroup": "True",
         "hovertemplate": "Feature=%{x}<br>Importance=%{y}<extra></extra>",
         "legendgroup": "speechiness",
         "marker": {
          "color": "#EF553B",
          "pattern": {
           "shape": ""
          }
         },
         "name": "speechiness",
         "offsetgroup": "speechiness",
         "orientation": "v",
         "showlegend": true,
         "textposition": "auto",
         "type": "bar",
         "x": [
          "speechiness"
         ],
         "xaxis": "x",
         "y": [
          0.11304265810529787
         ],
         "yaxis": "y"
        },
        {
         "alignmentgroup": "True",
         "hovertemplate": "Feature=%{x}<br>Importance=%{y}<extra></extra>",
         "legendgroup": "danceability",
         "marker": {
          "color": "#00cc96",
          "pattern": {
           "shape": ""
          }
         },
         "name": "danceability",
         "offsetgroup": "danceability",
         "orientation": "v",
         "showlegend": true,
         "textposition": "auto",
         "type": "bar",
         "x": [
          "danceability"
         ],
         "xaxis": "x",
         "y": [
          0.10531323919783175
         ],
         "yaxis": "y"
        },
        {
         "alignmentgroup": "True",
         "hovertemplate": "Feature=%{x}<br>Importance=%{y}<extra></extra>",
         "legendgroup": "energy",
         "marker": {
          "color": "#ab63fa",
          "pattern": {
           "shape": ""
          }
         },
         "name": "energy",
         "offsetgroup": "energy",
         "orientation": "v",
         "showlegend": true,
         "textposition": "auto",
         "type": "bar",
         "x": [
          "energy"
         ],
         "xaxis": "x",
         "y": [
          0.0894179521009744
         ],
         "yaxis": "y"
        },
        {
         "alignmentgroup": "True",
         "hovertemplate": "Feature=%{x}<br>Importance=%{y}<extra></extra>",
         "legendgroup": "acousticness",
         "marker": {
          "color": "#FFA15A",
          "pattern": {
           "shape": ""
          }
         },
         "name": "acousticness",
         "offsetgroup": "acousticness",
         "orientation": "v",
         "showlegend": true,
         "textposition": "auto",
         "type": "bar",
         "x": [
          "acousticness"
         ],
         "xaxis": "x",
         "y": [
          0.08403848749365676
         ],
         "yaxis": "y"
        },
        {
         "alignmentgroup": "True",
         "hovertemplate": "Feature=%{x}<br>Importance=%{y}<extra></extra>",
         "legendgroup": "duration_ms",
         "marker": {
          "color": "#19d3f3",
          "pattern": {
           "shape": ""
          }
         },
         "name": "duration_ms",
         "offsetgroup": "duration_ms",
         "orientation": "v",
         "showlegend": true,
         "textposition": "auto",
         "type": "bar",
         "x": [
          "duration_ms"
         ],
         "xaxis": "x",
         "y": [
          0.08346861772090373
         ],
         "yaxis": "y"
        },
        {
         "alignmentgroup": "True",
         "hovertemplate": "Feature=%{x}<br>Importance=%{y}<extra></extra>",
         "legendgroup": "valence",
         "marker": {
          "color": "#FF6692",
          "pattern": {
           "shape": ""
          }
         },
         "name": "valence",
         "offsetgroup": "valence",
         "orientation": "v",
         "showlegend": true,
         "textposition": "auto",
         "type": "bar",
         "x": [
          "valence"
         ],
         "xaxis": "x",
         "y": [
          0.0822719606609946
         ],
         "yaxis": "y"
        },
        {
         "alignmentgroup": "True",
         "hovertemplate": "Feature=%{x}<br>Importance=%{y}<extra></extra>",
         "legendgroup": "loudness",
         "marker": {
          "color": "#B6E880",
          "pattern": {
           "shape": ""
          }
         },
         "name": "loudness",
         "offsetgroup": "loudness",
         "orientation": "v",
         "showlegend": true,
         "textposition": "auto",
         "type": "bar",
         "x": [
          "loudness"
         ],
         "xaxis": "x",
         "y": [
          0.0777720542269604
         ],
         "yaxis": "y"
        },
        {
         "alignmentgroup": "True",
         "hovertemplate": "Feature=%{x}<br>Importance=%{y}<extra></extra>",
         "legendgroup": "instrumentalness",
         "marker": {
          "color": "#FF97FF",
          "pattern": {
           "shape": ""
          }
         },
         "name": "instrumentalness",
         "offsetgroup": "instrumentalness",
         "orientation": "v",
         "showlegend": true,
         "textposition": "auto",
         "type": "bar",
         "x": [
          "instrumentalness"
         ],
         "xaxis": "x",
         "y": [
          0.071939007731726
         ],
         "yaxis": "y"
        },
        {
         "alignmentgroup": "True",
         "hovertemplate": "Feature=%{x}<br>Importance=%{y}<extra></extra>",
         "legendgroup": "track_popularity",
         "marker": {
          "color": "#FECB52",
          "pattern": {
           "shape": ""
          }
         },
         "name": "track_popularity",
         "offsetgroup": "track_popularity",
         "orientation": "v",
         "showlegend": true,
         "textposition": "auto",
         "type": "bar",
         "x": [
          "track_popularity"
         ],
         "xaxis": "x",
         "y": [
          0.06550767599900056
         ],
         "yaxis": "y"
        }
       ],
       "layout": {
        "barmode": "relative",
        "legend": {
         "title": {
          "text": "Feature"
         },
         "tracegroupgap": 0
        },
        "showlegend": false,
        "template": {
         "data": {
          "bar": [
           {
            "error_x": {
             "color": "#2a3f5f"
            },
            "error_y": {
             "color": "#2a3f5f"
            },
            "marker": {
             "line": {
              "color": "#E5ECF6",
              "width": 0.5
             },
             "pattern": {
              "fillmode": "overlay",
              "size": 10,
              "solidity": 0.2
             }
            },
            "type": "bar"
           }
          ],
          "barpolar": [
           {
            "marker": {
             "line": {
              "color": "#E5ECF6",
              "width": 0.5
             },
             "pattern": {
              "fillmode": "overlay",
              "size": 10,
              "solidity": 0.2
             }
            },
            "type": "barpolar"
           }
          ],
          "carpet": [
           {
            "aaxis": {
             "endlinecolor": "#2a3f5f",
             "gridcolor": "white",
             "linecolor": "white",
             "minorgridcolor": "white",
             "startlinecolor": "#2a3f5f"
            },
            "baxis": {
             "endlinecolor": "#2a3f5f",
             "gridcolor": "white",
             "linecolor": "white",
             "minorgridcolor": "white",
             "startlinecolor": "#2a3f5f"
            },
            "type": "carpet"
           }
          ],
          "choropleth": [
           {
            "colorbar": {
             "outlinewidth": 0,
             "ticks": ""
            },
            "type": "choropleth"
           }
          ],
          "contour": [
           {
            "colorbar": {
             "outlinewidth": 0,
             "ticks": ""
            },
            "colorscale": [
             [
              0,
              "#0d0887"
             ],
             [
              0.1111111111111111,
              "#46039f"
             ],
             [
              0.2222222222222222,
              "#7201a8"
             ],
             [
              0.3333333333333333,
              "#9c179e"
             ],
             [
              0.4444444444444444,
              "#bd3786"
             ],
             [
              0.5555555555555556,
              "#d8576b"
             ],
             [
              0.6666666666666666,
              "#ed7953"
             ],
             [
              0.7777777777777778,
              "#fb9f3a"
             ],
             [
              0.8888888888888888,
              "#fdca26"
             ],
             [
              1,
              "#f0f921"
             ]
            ],
            "type": "contour"
           }
          ],
          "contourcarpet": [
           {
            "colorbar": {
             "outlinewidth": 0,
             "ticks": ""
            },
            "type": "contourcarpet"
           }
          ],
          "heatmap": [
           {
            "colorbar": {
             "outlinewidth": 0,
             "ticks": ""
            },
            "colorscale": [
             [
              0,
              "#0d0887"
             ],
             [
              0.1111111111111111,
              "#46039f"
             ],
             [
              0.2222222222222222,
              "#7201a8"
             ],
             [
              0.3333333333333333,
              "#9c179e"
             ],
             [
              0.4444444444444444,
              "#bd3786"
             ],
             [
              0.5555555555555556,
              "#d8576b"
             ],
             [
              0.6666666666666666,
              "#ed7953"
             ],
             [
              0.7777777777777778,
              "#fb9f3a"
             ],
             [
              0.8888888888888888,
              "#fdca26"
             ],
             [
              1,
              "#f0f921"
             ]
            ],
            "type": "heatmap"
           }
          ],
          "heatmapgl": [
           {
            "colorbar": {
             "outlinewidth": 0,
             "ticks": ""
            },
            "colorscale": [
             [
              0,
              "#0d0887"
             ],
             [
              0.1111111111111111,
              "#46039f"
             ],
             [
              0.2222222222222222,
              "#7201a8"
             ],
             [
              0.3333333333333333,
              "#9c179e"
             ],
             [
              0.4444444444444444,
              "#bd3786"
             ],
             [
              0.5555555555555556,
              "#d8576b"
             ],
             [
              0.6666666666666666,
              "#ed7953"
             ],
             [
              0.7777777777777778,
              "#fb9f3a"
             ],
             [
              0.8888888888888888,
              "#fdca26"
             ],
             [
              1,
              "#f0f921"
             ]
            ],
            "type": "heatmapgl"
           }
          ],
          "histogram": [
           {
            "marker": {
             "pattern": {
              "fillmode": "overlay",
              "size": 10,
              "solidity": 0.2
             }
            },
            "type": "histogram"
           }
          ],
          "histogram2d": [
           {
            "colorbar": {
             "outlinewidth": 0,
             "ticks": ""
            },
            "colorscale": [
             [
              0,
              "#0d0887"
             ],
             [
              0.1111111111111111,
              "#46039f"
             ],
             [
              0.2222222222222222,
              "#7201a8"
             ],
             [
              0.3333333333333333,
              "#9c179e"
             ],
             [
              0.4444444444444444,
              "#bd3786"
             ],
             [
              0.5555555555555556,
              "#d8576b"
             ],
             [
              0.6666666666666666,
              "#ed7953"
             ],
             [
              0.7777777777777778,
              "#fb9f3a"
             ],
             [
              0.8888888888888888,
              "#fdca26"
             ],
             [
              1,
              "#f0f921"
             ]
            ],
            "type": "histogram2d"
           }
          ],
          "histogram2dcontour": [
           {
            "colorbar": {
             "outlinewidth": 0,
             "ticks": ""
            },
            "colorscale": [
             [
              0,
              "#0d0887"
             ],
             [
              0.1111111111111111,
              "#46039f"
             ],
             [
              0.2222222222222222,
              "#7201a8"
             ],
             [
              0.3333333333333333,
              "#9c179e"
             ],
             [
              0.4444444444444444,
              "#bd3786"
             ],
             [
              0.5555555555555556,
              "#d8576b"
             ],
             [
              0.6666666666666666,
              "#ed7953"
             ],
             [
              0.7777777777777778,
              "#fb9f3a"
             ],
             [
              0.8888888888888888,
              "#fdca26"
             ],
             [
              1,
              "#f0f921"
             ]
            ],
            "type": "histogram2dcontour"
           }
          ],
          "mesh3d": [
           {
            "colorbar": {
             "outlinewidth": 0,
             "ticks": ""
            },
            "type": "mesh3d"
           }
          ],
          "parcoords": [
           {
            "line": {
             "colorbar": {
              "outlinewidth": 0,
              "ticks": ""
             }
            },
            "type": "parcoords"
           }
          ],
          "pie": [
           {
            "automargin": true,
            "type": "pie"
           }
          ],
          "scatter": [
           {
            "marker": {
             "colorbar": {
              "outlinewidth": 0,
              "ticks": ""
             }
            },
            "type": "scatter"
           }
          ],
          "scatter3d": [
           {
            "line": {
             "colorbar": {
              "outlinewidth": 0,
              "ticks": ""
             }
            },
            "marker": {
             "colorbar": {
              "outlinewidth": 0,
              "ticks": ""
             }
            },
            "type": "scatter3d"
           }
          ],
          "scattercarpet": [
           {
            "marker": {
             "colorbar": {
              "outlinewidth": 0,
              "ticks": ""
             }
            },
            "type": "scattercarpet"
           }
          ],
          "scattergeo": [
           {
            "marker": {
             "colorbar": {
              "outlinewidth": 0,
              "ticks": ""
             }
            },
            "type": "scattergeo"
           }
          ],
          "scattergl": [
           {
            "marker": {
             "colorbar": {
              "outlinewidth": 0,
              "ticks": ""
             }
            },
            "type": "scattergl"
           }
          ],
          "scattermapbox": [
           {
            "marker": {
             "colorbar": {
              "outlinewidth": 0,
              "ticks": ""
             }
            },
            "type": "scattermapbox"
           }
          ],
          "scatterpolar": [
           {
            "marker": {
             "colorbar": {
              "outlinewidth": 0,
              "ticks": ""
             }
            },
            "type": "scatterpolar"
           }
          ],
          "scatterpolargl": [
           {
            "marker": {
             "colorbar": {
              "outlinewidth": 0,
              "ticks": ""
             }
            },
            "type": "scatterpolargl"
           }
          ],
          "scatterternary": [
           {
            "marker": {
             "colorbar": {
              "outlinewidth": 0,
              "ticks": ""
             }
            },
            "type": "scatterternary"
           }
          ],
          "surface": [
           {
            "colorbar": {
             "outlinewidth": 0,
             "ticks": ""
            },
            "colorscale": [
             [
              0,
              "#0d0887"
             ],
             [
              0.1111111111111111,
              "#46039f"
             ],
             [
              0.2222222222222222,
              "#7201a8"
             ],
             [
              0.3333333333333333,
              "#9c179e"
             ],
             [
              0.4444444444444444,
              "#bd3786"
             ],
             [
              0.5555555555555556,
              "#d8576b"
             ],
             [
              0.6666666666666666,
              "#ed7953"
             ],
             [
              0.7777777777777778,
              "#fb9f3a"
             ],
             [
              0.8888888888888888,
              "#fdca26"
             ],
             [
              1,
              "#f0f921"
             ]
            ],
            "type": "surface"
           }
          ],
          "table": [
           {
            "cells": {
             "fill": {
              "color": "#EBF0F8"
             },
             "line": {
              "color": "white"
             }
            },
            "header": {
             "fill": {
              "color": "#C8D4E3"
             },
             "line": {
              "color": "white"
             }
            },
            "type": "table"
           }
          ]
         },
         "layout": {
          "annotationdefaults": {
           "arrowcolor": "#2a3f5f",
           "arrowhead": 0,
           "arrowwidth": 1
          },
          "autotypenumbers": "strict",
          "coloraxis": {
           "colorbar": {
            "outlinewidth": 0,
            "ticks": ""
           }
          },
          "colorscale": {
           "diverging": [
            [
             0,
             "#8e0152"
            ],
            [
             0.1,
             "#c51b7d"
            ],
            [
             0.2,
             "#de77ae"
            ],
            [
             0.3,
             "#f1b6da"
            ],
            [
             0.4,
             "#fde0ef"
            ],
            [
             0.5,
             "#f7f7f7"
            ],
            [
             0.6,
             "#e6f5d0"
            ],
            [
             0.7,
             "#b8e186"
            ],
            [
             0.8,
             "#7fbc41"
            ],
            [
             0.9,
             "#4d9221"
            ],
            [
             1,
             "#276419"
            ]
           ],
           "sequential": [
            [
             0,
             "#0d0887"
            ],
            [
             0.1111111111111111,
             "#46039f"
            ],
            [
             0.2222222222222222,
             "#7201a8"
            ],
            [
             0.3333333333333333,
             "#9c179e"
            ],
            [
             0.4444444444444444,
             "#bd3786"
            ],
            [
             0.5555555555555556,
             "#d8576b"
            ],
            [
             0.6666666666666666,
             "#ed7953"
            ],
            [
             0.7777777777777778,
             "#fb9f3a"
            ],
            [
             0.8888888888888888,
             "#fdca26"
            ],
            [
             1,
             "#f0f921"
            ]
           ],
           "sequentialminus": [
            [
             0,
             "#0d0887"
            ],
            [
             0.1111111111111111,
             "#46039f"
            ],
            [
             0.2222222222222222,
             "#7201a8"
            ],
            [
             0.3333333333333333,
             "#9c179e"
            ],
            [
             0.4444444444444444,
             "#bd3786"
            ],
            [
             0.5555555555555556,
             "#d8576b"
            ],
            [
             0.6666666666666666,
             "#ed7953"
            ],
            [
             0.7777777777777778,
             "#fb9f3a"
            ],
            [
             0.8888888888888888,
             "#fdca26"
            ],
            [
             1,
             "#f0f921"
            ]
           ]
          },
          "colorway": [
           "#636efa",
           "#EF553B",
           "#00cc96",
           "#ab63fa",
           "#FFA15A",
           "#19d3f3",
           "#FF6692",
           "#B6E880",
           "#FF97FF",
           "#FECB52"
          ],
          "font": {
           "color": "#2a3f5f"
          },
          "geo": {
           "bgcolor": "white",
           "lakecolor": "white",
           "landcolor": "#E5ECF6",
           "showlakes": true,
           "showland": true,
           "subunitcolor": "white"
          },
          "hoverlabel": {
           "align": "left"
          },
          "hovermode": "closest",
          "mapbox": {
           "style": "light"
          },
          "paper_bgcolor": "white",
          "plot_bgcolor": "#E5ECF6",
          "polar": {
           "angularaxis": {
            "gridcolor": "white",
            "linecolor": "white",
            "ticks": ""
           },
           "bgcolor": "#E5ECF6",
           "radialaxis": {
            "gridcolor": "white",
            "linecolor": "white",
            "ticks": ""
           }
          },
          "scene": {
           "xaxis": {
            "backgroundcolor": "#E5ECF6",
            "gridcolor": "white",
            "gridwidth": 2,
            "linecolor": "white",
            "showbackground": true,
            "ticks": "",
            "zerolinecolor": "white"
           },
           "yaxis": {
            "backgroundcolor": "#E5ECF6",
            "gridcolor": "white",
            "gridwidth": 2,
            "linecolor": "white",
            "showbackground": true,
            "ticks": "",
            "zerolinecolor": "white"
           },
           "zaxis": {
            "backgroundcolor": "#E5ECF6",
            "gridcolor": "white",
            "gridwidth": 2,
            "linecolor": "white",
            "showbackground": true,
            "ticks": "",
            "zerolinecolor": "white"
           }
          },
          "shapedefaults": {
           "line": {
            "color": "#2a3f5f"
           }
          },
          "ternary": {
           "aaxis": {
            "gridcolor": "white",
            "linecolor": "white",
            "ticks": ""
           },
           "baxis": {
            "gridcolor": "white",
            "linecolor": "white",
            "ticks": ""
           },
           "bgcolor": "#E5ECF6",
           "caxis": {
            "gridcolor": "white",
            "linecolor": "white",
            "ticks": ""
           }
          },
          "title": {
           "x": 0.05
          },
          "xaxis": {
           "automargin": true,
           "gridcolor": "white",
           "linecolor": "white",
           "ticks": "",
           "title": {
            "standoff": 15
           },
           "zerolinecolor": "white",
           "zerolinewidth": 2
          },
          "yaxis": {
           "automargin": true,
           "gridcolor": "white",
           "linecolor": "white",
           "ticks": "",
           "title": {
            "standoff": 15
           },
           "zerolinecolor": "white",
           "zerolinewidth": 2
          }
         }
        },
        "title": {
         "text": "Feature importances"
        },
        "xaxis": {
         "anchor": "y",
         "categoryarray": [
          "tempo",
          "speechiness",
          "danceability",
          "energy",
          "acousticness",
          "duration_ms",
          "valence",
          "loudness",
          "instrumentalness",
          "track_popularity"
         ],
         "categoryorder": "array",
         "domain": [
          0,
          1
         ],
         "title": {
          "text": "Feature"
         }
        },
        "yaxis": {
         "anchor": "x",
         "domain": [
          0,
          1
         ],
         "title": {
          "text": "Importance"
         }
        }
       }
      }
     },
     "metadata": {},
     "output_type": "display_data"
    }
   ],
   "source": [
    "# Feature importance plot\n",
    "feature_importance_plot(rf, X_train)"
   ]
  },
  {
   "cell_type": "markdown",
   "metadata": {},
   "source": [
    "### Remove Outliers"
   ]
  },
  {
   "cell_type": "code",
   "execution_count": 70,
   "metadata": {},
   "outputs": [],
   "source": [
    "#remove outliers of all the features\n",
    "for i in songs_data_cleaned.columns: \n",
    "    upper_limit = songs_data_cleaned[i].mean() + 3*songs_data_cleaned[i].std()\n",
    "    lower_limit = songs_data_cleaned[i].mean() - 3*songs_data_cleaned[i].std()\n",
    "    songs_data_cleaned=songs_data_cleaned[(songs_data_cleaned[i]>=lower_limit) &(songs_data_cleaned[i]<=upper_limit)]\n",
    "    "
   ]
  },
  {
   "cell_type": "code",
   "execution_count": 71,
   "metadata": {},
   "outputs": [],
   "source": [
    "#define target and features variables\n",
    "target = songs_data_cleaned.genre_encoded #y\n",
    "features = songs_data_cleaned.drop(['genre_encoded'], axis = 1) #X"
   ]
  },
  {
   "cell_type": "code",
   "execution_count": 72,
   "metadata": {},
   "outputs": [],
   "source": [
    "#split dataset\n",
    "X_train, X_test, y_train, y_test = train_test_split(features,\n",
    "                                                    target,\n",
    "                                                    random_state=0,\n",
    "                                                    test_size=0.2)\n"
   ]
  },
  {
   "cell_type": "code",
   "execution_count": 73,
   "metadata": {},
   "outputs": [
    {
     "name": "stdout",
     "output_type": "stream",
     "text": [
      "Training Data\n",
      "X_train shape:  (17495, 13)\n",
      "y_train shape:  (17495,)\n"
     ]
    }
   ],
   "source": [
    "#print the shape of training data\n",
    "print(\"Training Data\")\n",
    "print(\"X_train shape: \", X_train.shape)\n",
    "print(\"y_train shape: \", y_train.shape)"
   ]
  },
  {
   "cell_type": "markdown",
   "metadata": {},
   "source": [
    "<div class=\"alert alert-block alert-info\"> <b>Findings: </b> Treating outliers removed around 6000 rows.</div>"
   ]
  },
  {
   "cell_type": "markdown",
   "metadata": {},
   "source": [
    "### Build Random Forrest Model without Outliers"
   ]
  },
  {
   "cell_type": "code",
   "execution_count": 74,
   "metadata": {},
   "outputs": [
    {
     "data": {
      "text/plain": [
       "RandomForestClassifier()"
      ]
     },
     "execution_count": 74,
     "metadata": {},
     "output_type": "execute_result"
    }
   ],
   "source": [
    "# Build the model\n",
    "rf = RandomForestClassifier()\n",
    "rf.fit(X_train, y_train)"
   ]
  },
  {
   "cell_type": "code",
   "execution_count": 75,
   "metadata": {},
   "outputs": [],
   "source": [
    "# Make predictions and call this variable y_pred_dt\n",
    "y_pred_rf = rf.predict(X_test)"
   ]
  },
  {
   "cell_type": "code",
   "execution_count": 76,
   "metadata": {},
   "outputs": [
    {
     "name": "stdout",
     "output_type": "stream",
     "text": [
      "first five predicted values: [0 4 1 5 1]\n",
      "first five actual values: [0, 4, 3, 5, 1]\n"
     ]
    }
   ],
   "source": [
    "# Optional: Print the first five predicted vs actual values\n",
    "print_5(y_pred_rf, y_test)"
   ]
  },
  {
   "cell_type": "code",
   "execution_count": 77,
   "metadata": {
    "scrolled": true
   },
   "outputs": [
    {
     "name": "stdout",
     "output_type": "stream",
     "text": [
      "Results of the Decision Tree Model:\n",
      "Accuracy Score: 0.56\n",
      "Precision Score: 0.55\n",
      "Recall Score: 0.56\n",
      "F1 Score: 0.55\n"
     ]
    }
   ],
   "source": [
    "#print scores of random forest model\n",
    "rf_scores = print_scores(\"Random forest\", y_pred_rf, y_test)"
   ]
  },
  {
   "cell_type": "code",
   "execution_count": 78,
   "metadata": {},
   "outputs": [
    {
     "name": "stdout",
     "output_type": "stream",
     "text": [
      "Model:  RandomForestClassifier()\n",
      "              precision    recall  f1-score   support\n",
      "\n",
      "           0       0.65      0.65      0.65       733\n",
      "           1       0.52      0.42      0.47       678\n",
      "           2       0.39      0.35      0.37       740\n",
      "           3       0.51      0.50      0.51       735\n",
      "           4       0.60      0.69      0.64       808\n",
      "           5       0.64      0.72      0.68       680\n",
      "\n",
      "    accuracy                           0.56      4374\n",
      "   macro avg       0.55      0.56      0.55      4374\n",
      "weighted avg       0.55      0.56      0.55      4374\n",
      "\n",
      "\n",
      "\n"
     ]
    }
   ],
   "source": [
    "#print scores of model for each genre\n",
    "evaluate_model(rf, y_test, y_pred_rf)"
   ]
  },
  {
   "cell_type": "code",
   "execution_count": 79,
   "metadata": {},
   "outputs": [
    {
     "data": {
      "image/png": "[encoded data removed]",
      "text/plain": [
       "<Figure size 720x576 with 2 Axes>"
      ]
     },
     "metadata": {
      "needs_background": "light"
     },
     "output_type": "display_data"
    }
   ],
   "source": [
    "#plot confusion matrix\n",
    "plot_confusion_matrix(rf, \"Decision trees\", y_test, y_pred_rf, encoder=label_encoder)"
   ]
  },
  {
   "cell_type": "code",
   "execution_count": 80,
   "metadata": {},
   "outputs": [
    {
     "data": {
      "text/plain": [
       "['../model/best_model']"
      ]
     },
     "execution_count": 80,
     "metadata": {},
     "output_type": "execute_result"
    }
   ],
   "source": [
    "#Save model\n",
    "filename = \"../model/best_model\"\n",
    "joblib.dump(rf, filename)"
   ]
  },
  {
   "cell_type": "markdown",
   "metadata": {},
   "source": [
    "<div class=\"alert alert-block alert-danger\"> <b>Consequence: </b> Removing the outliers has made the performance worse. </div>"
   ]
  },
  {
   "cell_type": "markdown",
   "metadata": {},
   "source": [
    "---"
   ]
  },
  {
   "cell_type": "markdown",
   "metadata": {},
   "source": [
    "# <span style=\"color:blue\">Conclusions and Implementation</span>"
   ]
  },
  {
   "cell_type": "markdown",
   "metadata": {},
   "source": [
    "### Conclusions & Main Take-Aways"
   ]
  },
  {
   "cell_type": "markdown",
   "metadata": {},
   "source": [
    "> ### 🎶 Even though none of the models predicts all genres accurately, the best performing one is Random Forest.\n",
    "<br>\n",
    "\n",
    "> ### 🎶 The most important features to predict the `genre` are speechiness, tempo, deanceability, energy and valence.\n",
    "<br>\n",
    "\n",
    "> ### 🎶 Model's Pro: Our model performs better when classifying `rock`and `edm`.\n",
    "> ### 🎶 Model's Con: Our model performs especially badly when classifying all other genres.\n",
    "<br>\n",
    "\n",
    "> ### 🎶 Based on the genres' soundwaves, we could discover that `rock`and `edm` are visibly different in comparison to the other genres. This could be interesting to explore further."
   ]
  },
  {
   "cell_type": "markdown",
   "metadata": {},
   "source": [
    "### Limitations"
   ]
  },
  {
   "cell_type": "markdown",
   "metadata": {},
   "source": [
    "> ### 🎶 Data quality ➡️ We had to drop around a third due to corrupted data.\n",
    "> ### 🎶 Time ➡️ Not enough time to develop a robust model and explore identified potential for amelioration.\n",
    "> ### 🎶 There are many more relevant `genres` in music existing. This model already performs badly when classifying between 6 `genres`. With more `genres`, it would perform even worse.\n",
    "> ### 🎶 Characteristics of music change throughout the song but our measures are static. Just using an average value per feature could be insufficient to use as a criterion to predict genres."
   ]
  },
  {
   "cell_type": "markdown",
   "metadata": {},
   "source": [
    "### Next Steps"
   ]
  },
  {
   "cell_type": "markdown",
   "metadata": {},
   "source": [
    "> ### 🎶 Currently, the model's performance is too bad to be implemented. More feature engineering could help.\n",
    "<br>\n",
    "\n",
    "> ### 🎶 Suggestion for our client:\n",
    "    > #### 1. Force artists or management to only be able to upload their music always with a label.\n",
    "    > #### 2. Let the machine and human work collaboratively. When the machine is less than x % sure about the accuracy of a label, a human can review it and correct the machine's decision if needed.\n",
    "    > #### 3. Let non-premium users label genres.\n",
    "<br>\n",
    "    \n",
    "> ### 🎶 Using our model on unlabelled data cannot be considered for now, as performance is insufficient."
   ]
  }
 ],
 "metadata": {
  "kernelspec": {
   "display_name": "Python 3.9.7 ('base')",
   "language": "python",
   "name": "python3"
  },
  "language_info": {
   "codemirror_mode": {
    "name": "ipython",
    "version": 3
   },
   "file_extension": ".py",
   "mimetype": "text/x-python",
   "name": "python",
   "nbconvert_exporter": "python",
   "pygments_lexer": "ipython3",
   "version": "3.9.7"
  },
  "vscode": {
   "interpreter": {
    "hash": "0275891f3d8edd46f46269d4dc0d04de85c1f9389bc065f45e66cd0508e7b5a9"
   }
  }
 },
 "nbformat": 4,
 "nbformat_minor": 2
}
